{
 "cells": [
  {
   "cell_type": "markdown",
   "metadata": {},
   "source": [
    "# Configuration"
   ]
  },
  {
   "cell_type": "markdown",
   "metadata": {},
   "source": [
    "### Calling the functions, libraries and objects"
   ]
  },
  {
   "cell_type": "code",
   "execution_count": 1,
   "metadata": {},
   "outputs": [],
   "source": [
    "from utils.libraries import *\n",
    "from utils.objects import *\n",
    "from utils.functions import *\n",
    "from definitions import *"
   ]
  },
  {
   "cell_type": "markdown",
   "metadata": {},
   "source": [
    "### Setting up the configuration"
   ]
  },
  {
   "cell_type": "code",
   "execution_count": 6,
   "metadata": {},
   "outputs": [],
   "source": [
    "## Date varialbes\n",
    "years = 20\n",
    "period=\"W\"\n",
    "cutoff_date=datetime.today().strftime('%Y-%m-%d')\n",
    "Ymd_str = datetime.today().strftime('%Y%m%d')\n",
    "Ym_str = datetime.today().strftime('%Y%m')\n",
    "Y_str = datetime.today().strftime('%Y')\n",
    "timeframe = 365*years\n",
    "today = datetime.today()\n",
    "end = today.strftime(\"%Y-%m-%d\")\n",
    "start = (today - dt.timedelta(days=timeframe)).strftime(\"%Y-%m-%d\")\n",
    "periods = period\n",
    "\n",
    "## Config varialbes\n",
    "ROOT_PATH = Path(ROOT_PATH)\n",
    "config_paths = [\n",
    "    \"config\\Market_Data_Config.csv\",\n",
    "    \"config\\Economic_Data_Config.csv\",\n",
    "    \"config\\Calc_Data_Config.csv\"]\n",
    "market_config = ROOT_PATH.joinpath(config_paths[0])\n",
    "economic_config = ROOT_PATH.joinpath(config_paths[1]).abspath()\n",
    "calc_config = ROOT_PATH.joinpath(config_paths[2]).abspath()\n",
    "target_list = pd.read_csv(market_config, sep=\";\", header=0).loc[:, \"Codigo\"].to_list()\n",
    "markets_used = pd.read_csv(market_config, sep=\";\", header=0).loc[:, \"Codigo\"].to_list()\n",
    "markets_remove = pd.read_csv(market_config, sep=\";\", header=0).loc[:, \"Market\"].to_list()\n",
    "# markets_used = ['SPY', 'GDX', 'BND']\n",
    "target = \"Financials\"\n",
    "seed = 2  # ML random seed\n",
    "extract = True\n",
    "cross_val=5\n",
    "medidas = [\"mean\", \"median\", \"mode\", \"Min\", \"Percentil_25\", \"Percentil_75\",\"Max\", \"var\", \"std\", \"skew\", \"kurt\"]\n",
    "extract = True"
   ]
  },
  {
   "cell_type": "markdown",
   "metadata": {},
   "source": [
    "### Creating the necessary folders"
   ]
  },
  {
   "cell_type": "code",
   "execution_count": 7,
   "metadata": {},
   "outputs": [
    {
     "name": "stdout",
     "output_type": "stream",
     "text": [
      "No folder created: data/result/processed_data\n",
      "No folder created: data/result/prediction_data\n",
      "No folder created: model\n"
     ]
    }
   ],
   "source": [
    "## Paths variables\n",
    "PARENT_DIR = \"C:/Users/Joan Oliver/Documents/GitHub/Economic_Market_Forecasting/Economic_Market_Forecasting/EMF_webapp/src/\"\n",
    "DATA_FOLDER = \"data/result/processed_data\"\n",
    "PREDICT_FOLDER = \"data/result/prediction_data\"\n",
    "MODEL_FOLDER = \"model\"\n",
    "\n",
    "data_path = PARENT_DIR+\"/\"+ DATA_FOLDER+\"/\"+ Y_str+\"/\"+ Ym_str+\"/\"+ Ymd_str\n",
    "predict_path = PARENT_DIR+\"/\"+ PREDICT_FOLDER+\"/\"+ Y_str+\"/\"+ Ym_str+\"/\"+ Ymd_str\n",
    "model_path = PARENT_DIR+\"/\"+ MODEL_FOLDER+\"/\"+ Y_str+\"/\"+ Ym_str+\"/\"+ Ymd_str\n",
    "try:\n",
    "    os.makedirs(data_path)\n",
    "except:\n",
    "    print(\"No folder created: \"+DATA_FOLDER)\n",
    "try:\n",
    "    os.makedirs(predict_path)\n",
    "except:\n",
    "    print(\"No folder created: \"+PREDICT_FOLDER)\n",
    "try:\n",
    "    os.makedirs(model_path)\n",
    "except:\n",
    "    print(\"No folder created: \"+MODEL_FOLDER)"
   ]
  },
  {
   "cell_type": "markdown",
   "metadata": {},
   "source": [
    "# Loading and extracting the data"
   ]
  },
  {
   "cell_type": "markdown",
   "metadata": {},
   "source": [
    "### Extracting the US economic and market data"
   ]
  },
  {
   "cell_type": "code",
   "execution_count": 8,
   "metadata": {},
   "outputs": [
    {
     "name": "stdout",
     "output_type": "stream",
     "text": [
      "> Load the market data config\n",
      "> Load the economic data config\n",
      "> Setting up the indicator dictionaries\n",
      "> Extracting the indicator data\n",
      "   -->Extracting 10-Year Treasury Yield...\n",
      "   -->Extracting 2-Year Treasury Yield...\n",
      "   -->Extracting Federal Funds Effective Rate...\n",
      "   -->Extracting 1-Month Treasury Yield...\n",
      "   -->Extracting 3-Month Treasury Yield...\n",
      "   -->Extracting 5-Year Treasury Yield...\n",
      "   -->Extracting 20-Year Treasury Yield...\n",
      "   -->Extracting 30-Year Treasury Yield...\n",
      "   -->Extracting 15-Year Mortgage Rate...\n",
      "   -->Extracting 30-Year Mortgage Rate...\n",
      "   -->Extracting 10-Year Euro Gov Bond Yield...\n",
      "   -->Extracting 3-Month Euro Gov Bond Yield...\n",
      "   -->Extracting 3-Month China Gov Bond Yield...\n",
      "   -->Extracting 10-Year India Gov Bond Yield...\n",
      "   -->Extracting CPI...\n",
      "   -->Extracting PPI...\n",
      "   -->Extracting China CPI...\n",
      "   -->Extracting Europe CPI...\n",
      "   -->Extracting Unemployment Rate...\n",
      "   -->Extracting GDP...\n",
      "   -->Extracting Real GDP...\n",
      "   -->Extracting Consumer Confidence Index...\n",
      "   -->Extracting Government Debt...\n",
      "   -->Extracting Debt Service vs Disposable Income...\n",
      "   -->Extracting Credit Card Delinquency...\n",
      "   -->Extracting US Dollar Index...\n",
      "   -->Extracting Corporate Profits...\n",
      "   -->Extracting EBIT...\n",
      "   -->Extracting Retained Earnings...\n",
      "   -->Extracting VIX...\n",
      "   -->Extracting Building Permits...\n",
      "   -->Extracting Residential Property Prices...\n",
      "   -->Extracting Housing Starts...\n",
      "   -->Extracting Velocity of Money...\n",
      "   -->Extracting Retail Sales...\n",
      "   -->Extracting Industrial Production...\n",
      "Indicators Extracted: Index(['10-Year Treasury Yield', '2-Year Treasury Yield',\n",
      "       'Federal Funds Effective Rate', '1-Month Treasury Yield',\n",
      "       '3-Month Treasury Yield', '5-Year Treasury Yield',\n",
      "       '20-Year Treasury Yield', '30-Year Treasury Yield',\n",
      "       '15-Year Mortgage Rate', '30-Year Mortgage Rate',\n",
      "       '10-Year Euro Gov Bond Yield', '3-Month Euro Gov Bond Yield',\n",
      "       '3-Month China Gov Bond Yield', '10-Year India Gov Bond Yield', 'CPI',\n",
      "       'PPI', 'China CPI', 'Europe CPI', 'Unemployment Rate', 'GDP',\n",
      "       'Real GDP', 'Consumer Confidence Index', 'Government Debt',\n",
      "       'Government Debt to GDP', 'Debt Service vs Disposable Income',\n",
      "       'Credit Card Delinquency', 'US Dollar Index', 'Corporate Profits',\n",
      "       'EBIT', 'Retained Earnings', 'VIX', 'Building Permits',\n",
      "       'Residential Property Prices', 'Housing Starts', 'Velocity of Money',\n",
      "       'Retail Sales', 'Industrial Production', '3m5y', '3m10y', '2y10y',\n",
      "       '2y20y', '5y10y', '10y30y', '10yTrea30yFRM'],\n",
      "      dtype='object')\n",
      "> Extracting the market data\n",
      "[*********************100%***********************]  17 of 17 completed\n",
      "> Cleaning the indicator data\n",
      "> Cleaning market data\n",
      "Processing RandomForest\n",
      "Processing GradientBoosting\n",
      "Processing SVR\n",
      "Processing KNeighborsRegressor\n",
      "Processing XGBRegressor\n",
      "--> We choose ['RandomForest' 'XGBRegressor'] as the best models due to their high scores and rmse\n",
      "> Performing feature importance analysis\n",
      "We choose to remove 730 features\n"
     ]
    }
   ],
   "source": [
    "if extract == True:\n",
    "    # Initialize the Economic Data Analyzer class\n",
    "    eda = EconomicDataAnalyzer()\n",
    "    # Load the Market Data\n",
    "    print(\"> Load the market data config\")\n",
    "    market = eda.read_config(market_config)\n",
    "    market_dict = eda.convert_to_dictionary(markets_used=markets_used)\n",
    "    market_dict = market_dict['Market']\n",
    "    # Load the economic data config\n",
    "    print(\"> Load the economic data config\")\n",
    "    econ = eda.read_config(economic_config)\n",
    "    fred_series_dict = eda.convert_to_dictionary(markets_used=None)\n",
    "    fred_series_dict = fred_series_dict[\"Indicador\"]\n",
    "    calc = eda.read_config(calc_config)\n",
    "    series_calc_dict = eda.convert_to_dictionary(markets_used=None)\n",
    "    series_calc_dict = series_calc_dict[\"Indicador\"]\n",
    "    # Setting up the indicator dictionaries\n",
    "    print(\"> Setting up the indicator dictionaries\")\n",
    "    indicators = {}\n",
    "    for ind in list(econ[\"Tipo\"].unique()):\n",
    "        indicators[ind] = econ[econ[\"Tipo\"] == ind][\"Indicador\"].to_list()\n",
    "    if extract == True:\n",
    "        # Extracting the indicator data\n",
    "        print(\"> Extracting the indicator data\")\n",
    "        indicators_df = eda.indicator_extraction(fred_series_dict, series_calc_dict, root_path=ROOT_PATH)\n",
    "        # Extracting the market data\n",
    "        print(\"> Extracting the market data\")\n",
    "        stocks = list(market_dict.keys())\n",
    "        market_df = eda.market_extraction(stocks, start, end, root_path=ROOT_PATH)\n",
    "    else:\n",
    "        print(\"No data extraction, reading data from data file\")\n",
    "        path = ROOT_PATH.joinpath('data', 'raw', 'indicators_df.csv')\n",
    "        indicators_df = pd.read_csv(path)\n",
    "        path = ROOT_PATH.joinpath('data', 'raw', 'market_df.csv')\n",
    "        market_df = pd.read_csv(path)\n",
    "    ### Extracting the EU economic and market data\n",
    "    # ## Extracting European economic data\n",
    "    # import eurostat\n",
    "    # #### EU Yield Curve\n",
    "    # yield_curve = eurostat.get_data_df(\"irt_euryld_d\")\n",
    "    # yld_crv = yield_curve.loc[(~yield_curve[\"bonds\"].str.contains(\"AAA\")) & (yield_curve[\"yld_curv\"].str.contains(\"INS_FWD\")) & (~yield_curve[\"maturity\"].str.contains(\"M\")),:]\n",
    "    # yld_crv.set_index(\"maturity\", inplace=True)\n",
    "    # yld_crv[\"maturity_int\"] = yld_crv.index.str.split(\"Y\").str[1].astype(int)\n",
    "    # yld_crv.sort_values(\"maturity_int\",ascending=True, inplace=True)\n",
    "    # yld_crv.drop([\"maturity_int\"], axis=1, inplace=True)\n",
    "    # yld_crv = yld_crv.T\n",
    "    # yld_crv = yld_crv.loc[yld_crv.index.drop([\"freq\",'yld_curv', 'bonds', 'geo\\TIME_PERIOD'])]\n",
    "    # yld_crv.index = pd.to_datetime(yld_crv.index)\n",
    "    # yld_lst = []\n",
    "    # for yld in yld_crv.columns:\n",
    "    #     yld_lst.append(f\"EU_yield_{yld}\")\n",
    "    # yld_crv.set_axis(yld_lst, axis=1, inplace=True)\n",
    "    # intr_inds = pd.merge(indicators_df, yld_crv, left_index=True, right_index=True)\n",
    "    # #### EU HICP\n",
    "    # hicp = eurostat.get_data_df(\"PRC_HICP_MIDX\")\n",
    "    # hicp = hicp.loc[(hicp[\"geo\\TIME_PERIOD\"] == \"EU\") & (hicp[\"coicop\"] == \"CP00\") & (hicp[\"unit\"] == \"I15\"),:].T\n",
    "    # hicp.drop([\"freq\", \"geo\\TIME_PERIOD\", \"coicop\", \"unit\"], axis=0, inplace=True)\n",
    "    # hicp.set_axis([\"EU CPI\"], axis=1, inplace=True)\n",
    "    # hicp.index = pd.to_datetime(hicp.index)\n",
    "    # intr_inds = pd.merge(intr_inds, hicp, left_index=True, right_index=True)\n",
    "    # #### EU Government Deficit\n",
    "    # gov_def = eurostat.get_data_df(\"GOV_10DD_EDPT1\")\n",
    "    # gov_def = gov_def.loc[(gov_def[\"geo\\TIME_PERIOD\"] == \"EA20\") & (gov_def[\"sector\"] == \"S13\") & (gov_def[\"na_item\"] == \"B9\") & (gov_def[\"unit\"] == \"PC_GDP\"), :].T\n",
    "    # gov_def.set_axis(gov_def.loc[\"geo\\TIME_PERIOD\"].values, axis=1, inplace=True)\n",
    "    # gov_def.drop([\"freq\", \"geo\\TIME_PERIOD\", \"sector\", \"na_item\", \"unit\"], axis=0, inplace=True)\n",
    "    # gov_def.plot()\n",
    "    # Preparing the data\n",
    "    ### Data cleaning\n",
    "    # Cleaning the indicator data\n",
    "    print(\"> Cleaning the indicator data\")\n",
    "    df_indicators, df_indicators_cum, df_indicators_diff, df_indicators_rets, df_indicators_limpio = eda.limpiar_indicators(\n",
    "        df_indicators=indicators_df, \n",
    "        indicator_dict=indicators, \n",
    "        resample=periods, \n",
    "        fill_method=\"ffill\", \n",
    "        start=start, \n",
    "        end=end, \n",
    "        root_path=ROOT_PATH)\n",
    "    # Cleaning the market data\n",
    "    print(\"> Cleaning market data\")\n",
    "    df_market, df_markets_rets, df_markets_cum, df_markets_diff  = eda.limpiar_markets(\n",
    "        markets_dict=market_dict,\n",
    "        df_markets=market_df,\n",
    "        resample=periods, \n",
    "        fill_method=\"ffill\", \n",
    "        start=start, \n",
    "        end=end, \n",
    "        root_path=ROOT_PATH)\n",
    "    ### Merge indicator and market data\n",
    "    list_market_dfs = [df_market,df_markets_rets,df_markets_cum,df_markets_diff]\n",
    "    list_indicators_dfs = [df_indicators_limpio,df_indicators_rets,df_indicators_cum,df_indicators_diff]\n",
    "\n",
    "    df_all_data, df_all_data_rets, df_all_data_cum, df_all_data_diff = eda.merge_data(list_market_dfs, list_indicators_dfs, root_path=ROOT_PATH)\n",
    "    ### Feature Engineering\n",
    "    ### Remove Outliers \n",
    "    df = eda.remove_outliers(df_all_data_rets)\n",
    "    ### Adding features\n",
    "    df_all_data[\"CAPE Ratio\"] = df_all_data[\"SP500\"]/(df_all_data[\"Corporate Profits\"]*0.01)\n",
    "    df[\"CAPE Ratio\"] = df_all_data[\"SP500\"]/(df_all_data[\"Corporate Profits\"]*0.01)\n",
    "\n",
    "    # df_all_data[\"CAPE Ratio\"].plot()\n",
    "    def trend_line(df, name, deg=2):\n",
    "        coef = np.polyfit(range(0,len(df[name])), df[name], deg)\n",
    "        x_trend = np.linspace(0,len(df[name]),len(df[name]))\n",
    "        y_trend = np.polyval(coef, x_trend)\n",
    "        df = pd.DataFrame(y_trend, index=df.index, columns=[name])\n",
    "        return df\n",
    "\n",
    "    # df_all_data = pd.DataFrame()\n",
    "    df_all_data[\"SP_GDP\"] = df_all_data[\"SP500\"]/(df_all_data[\"GDP\"]*.01)\n",
    "    df_all_data[\"SP_GDP_trend\"] = trend_line(df_all_data, \"SP_GDP\", deg=5)\n",
    "    df[\"SP_GDP\"] = df_all_data[\"SP500\"]/(df_all_data[\"GDP\"]*.01)\n",
    "    df[\"SP_GDP_trend\"] = trend_line(df_all_data, \"SP_GDP\", deg=5)\n",
    "\n",
    "    # df_all_data = pd.DataFrame()\n",
    "    std = df_all_data[\"SP_GDP\"].std()\n",
    "    df_all_data[\"SP_GDP_1std\"] = df_all_data[\"SP_GDP_trend\"] + (std)\n",
    "    df[\"SP_GDP_1std\"] = df_all_data[\"SP_GDP_trend\"] + (std)\n",
    "\n",
    "    # df_all_data = df_all_data.copy()\n",
    "    # df_ts = df_all_data.loc[:,df_all_data.columns.str.contains(f\"t-\")]\n",
    "    # df_all_data.drop(df_ts.columns,axis=1,inplace=True)\n",
    "    for ma in df_all_data.columns:\n",
    "        df_all_data[f\"{ma}_MA\"] = df_all_data[[ma]].rolling(window=52).mean().fillna(method=\"ffill\").fillna(method=\"bfill\")\n",
    "        df_all_data[f\"{ma}_std\"] = df_all_data[[ma]].rolling(window=52).std().fillna(method=\"ffill\").fillna(method=\"bfill\")\n",
    "        df_all_data[f\"{ma}_trend\"] = trend_line(df_all_data[[ma]], ma, deg=6)\n",
    "        df_all_data[f\"{ma}_MA_trend_dif\"] = df_all_data[f\"{ma}_trend\"] - df_all_data[f\"{ma}_MA\"]\n",
    "        \n",
    "        df[f\"{ma}_MA\"] = df_all_data[[ma]].rolling(window=52).mean().fillna(method=\"ffill\").fillna(method=\"bfill\")\n",
    "        df[f\"{ma}_trend\"] = trend_line(df_all_data[[ma]], ma, deg=6)\n",
    "        df[f\"{ma}_MA_trend_dif\"] = df_all_data[f\"{ma}_trend\"] - df_all_data[f\"{ma}_MA\"]\n",
    "    ### Creating lags in the data\n",
    "    list_data_dfs = [df_all_data,df_all_data_rets,df_all_data_cum,df_all_data_diff]\n",
    "\n",
    "    df_all_lag_data, df_all_lag_data_rets, df_all_lag_data_cum, df_all_lag_data_diff = eda.lag_data(list_data_dfs, target, n_lags=24)\n",
    "    df = eda.remove_outliers(df_all_lag_data_rets)\n",
    "    for mkt in markets_remove:\n",
    "        if mkt == target:\n",
    "            pass\n",
    "        else:\n",
    "            for df_col in df.columns:\n",
    "                if mkt in df_col:\n",
    "                    try:\n",
    "                        df.drop(df_col, axis=1, inplace=True)\n",
    "                    except:\n",
    "                        pass\n",
    "    ### Feature Reduction\n",
    "    ## Data Preprocessing\n",
    "    econ_ml = Preprocessor()\n",
    "    ### Feature Reduction\n",
    "    #### Feature selection by correlation\n",
    "    df_feat_corr = pd.DataFrame(df.corr().loc[target,:].sort_values(ascending=False))\n",
    "    df_feat_relevant_corr = df_feat_corr[(df_feat_corr[target]>0.05) | (df_feat_corr[target]<-0.05)]\n",
    "    df_feat_relevant_corr\n",
    "    #### Indentifying the most important features\n",
    "    ##### Splitting the data\n",
    "\n",
    "    ##### Creating the baseline for feature importance\n",
    "    baseline_models = econ_ml.define_baseline_models()\n",
    "\n",
    "    X_train, X_test, y_train, y_test = econ_ml.train_test_split_data(data=df, target_col=target, test_size=0.15)\n",
    "    model_results, baseline_preds, best_model, best_model_name = econ_ml.baseline_ml(target, X_train, X_test, y_train, y_test, baseline_models)\n",
    "\n",
    "    print(\"> Performing feature importance analysis\")\n",
    "    df_top_data, feature_importance, top_feature_importance, score = econ_ml.feature_importance(target=target, \n",
    "                                                                                                    df_data=df.loc[:cutoff_date],\n",
    "                                                                                                    model=best_model,\n",
    "                                                                                                    accepted_importance=0.85)\n",
    "    #### Feature removal\n",
    "    def feature_removal(df, df_top_data, model_results, best_model_name, score):\n",
    "        best_model_score = model_results.loc[best_model_name,\"score\"]\n",
    "        if score > best_model_score*.9:\n",
    "            print(\"We choose to remove \"+str(len(df.columns)-len(df_top_data.columns))+\" features\")\n",
    "            df = df_top_data.copy()\n",
    "        else:\n",
    "            print(\"We choose to keep the original df with \"+str(len(df_top_data.columns))+\" features\")\n",
    "        return df\n",
    "\n",
    "    df = feature_removal(df, df_top_data, model_results, best_model_name, score)\n",
    "    ## Saving the processed data (ready for ML)\n",
    "    df.to_csv(data_path+f\"/processed_data_{target}_{Ymd_str}.csv\", index=True, index_label=\"Date\")\n",
    "\n",
    "else:\n",
    "    ## Reading the processed data\n",
    "    df = pd.read_csv(data_path+f\"/processed_data_{target}_{Ymd_str}.csv\", index_col=\"Date\")"
   ]
  },
  {
   "cell_type": "code",
   "execution_count": 13,
   "metadata": {},
   "outputs": [],
   "source": [
    "df = pd.read_csv(r\"C:\\Users\\Joan Oliver\\Documents\\GitHub\\Economic_Market_Forecasting\\Economic_Market_Forecasting\\EMF_webapp\\src\\data\\result\\processed_data\\2023\\202308\\20230814\\processed_data_Financials_20230814.csv\", index_col=\"Date\")"
   ]
  },
  {
   "cell_type": "markdown",
   "metadata": {},
   "source": [
    "# Performing Machine Learning"
   ]
  },
  {
   "cell_type": "markdown",
   "metadata": {},
   "source": [
    "### Pick the best model"
   ]
  },
  {
   "cell_type": "code",
   "execution_count": null,
   "metadata": {},
   "outputs": [],
   "source": [
    "## Data Preprocessing\n",
    "econ_ml = Preprocessor()\n",
    "X_train, X_test, y_train, y_test = econ_ml.train_test_split_data(data=df, target_col=target, test_size=0.15)\n",
    "model_results, baseline_preds, best_model, best_model_name = econ_ml.baseline_ml(target, X_train, X_test, y_train, y_test, baseline_models)"
   ]
  },
  {
   "cell_type": "code",
   "execution_count": null,
   "metadata": {},
   "outputs": [],
   "source": [
    "### Define the grids\n",
    "params_RandomForest = {\n",
    "    \"n_estimators\": [120],\n",
    "    \"max_depth\": [10,15,17],\n",
    "    \"max_features\": [\"sqrt\", 3, 4]                          \n",
    "    }\n",
    "\n",
    "params_GradientBoosting = {\n",
    "    'n_estimators': [100, 150],  # 50, \n",
    "    'learning_rate': [0.01, 0.05, 0.1],  \n",
    "    'max_depth': [5, 7],  \n",
    "    }\n",
    "\n",
    "params_XGBRegressor = {\n",
    "    'n_estimators': [150, 250],  # 100\n",
    "    'learning_rate': [0.01, 0.05, 0.1],  \n",
    "    'max_depth': [ 5, 7, 11],\n",
    "    # 'subsample': [0.8, 1.0],\n",
    "    # 'max_leaf_nodes': [32, 64, 108]\n",
    "    }\n",
    "\n",
    "params_KNeighborsRegressor = {\n",
    "    'n_neighbors': [3, 5, 7, 9],  \n",
    "    'weights': ['uniform', 'distance'],  \n",
    "    'p': [1, 2],  \n",
    "    }\n",
    "\n",
    "params_SVR = {\n",
    "    'C': [0.1, 1.0, 10.0],  \n",
    "    'kernel': ['linear', 'poly', 'rbf', 'sigmoid'],  \n",
    "    'degree': [2, 3, 4],  \n",
    "    'gamma': ['scale', 'auto', 0.1, 1.0],  \n",
    "    }\n",
    "\n",
    "baseline_params = {\n",
    "    \"RandomForest\":params_RandomForest,\n",
    "    \"GradientBoosting\":params_GradientBoosting,\n",
    "    \"SVR\":params_SVR,\n",
    "    \"KNeighborsRegressor\":params_KNeighborsRegressor,\n",
    "    \"XGBRegressor\":params_XGBRegressor\n",
    "}\n",
    "def model_gridSearch(baseline_models,baseline_params,model_results,X_train,y_train,X_test,y_test,cross_val=5):\n",
    "    y_test = y_test.copy()\n",
    "    models_gridsearch = {}\n",
    "    for name, model in baseline_models.items():\n",
    "        if name in model_results.index.values:\n",
    "            for mod,params in baseline_params.items():\n",
    "                if name == mod:\n",
    "                    models_gridsearch[mod] = GridSearchCV(model, params, cv=cross_val, scoring=\"neg_root_mean_squared_error\", verbose=1, n_jobs=1)\n",
    "                    models_gridsearch[mod].fit(X_train, y_train)\n",
    "    best_grids = [(i, j.best_score_) for i, j in models_gridsearch.items()]\n",
    "    best_grids = pd.DataFrame(best_grids, columns=[\"Grid\", \"Best score\"]).sort_values(by=\"Best score\", ascending=False)\n",
    "    top_model = models_gridsearch[best_grids.loc[0,\"Grid\"]]\n",
    "    return models_gridsearch, best_grids, top_model"
   ]
  },
  {
   "cell_type": "markdown",
   "metadata": {},
   "source": [
    "### Performing Grid Search"
   ]
  },
  {
   "cell_type": "code",
   "execution_count": null,
   "metadata": {},
   "outputs": [],
   "source": [
    "models_gridsearch, best_grids, top_model = model_gridSearch(baseline_models,baseline_params,model_results,X_train,y_train,X_test,y_test,cross_val=cross_val)"
   ]
  },
  {
   "cell_type": "code",
   "execution_count": null,
   "metadata": {},
   "outputs": [],
   "source": [
    "dump(top_model, model_path+f\"\\{target}_best_model.joblib\")"
   ]
  },
  {
   "cell_type": "markdown",
   "metadata": {},
   "source": [
    "# Performing Deep Neural Network"
   ]
  },
  {
   "cell_type": "code",
   "execution_count": 31,
   "metadata": {},
   "outputs": [],
   "source": [
    "def scale_datasets(x_train, x_test):\n",
    "\n",
    "  \"\"\"\n",
    "  Standard Scale test and train data\n",
    "  Z - Score normalization\n",
    "  \"\"\"\n",
    "  standard_scaler = StandardScaler()\n",
    "  x_train_scaled = pd.DataFrame(\n",
    "      standard_scaler.fit_transform(x_train),\n",
    "      columns=x_train.columns\n",
    "  )\n",
    "  x_test_scaled = pd.DataFrame(\n",
    "      standard_scaler.transform(x_test),\n",
    "      columns = x_test.columns\n",
    "  )\n",
    "  return x_train_scaled, x_test_scaled\n",
    "econ_ml = Preprocessor()\n",
    "X_train, X_test, y_train, y_test = econ_ml.train_test_split_data(data=df, target_col=target, test_size=0.15)\n",
    "# X_train_scaled, X_test_scaled = scale_datasets(X_train, X_test)\n",
    "\n",
    "sc = StandardScaler()\n",
    "X_train_scaled = sc.fit_transform(X_train)\n",
    "X_test_scaled = sc.transform(X_test)\n"
   ]
  },
  {
   "cell_type": "code",
   "execution_count": 63,
   "metadata": {},
   "outputs": [],
   "source": [
    "def create_model(layers, activation, optimizer, loss, metrics):\n",
    "    model = Sequential()\n",
    "    for i, nodes in enumerate(layers):\n",
    "        if i == 0:\n",
    "            model.add(Dense(nodes, input_dim=X_train_scaled.shape[1], activation=activation))\n",
    "            model.add(Dropout(0.5))\n",
    "        else:\n",
    "            model.add(Dense(nodes, activation=activation))\n",
    "            model.add(Dropout(0.5))\n",
    "    model.add(Dense(1))\n",
    "\n",
    "    model.compile(optimizer=optimizer, loss=loss, metrics=metrics)\n",
    "    return model\n",
    "\n",
    "model = KerasRegressor(build_fn=create_model, verbose=0)"
   ]
  },
  {
   "cell_type": "code",
   "execution_count": 64,
   "metadata": {},
   "outputs": [],
   "source": [
    "layers = [[64],[64, 32],[64, 128, 32], [64, 128, 256, 256, 128, 64]]\n",
    "activations = ['relu', 'sigmoid','tanh']\n",
    "optimizers = ['adam']\n",
    "losses = ['root_mean_squared_error']\n",
    "metrics = ['root_mean_squared_error']\n",
    "batch_size = [32, 64, 128]\n",
    "epochs = [10, 15, 20, 30]\n",
    "param_grid = dict(layers=layers, activation=activations, optimizer=optimizers, loss=losses, metrics=metrics,  batch_size=batch_size, epochs=epochs)\n",
    "grid = GridSearchCV(estimator=model, param_grid=param_grid, cv=5)"
   ]
  },
  {
   "cell_type": "code",
   "execution_count": 65,
   "metadata": {},
   "outputs": [
    {
     "ename": "ValueError",
     "evalue": "in user code:\n\n    File \"c:\\Users\\Joan Oliver\\AppData\\Local\\Programs\\Python\\Python37\\lib\\site-packages\\keras\\engine\\training.py\", line 1249, in train_function  *\n        return step_function(self, iterator)\n    File \"c:\\Users\\Joan Oliver\\AppData\\Local\\Programs\\Python\\Python37\\lib\\site-packages\\keras\\engine\\training.py\", line 1233, in step_function  **\n        outputs = model.distribute_strategy.run(run_step, args=(data,))\n    File \"c:\\Users\\Joan Oliver\\AppData\\Local\\Programs\\Python\\Python37\\lib\\site-packages\\keras\\engine\\training.py\", line 1222, in run_step  **\n        outputs = model.train_step(data)\n    File \"c:\\Users\\Joan Oliver\\AppData\\Local\\Programs\\Python\\Python37\\lib\\site-packages\\keras\\engine\\training.py\", line 1024, in train_step\n        loss = self.compute_loss(x, y, y_pred, sample_weight)\n    File \"c:\\Users\\Joan Oliver\\AppData\\Local\\Programs\\Python\\Python37\\lib\\site-packages\\keras\\engine\\training.py\", line 1083, in compute_loss\n        y, y_pred, sample_weight, regularization_losses=self.losses\n    File \"c:\\Users\\Joan Oliver\\AppData\\Local\\Programs\\Python\\Python37\\lib\\site-packages\\keras\\engine\\compile_utils.py\", line 240, in __call__\n        self.build(y_pred)\n    File \"c:\\Users\\Joan Oliver\\AppData\\Local\\Programs\\Python\\Python37\\lib\\site-packages\\keras\\engine\\compile_utils.py\", line 183, in build\n        self._get_loss_object, self._losses\n    File \"c:\\Users\\Joan Oliver\\AppData\\Local\\Programs\\Python\\Python37\\lib\\site-packages\\keras\\engine\\compile_utils.py\", line 353, in _get_loss_object\n        loss = losses_mod.get(loss)\n    File \"c:\\Users\\Joan Oliver\\AppData\\Local\\Programs\\Python\\Python37\\lib\\site-packages\\keras\\losses.py\", line 2663, in get\n        return deserialize(identifier)\n    File \"c:\\Users\\Joan Oliver\\AppData\\Local\\Programs\\Python\\Python37\\lib\\site-packages\\keras\\losses.py\", line 2621, in deserialize\n        printable_module_name=\"loss function\",\n    File \"c:\\Users\\Joan Oliver\\AppData\\Local\\Programs\\Python\\Python37\\lib\\site-packages\\keras\\saving\\legacy\\serialization.py\", line 558, in deserialize_keras_object\n        f\"Unknown {printable_module_name}: '{object_name}'. \"\n\n    ValueError: Unknown loss function: 'rmse'. Please ensure you are using a `keras.utils.custom_object_scope` and that this object is included in the scope. See https://www.tensorflow.org/guide/keras/save_and_serialize#registering_the_custom_object for details.\n",
     "output_type": "error",
     "traceback": [
      "\u001b[1;31m---------------------------------------------------------------------------\u001b[0m",
      "\u001b[1;31mValueError\u001b[0m                                Traceback (most recent call last)",
      "\u001b[1;32m~\\AppData\\Local\\Temp\\ipykernel_33204\\2276793211.py\u001b[0m in \u001b[0;36m<module>\u001b[1;34m\u001b[0m\n\u001b[1;32m----> 1\u001b[1;33m \u001b[0mgrid_results\u001b[0m \u001b[1;33m=\u001b[0m \u001b[0mgrid\u001b[0m\u001b[1;33m.\u001b[0m\u001b[0mfit\u001b[0m\u001b[1;33m(\u001b[0m\u001b[0mX_train_scaled\u001b[0m\u001b[1;33m,\u001b[0m \u001b[0my_train\u001b[0m\u001b[1;33m)\u001b[0m\u001b[1;33m\u001b[0m\u001b[1;33m\u001b[0m\u001b[0m\n\u001b[0m",
      "\u001b[1;32mc:\\Users\\Joan Oliver\\AppData\\Local\\Programs\\Python\\Python37\\lib\\site-packages\\sklearn\\model_selection\\_search.py\u001b[0m in \u001b[0;36mfit\u001b[1;34m(self, X, y, groups, **fit_params)\u001b[0m\n\u001b[0;32m    924\u001b[0m             \u001b[0mrefit_start_time\u001b[0m \u001b[1;33m=\u001b[0m \u001b[0mtime\u001b[0m\u001b[1;33m.\u001b[0m\u001b[0mtime\u001b[0m\u001b[1;33m(\u001b[0m\u001b[1;33m)\u001b[0m\u001b[1;33m\u001b[0m\u001b[1;33m\u001b[0m\u001b[0m\n\u001b[0;32m    925\u001b[0m             \u001b[1;32mif\u001b[0m \u001b[0my\u001b[0m \u001b[1;32mis\u001b[0m \u001b[1;32mnot\u001b[0m \u001b[1;32mNone\u001b[0m\u001b[1;33m:\u001b[0m\u001b[1;33m\u001b[0m\u001b[1;33m\u001b[0m\u001b[0m\n\u001b[1;32m--> 926\u001b[1;33m                 \u001b[0mself\u001b[0m\u001b[1;33m.\u001b[0m\u001b[0mbest_estimator_\u001b[0m\u001b[1;33m.\u001b[0m\u001b[0mfit\u001b[0m\u001b[1;33m(\u001b[0m\u001b[0mX\u001b[0m\u001b[1;33m,\u001b[0m \u001b[0my\u001b[0m\u001b[1;33m,\u001b[0m \u001b[1;33m**\u001b[0m\u001b[0mfit_params\u001b[0m\u001b[1;33m)\u001b[0m\u001b[1;33m\u001b[0m\u001b[1;33m\u001b[0m\u001b[0m\n\u001b[0m\u001b[0;32m    927\u001b[0m             \u001b[1;32melse\u001b[0m\u001b[1;33m:\u001b[0m\u001b[1;33m\u001b[0m\u001b[1;33m\u001b[0m\u001b[0m\n\u001b[0;32m    928\u001b[0m                 \u001b[0mself\u001b[0m\u001b[1;33m.\u001b[0m\u001b[0mbest_estimator_\u001b[0m\u001b[1;33m.\u001b[0m\u001b[0mfit\u001b[0m\u001b[1;33m(\u001b[0m\u001b[0mX\u001b[0m\u001b[1;33m,\u001b[0m \u001b[1;33m**\u001b[0m\u001b[0mfit_params\u001b[0m\u001b[1;33m)\u001b[0m\u001b[1;33m\u001b[0m\u001b[1;33m\u001b[0m\u001b[0m\n",
      "\u001b[1;32mc:\\Users\\Joan Oliver\\AppData\\Local\\Programs\\Python\\Python37\\lib\\site-packages\\keras\\wrappers\\scikit_learn.py\u001b[0m in \u001b[0;36mfit\u001b[1;34m(self, x, y, **kwargs)\u001b[0m\n\u001b[0;32m    173\u001b[0m         \u001b[0mfit_args\u001b[0m\u001b[1;33m.\u001b[0m\u001b[0mupdate\u001b[0m\u001b[1;33m(\u001b[0m\u001b[0mkwargs\u001b[0m\u001b[1;33m)\u001b[0m\u001b[1;33m\u001b[0m\u001b[1;33m\u001b[0m\u001b[0m\n\u001b[0;32m    174\u001b[0m \u001b[1;33m\u001b[0m\u001b[0m\n\u001b[1;32m--> 175\u001b[1;33m         \u001b[0mhistory\u001b[0m \u001b[1;33m=\u001b[0m \u001b[0mself\u001b[0m\u001b[1;33m.\u001b[0m\u001b[0mmodel\u001b[0m\u001b[1;33m.\u001b[0m\u001b[0mfit\u001b[0m\u001b[1;33m(\u001b[0m\u001b[0mx\u001b[0m\u001b[1;33m,\u001b[0m \u001b[0my\u001b[0m\u001b[1;33m,\u001b[0m \u001b[1;33m**\u001b[0m\u001b[0mfit_args\u001b[0m\u001b[1;33m)\u001b[0m\u001b[1;33m\u001b[0m\u001b[1;33m\u001b[0m\u001b[0m\n\u001b[0m\u001b[0;32m    176\u001b[0m \u001b[1;33m\u001b[0m\u001b[0m\n\u001b[0;32m    177\u001b[0m         \u001b[1;32mreturn\u001b[0m \u001b[0mhistory\u001b[0m\u001b[1;33m\u001b[0m\u001b[1;33m\u001b[0m\u001b[0m\n",
      "\u001b[1;32mc:\\Users\\Joan Oliver\\AppData\\Local\\Programs\\Python\\Python37\\lib\\site-packages\\keras\\utils\\traceback_utils.py\u001b[0m in \u001b[0;36merror_handler\u001b[1;34m(*args, **kwargs)\u001b[0m\n\u001b[0;32m     68\u001b[0m             \u001b[1;31m# To get the full stack trace, call:\u001b[0m\u001b[1;33m\u001b[0m\u001b[1;33m\u001b[0m\u001b[1;33m\u001b[0m\u001b[0m\n\u001b[0;32m     69\u001b[0m             \u001b[1;31m# `tf.debugging.disable_traceback_filtering()`\u001b[0m\u001b[1;33m\u001b[0m\u001b[1;33m\u001b[0m\u001b[1;33m\u001b[0m\u001b[0m\n\u001b[1;32m---> 70\u001b[1;33m             \u001b[1;32mraise\u001b[0m \u001b[0me\u001b[0m\u001b[1;33m.\u001b[0m\u001b[0mwith_traceback\u001b[0m\u001b[1;33m(\u001b[0m\u001b[0mfiltered_tb\u001b[0m\u001b[1;33m)\u001b[0m \u001b[1;32mfrom\u001b[0m \u001b[1;32mNone\u001b[0m\u001b[1;33m\u001b[0m\u001b[1;33m\u001b[0m\u001b[0m\n\u001b[0m\u001b[0;32m     71\u001b[0m         \u001b[1;32mfinally\u001b[0m\u001b[1;33m:\u001b[0m\u001b[1;33m\u001b[0m\u001b[1;33m\u001b[0m\u001b[0m\n\u001b[0;32m     72\u001b[0m             \u001b[1;32mdel\u001b[0m \u001b[0mfiltered_tb\u001b[0m\u001b[1;33m\u001b[0m\u001b[1;33m\u001b[0m\u001b[0m\n",
      "\u001b[1;32mc:\\Users\\Joan Oliver\\AppData\\Local\\Programs\\Python\\Python37\\lib\\site-packages\\keras\\engine\\training.py\u001b[0m in \u001b[0;36mtf__train_function\u001b[1;34m(iterator)\u001b[0m\n\u001b[0;32m     13\u001b[0m                 \u001b[1;32mtry\u001b[0m\u001b[1;33m:\u001b[0m\u001b[1;33m\u001b[0m\u001b[1;33m\u001b[0m\u001b[0m\n\u001b[0;32m     14\u001b[0m                     \u001b[0mdo_return\u001b[0m \u001b[1;33m=\u001b[0m \u001b[1;32mTrue\u001b[0m\u001b[1;33m\u001b[0m\u001b[1;33m\u001b[0m\u001b[0m\n\u001b[1;32m---> 15\u001b[1;33m                     \u001b[0mretval_\u001b[0m \u001b[1;33m=\u001b[0m \u001b[0mag__\u001b[0m\u001b[1;33m.\u001b[0m\u001b[0mconverted_call\u001b[0m\u001b[1;33m(\u001b[0m\u001b[0mag__\u001b[0m\u001b[1;33m.\u001b[0m\u001b[0mld\u001b[0m\u001b[1;33m(\u001b[0m\u001b[0mstep_function\u001b[0m\u001b[1;33m)\u001b[0m\u001b[1;33m,\u001b[0m \u001b[1;33m(\u001b[0m\u001b[0mag__\u001b[0m\u001b[1;33m.\u001b[0m\u001b[0mld\u001b[0m\u001b[1;33m(\u001b[0m\u001b[0mself\u001b[0m\u001b[1;33m)\u001b[0m\u001b[1;33m,\u001b[0m \u001b[0mag__\u001b[0m\u001b[1;33m.\u001b[0m\u001b[0mld\u001b[0m\u001b[1;33m(\u001b[0m\u001b[0miterator\u001b[0m\u001b[1;33m)\u001b[0m\u001b[1;33m)\u001b[0m\u001b[1;33m,\u001b[0m \u001b[1;32mNone\u001b[0m\u001b[1;33m,\u001b[0m \u001b[0mfscope\u001b[0m\u001b[1;33m)\u001b[0m\u001b[1;33m\u001b[0m\u001b[1;33m\u001b[0m\u001b[0m\n\u001b[0m\u001b[0;32m     16\u001b[0m                 \u001b[1;32mexcept\u001b[0m\u001b[1;33m:\u001b[0m\u001b[1;33m\u001b[0m\u001b[1;33m\u001b[0m\u001b[0m\n\u001b[0;32m     17\u001b[0m                     \u001b[0mdo_return\u001b[0m \u001b[1;33m=\u001b[0m \u001b[1;32mFalse\u001b[0m\u001b[1;33m\u001b[0m\u001b[1;33m\u001b[0m\u001b[0m\n",
      "\u001b[1;31mValueError\u001b[0m: in user code:\n\n    File \"c:\\Users\\Joan Oliver\\AppData\\Local\\Programs\\Python\\Python37\\lib\\site-packages\\keras\\engine\\training.py\", line 1249, in train_function  *\n        return step_function(self, iterator)\n    File \"c:\\Users\\Joan Oliver\\AppData\\Local\\Programs\\Python\\Python37\\lib\\site-packages\\keras\\engine\\training.py\", line 1233, in step_function  **\n        outputs = model.distribute_strategy.run(run_step, args=(data,))\n    File \"c:\\Users\\Joan Oliver\\AppData\\Local\\Programs\\Python\\Python37\\lib\\site-packages\\keras\\engine\\training.py\", line 1222, in run_step  **\n        outputs = model.train_step(data)\n    File \"c:\\Users\\Joan Oliver\\AppData\\Local\\Programs\\Python\\Python37\\lib\\site-packages\\keras\\engine\\training.py\", line 1024, in train_step\n        loss = self.compute_loss(x, y, y_pred, sample_weight)\n    File \"c:\\Users\\Joan Oliver\\AppData\\Local\\Programs\\Python\\Python37\\lib\\site-packages\\keras\\engine\\training.py\", line 1083, in compute_loss\n        y, y_pred, sample_weight, regularization_losses=self.losses\n    File \"c:\\Users\\Joan Oliver\\AppData\\Local\\Programs\\Python\\Python37\\lib\\site-packages\\keras\\engine\\compile_utils.py\", line 240, in __call__\n        self.build(y_pred)\n    File \"c:\\Users\\Joan Oliver\\AppData\\Local\\Programs\\Python\\Python37\\lib\\site-packages\\keras\\engine\\compile_utils.py\", line 183, in build\n        self._get_loss_object, self._losses\n    File \"c:\\Users\\Joan Oliver\\AppData\\Local\\Programs\\Python\\Python37\\lib\\site-packages\\keras\\engine\\compile_utils.py\", line 353, in _get_loss_object\n        loss = losses_mod.get(loss)\n    File \"c:\\Users\\Joan Oliver\\AppData\\Local\\Programs\\Python\\Python37\\lib\\site-packages\\keras\\losses.py\", line 2663, in get\n        return deserialize(identifier)\n    File \"c:\\Users\\Joan Oliver\\AppData\\Local\\Programs\\Python\\Python37\\lib\\site-packages\\keras\\losses.py\", line 2621, in deserialize\n        printable_module_name=\"loss function\",\n    File \"c:\\Users\\Joan Oliver\\AppData\\Local\\Programs\\Python\\Python37\\lib\\site-packages\\keras\\saving\\legacy\\serialization.py\", line 558, in deserialize_keras_object\n        f\"Unknown {printable_module_name}: '{object_name}'. \"\n\n    ValueError: Unknown loss function: 'rmse'. Please ensure you are using a `keras.utils.custom_object_scope` and that this object is included in the scope. See https://www.tensorflow.org/guide/keras/save_and_serialize#registering_the_custom_object for details.\n"
     ]
    }
   ],
   "source": [
    "grid_results = grid.fit(X_train_scaled, y_train)"
   ]
  },
  {
   "cell_type": "code",
   "execution_count": null,
   "metadata": {},
   "outputs": [
    {
     "data": {
      "text/plain": [
       "{'activation': 'sigmoid',\n",
       " 'batch_size': 32,\n",
       " 'epochs': 20,\n",
       " 'layers': [128, 256, 128, 64],\n",
       " 'loss': 'mse',\n",
       " 'metrics': 'mse',\n",
       " 'optimizer': 'adam'}"
      ]
     },
     "execution_count": 41,
     "metadata": {},
     "output_type": "execute_result"
    }
   ],
   "source": [
    "grid_results.best_params_"
   ]
  },
  {
   "cell_type": "code",
   "execution_count": null,
   "metadata": {},
   "outputs": [],
   "source": [
    "pred_y = grid.predict(X_test_scaled)"
   ]
  },
  {
   "cell_type": "code",
   "execution_count": null,
   "metadata": {},
   "outputs": [
    {
     "data": {
      "text/plain": [
       "0.0007552966669146764"
      ]
     },
     "execution_count": 44,
     "metadata": {},
     "output_type": "execute_result"
    }
   ],
   "source": [
    "mean_squared_error(y_test, pred_y)"
   ]
  },
  {
   "cell_type": "code",
   "execution_count": null,
   "metadata": {},
   "outputs": [
    {
     "data": {
      "text/plain": [
       "<AxesSubplot:xlabel='Date'>"
      ]
     },
     "execution_count": 62,
     "metadata": {},
     "output_type": "execute_result"
    },
    {
     "data": {
      "image/png": "[encoded data removed]",
      "text/plain": [
       "<Figure size 640x480 with 1 Axes>"
      ]
     },
     "metadata": {},
     "output_type": "display_data"
    }
   ],
   "source": [
    "prediction = pd.DataFrame({f\"{target}\":y_test, f\"{target}_pred\":(pred_y-pred_y[0])*100})\n",
    "prediction.cumsum().plot()"
   ]
  },
  {
   "cell_type": "code",
   "execution_count": 72,
   "metadata": {},
   "outputs": [],
   "source": [
    "import psycopg2\n",
    "\n",
    "table_df = df.copy()\n",
    "table_df.columns = [col.replace(\" \", \"_\").replace(\"-\", \"_\").replace(\"(\", \"\").replace(\")\", \"\") for col in table_df.columns]\n",
    "table_name = f\"{target}_data\"\n",
    "\n",
    "\n",
    "conn = psycopg2.connect(\n",
    "    host=\"localhost\",\n",
    "    database=\"postgres\",\n",
    "    user=\"postgres\",\n",
    "    password=\"CFALevel12018\",\n",
    "    port=5432\n",
    ")\n",
    "cur = conn.cursor()\n",
    "\n",
    "cur.execute(f\"\"\"CREATE TABLE IF NOT EXISTS {table_name} (\n",
    "        date CHAR PRIMARY KEY\n",
    ");\n",
    "\"\"\")\n",
    "\n",
    "for col in table_df:\n",
    "    try:\n",
    "        cur.execute(\n",
    "            f\"\"\"\n",
    "            ALTER TABLE {table_name}\n",
    "            ADD COLUMN col_{col} FLOAT;\n",
    "            \"\"\"\n",
    "        )\n",
    "    except:\n",
    "        pass\n",
    "\n",
    "conn.commit()\n",
    "# cur.close()\n",
    "# conn.close()"
   ]
  },
  {
   "cell_type": "code",
   "execution_count": 79,
   "metadata": {},
   "outputs": [],
   "source": [
    "def check_date_exists(cur, date, table_name):\n",
    "    query = (f\"\"\"SELECT date FROM {table_name} date = %s;\"\"\")\n",
    "    cur.execute(query, (date,))\n",
    "    return cur.fetchone() is not None\n",
    "def update_row(i, cur, table_name):\n",
    "    for col in table_df.columns:\n",
    "        query = (f\"\"\"UPDATE {table_name} SET {col} = %s WHERE date = %s;\"\"\")\n",
    "        cur.execute(query, (table_df[\"Date\"][i],))\n",
    "        conn.commit()\n",
    "def insert_row(row, cols, s_str, table_name):\n",
    "    query = (f\"\"\"INSERT INTO {table_name} ({cols})VALUES ({s_str});\"\"\")\n",
    "    cur.execute(query, (row.name,))\n",
    "    conn.commit()"
   ]
  },
  {
   "cell_type": "code",
   "execution_count": 86,
   "metadata": {},
   "outputs": [
    {
     "name": "stdout",
     "output_type": "stream",
     "text": [
      "2004-02-15\n",
      "10_Year_Treasury_Yield, 2_Year_Treasury_Yield, 5_Year_Treasury_Yield, 20_Year_Treasury_Yield, 30_Year_Treasury_Yield, 15_Year_Mortgage_Rate, 30_Year_Mortgage_Rate, US_Dollar_Index, VIX, 3m5y, 3m10y, 2y10y, 10yTrea30yFRM, 10_Year_Treasury_Yield_t_1, 10_Year_Treasury_Yield_t_2, 10_Year_Treasury_Yield_t_3, 10_Year_Treasury_Yield_t_4, 10_Year_Treasury_Yield_t_5, 10_Year_Treasury_Yield_t_6, 10_Year_Treasury_Yield_t_7, 10_Year_Treasury_Yield_t_8, 10_Year_Treasury_Yield_t_9, 10_Year_Treasury_Yield_t_10, 10_Year_Treasury_Yield_t_11, 10_Year_Treasury_Yield_t_12, 10_Year_Treasury_Yield_t_13, 10_Year_Treasury_Yield_t_14, 10_Year_Treasury_Yield_t_15, 10_Year_Treasury_Yield_t_16, 10_Year_Treasury_Yield_t_17, 10_Year_Treasury_Yield_t_18, 10_Year_Treasury_Yield_t_19, 10_Year_Treasury_Yield_t_20, 10_Year_Treasury_Yield_t_21, 10_Year_Treasury_Yield_t_22, 10_Year_Treasury_Yield_t_23, 10_Year_Treasury_Yield_t_24, 2_Year_Treasury_Yield_t_2, 2_Year_Treasury_Yield_t_3, 2_Year_Treasury_Yield_t_4, 2_Year_Treasury_Yield_t_5, 2_Year_Treasury_Yield_t_6, 2_Year_Treasury_Yield_t_8, 2_Year_Treasury_Yield_t_9, 2_Year_Treasury_Yield_t_10, 2_Year_Treasury_Yield_t_11, 2_Year_Treasury_Yield_t_12, 2_Year_Treasury_Yield_t_13, 2_Year_Treasury_Yield_t_15, 2_Year_Treasury_Yield_t_16, 2_Year_Treasury_Yield_t_17, 2_Year_Treasury_Yield_t_18, 2_Year_Treasury_Yield_t_19, 2_Year_Treasury_Yield_t_20, 2_Year_Treasury_Yield_t_21, 2_Year_Treasury_Yield_t_23, 2_Year_Treasury_Yield_t_24, Federal_Funds_Effective_Rate_t_3, Federal_Funds_Effective_Rate_t_8, Federal_Funds_Effective_Rate_t_11, Federal_Funds_Effective_Rate_t_12, Federal_Funds_Effective_Rate_t_17, Federal_Funds_Effective_Rate_t_19, 1_Month_Treasury_Yield_t_1, 1_Month_Treasury_Yield_t_2, 1_Month_Treasury_Yield_t_4, 1_Month_Treasury_Yield_t_6, 1_Month_Treasury_Yield_t_16, 3_Month_Treasury_Yield_t_2, 3_Month_Treasury_Yield_t_3, 3_Month_Treasury_Yield_t_5, 3_Month_Treasury_Yield_t_7, 3_Month_Treasury_Yield_t_19, 3_Month_Treasury_Yield_t_23, 3_Month_Treasury_Yield_t_24, 5_Year_Treasury_Yield_t_1, 5_Year_Treasury_Yield_t_2, 5_Year_Treasury_Yield_t_3, 5_Year_Treasury_Yield_t_4, 5_Year_Treasury_Yield_t_5, 5_Year_Treasury_Yield_t_6, 5_Year_Treasury_Yield_t_7, 5_Year_Treasury_Yield_t_8, 5_Year_Treasury_Yield_t_9, 5_Year_Treasury_Yield_t_10, 5_Year_Treasury_Yield_t_11, 5_Year_Treasury_Yield_t_12, 5_Year_Treasury_Yield_t_13, 5_Year_Treasury_Yield_t_14, 5_Year_Treasury_Yield_t_15, 5_Year_Treasury_Yield_t_16, 5_Year_Treasury_Yield_t_17, 5_Year_Treasury_Yield_t_18, 5_Year_Treasury_Yield_t_20, 5_Year_Treasury_Yield_t_21, 5_Year_Treasury_Yield_t_22, 5_Year_Treasury_Yield_t_23, 5_Year_Treasury_Yield_t_24, 20_Year_Treasury_Yield_t_1, 20_Year_Treasury_Yield_t_2, 20_Year_Treasury_Yield_t_3, 20_Year_Treasury_Yield_t_5, 20_Year_Treasury_Yield_t_6, 20_Year_Treasury_Yield_t_7, 20_Year_Treasury_Yield_t_8, 20_Year_Treasury_Yield_t_9, 20_Year_Treasury_Yield_t_10, 20_Year_Treasury_Yield_t_11, 20_Year_Treasury_Yield_t_12, 20_Year_Treasury_Yield_t_13, 20_Year_Treasury_Yield_t_14, 20_Year_Treasury_Yield_t_15, 20_Year_Treasury_Yield_t_16, 20_Year_Treasury_Yield_t_17, 20_Year_Treasury_Yield_t_18, 20_Year_Treasury_Yield_t_19, 20_Year_Treasury_Yield_t_20, 20_Year_Treasury_Yield_t_21, 20_Year_Treasury_Yield_t_22, 20_Year_Treasury_Yield_t_23, 20_Year_Treasury_Yield_t_24, 30_Year_Treasury_Yield_t_1, 30_Year_Treasury_Yield_t_2, 30_Year_Treasury_Yield_t_3, 30_Year_Treasury_Yield_t_4, 30_Year_Treasury_Yield_t_5, 30_Year_Treasury_Yield_t_6, 30_Year_Treasury_Yield_t_7, 30_Year_Treasury_Yield_t_8, 30_Year_Treasury_Yield_t_9, 30_Year_Treasury_Yield_t_10, 30_Year_Treasury_Yield_t_11, 30_Year_Treasury_Yield_t_12, 30_Year_Treasury_Yield_t_13, 30_Year_Treasury_Yield_t_14, 30_Year_Treasury_Yield_t_15, 30_Year_Treasury_Yield_t_16, 30_Year_Treasury_Yield_t_17, 30_Year_Treasury_Yield_t_18, 30_Year_Treasury_Yield_t_20, 30_Year_Treasury_Yield_t_21, 30_Year_Treasury_Yield_t_22, 30_Year_Treasury_Yield_t_23, 30_Year_Treasury_Yield_t_24, 15_Year_Mortgage_Rate_t_1, 15_Year_Mortgage_Rate_t_2, 15_Year_Mortgage_Rate_t_3, 15_Year_Mortgage_Rate_t_4, 15_Year_Mortgage_Rate_t_5, 15_Year_Mortgage_Rate_t_6, 15_Year_Mortgage_Rate_t_7, 15_Year_Mortgage_Rate_t_8, 15_Year_Mortgage_Rate_t_9, 15_Year_Mortgage_Rate_t_10, 15_Year_Mortgage_Rate_t_11, 15_Year_Mortgage_Rate_t_12, 15_Year_Mortgage_Rate_t_13, 15_Year_Mortgage_Rate_t_16, 15_Year_Mortgage_Rate_t_17, 15_Year_Mortgage_Rate_t_18, 15_Year_Mortgage_Rate_t_19, 15_Year_Mortgage_Rate_t_20, 15_Year_Mortgage_Rate_t_21, 15_Year_Mortgage_Rate_t_22, 15_Year_Mortgage_Rate_t_23, 15_Year_Mortgage_Rate_t_24, 30_Year_Mortgage_Rate_t_1, 30_Year_Mortgage_Rate_t_2, 30_Year_Mortgage_Rate_t_3, 30_Year_Mortgage_Rate_t_4, 30_Year_Mortgage_Rate_t_5, 30_Year_Mortgage_Rate_t_6, 30_Year_Mortgage_Rate_t_7, 30_Year_Mortgage_Rate_t_8, 30_Year_Mortgage_Rate_t_9, 30_Year_Mortgage_Rate_t_10, 30_Year_Mortgage_Rate_t_11, 30_Year_Mortgage_Rate_t_13, 30_Year_Mortgage_Rate_t_14, 30_Year_Mortgage_Rate_t_15, 30_Year_Mortgage_Rate_t_16, 30_Year_Mortgage_Rate_t_17, 30_Year_Mortgage_Rate_t_18, 30_Year_Mortgage_Rate_t_19, 30_Year_Mortgage_Rate_t_20, 30_Year_Mortgage_Rate_t_21, 30_Year_Mortgage_Rate_t_22, 30_Year_Mortgage_Rate_t_23, 30_Year_Mortgage_Rate_t_24, 10_Year_India_Gov_Bond_Yield_t_23, CPI_t_14, PPI_t_10, US_Dollar_Index_t_2, US_Dollar_Index_t_3, US_Dollar_Index_t_4, US_Dollar_Index_t_5, US_Dollar_Index_t_6, US_Dollar_Index_t_7, US_Dollar_Index_t_9, US_Dollar_Index_t_10, US_Dollar_Index_t_11, US_Dollar_Index_t_12, US_Dollar_Index_t_13, US_Dollar_Index_t_14, US_Dollar_Index_t_15, US_Dollar_Index_t_16, US_Dollar_Index_t_17, US_Dollar_Index_t_18, US_Dollar_Index_t_19, US_Dollar_Index_t_20, US_Dollar_Index_t_21, US_Dollar_Index_t_22, US_Dollar_Index_t_23, US_Dollar_Index_t_24, VIX_t_1, VIX_t_2, VIX_t_3, VIX_t_4, VIX_t_5, VIX_t_7, VIX_t_8, VIX_t_9, VIX_t_10, VIX_t_11, VIX_t_12, VIX_t_13, VIX_t_14, VIX_t_15, VIX_t_16, VIX_t_17, VIX_t_18, VIX_t_19, VIX_t_20, VIX_t_21, VIX_t_22, VIX_t_23, VIX_t_24, Industrial_Production_t_22, 3m5y_t_1, 3m5y_t_2, 3m5y_t_3, 3m5y_t_4, 3m5y_t_6, 3m5y_t_7, 3m5y_t_8, 3m5y_t_9, 3m5y_t_10, 3m5y_t_11, 3m5y_t_12, 3m5y_t_14, 3m5y_t_15, 3m5y_t_16, 3m5y_t_18, 3m5y_t_20, 3m5y_t_21, 3m5y_t_22, 3m5y_t_23, 3m5y_t_24, 3m10y_t_1, 3m10y_t_2, 3m10y_t_4, 3m10y_t_5, 3m10y_t_6, 3m10y_t_7, 3m10y_t_8, 3m10y_t_9, 3m10y_t_10, 3m10y_t_11, 3m10y_t_12, 3m10y_t_14, 3m10y_t_15, 3m10y_t_16, 3m10y_t_18, 3m10y_t_19, 3m10y_t_21, 3m10y_t_22, 3m10y_t_23, 3m10y_t_24, 2y10y_t_2, 2y10y_t_3, 2y10y_t_4, 2y10y_t_5, 2y10y_t_6, 2y10y_t_7, 2y10y_t_9, 2y10y_t_11, 2y10y_t_12, 2y10y_t_13, 2y10y_t_14, 2y10y_t_15, 2y10y_t_17, 2y10y_t_18, 2y10y_t_19, 2y10y_t_20, 2y10y_t_21, 2y10y_t_22, 2y10y_t_23, 2y10y_t_24, 2y20y_t_1, 2y20y_t_2, 2y20y_t_3, 2y20y_t_4, 2y20y_t_5, 2y20y_t_6, 2y20y_t_7, 2y20y_t_9, 2y20y_t_12, 2y20y_t_14, 2y20y_t_15, 2y20y_t_16, 2y20y_t_17, 2y20y_t_18, 2y20y_t_19, 2y20y_t_20, 2y20y_t_21, 2y20y_t_22, 2y20y_t_23, 2y20y_t_24, 5y10y_t_1, 5y10y_t_2, 5y10y_t_4, 5y10y_t_5, 5y10y_t_7, 5y10y_t_9, 5y10y_t_10, 5y10y_t_11, 5y10y_t_17, 5y10y_t_18, 5y10y_t_20, 10y30y_t_1, 10y30y_t_2, 10y30y_t_6, 10y30y_t_7, 10y30y_t_8, 10y30y_t_10, 10y30y_t_11, 10y30y_t_12, 10y30y_t_13, 10y30y_t_14, 10y30y_t_15, 10y30y_t_16, 10y30y_t_17, 10y30y_t_18, 10y30y_t_19, 10y30y_t_20, 10y30y_t_21, 10y30y_t_22, 10y30y_t_24, 10yTrea30yFRM_t_1, 10yTrea30yFRM_t_2, 10yTrea30yFRM_t_3, 10yTrea30yFRM_t_5, 10yTrea30yFRM_t_6, 10yTrea30yFRM_t_7, 10yTrea30yFRM_t_8, 10yTrea30yFRM_t_10, 10yTrea30yFRM_t_11, 10yTrea30yFRM_t_12, 10yTrea30yFRM_t_13, 10yTrea30yFRM_t_14, 10yTrea30yFRM_t_15, 10yTrea30yFRM_t_16, 10yTrea30yFRM_t_17, 10yTrea30yFRM_t_18, 10yTrea30yFRM_t_19, 10yTrea30yFRM_t_20, 10yTrea30yFRM_t_21, 10yTrea30yFRM_t_22, 10yTrea30yFRM_t_23, 10yTrea30yFRM_t_24, Financials\n"
     ]
    },
    {
     "ename": "IndexError",
     "evalue": "tuple index out of range",
     "output_type": "error",
     "traceback": [
      "\u001b[1;31m---------------------------------------------------------------------------\u001b[0m",
      "\u001b[1;31mIndexError\u001b[0m                                Traceback (most recent call last)",
      "\u001b[1;32m~\\AppData\\Local\\Temp\\ipykernel_50112\\1239012203.py\u001b[0m in \u001b[0;36m<module>\u001b[1;34m\u001b[0m\n\u001b[0;32m      2\u001b[0m     \u001b[0mprint\u001b[0m\u001b[1;33m(\u001b[0m\u001b[0mrow\u001b[0m\u001b[1;33m.\u001b[0m\u001b[0mname\u001b[0m\u001b[1;33m)\u001b[0m\u001b[1;33m\u001b[0m\u001b[1;33m\u001b[0m\u001b[0m\n\u001b[0;32m      3\u001b[0m     \u001b[0mprint\u001b[0m\u001b[1;33m(\u001b[0m\u001b[0mcols\u001b[0m\u001b[1;33m)\u001b[0m\u001b[1;33m\u001b[0m\u001b[1;33m\u001b[0m\u001b[0m\n\u001b[1;32m----> 4\u001b[1;33m     \u001b[0minsert_row\u001b[0m\u001b[1;33m(\u001b[0m\u001b[0mrow\u001b[0m\u001b[1;33m,\u001b[0m \u001b[0mcols\u001b[0m\u001b[1;33m,\u001b[0m \u001b[0ms_str\u001b[0m\u001b[1;33m,\u001b[0m \u001b[0mtable_name\u001b[0m\u001b[1;33m)\u001b[0m\u001b[1;33m\u001b[0m\u001b[1;33m\u001b[0m\u001b[0m\n\u001b[0m",
      "\u001b[1;32m~\\AppData\\Local\\Temp\\ipykernel_50112\\2733217786.py\u001b[0m in \u001b[0;36minsert_row\u001b[1;34m(row, cols, s_str, table_name)\u001b[0m\n\u001b[0;32m     10\u001b[0m \u001b[1;32mdef\u001b[0m \u001b[0minsert_row\u001b[0m\u001b[1;33m(\u001b[0m\u001b[0mrow\u001b[0m\u001b[1;33m,\u001b[0m \u001b[0mcols\u001b[0m\u001b[1;33m,\u001b[0m \u001b[0ms_str\u001b[0m\u001b[1;33m,\u001b[0m \u001b[0mtable_name\u001b[0m\u001b[1;33m)\u001b[0m\u001b[1;33m:\u001b[0m\u001b[1;33m\u001b[0m\u001b[1;33m\u001b[0m\u001b[0m\n\u001b[0;32m     11\u001b[0m     \u001b[0mquery\u001b[0m \u001b[1;33m=\u001b[0m \u001b[1;33m(\u001b[0m\u001b[1;34mf\"\"\"INSERT INTO {table_name} ({cols})VALUES ({s_str});\"\"\"\u001b[0m\u001b[1;33m)\u001b[0m\u001b[1;33m\u001b[0m\u001b[1;33m\u001b[0m\u001b[0m\n\u001b[1;32m---> 12\u001b[1;33m     \u001b[0mcur\u001b[0m\u001b[1;33m.\u001b[0m\u001b[0mexecute\u001b[0m\u001b[1;33m(\u001b[0m\u001b[0mquery\u001b[0m\u001b[1;33m,\u001b[0m \u001b[1;33m(\u001b[0m\u001b[0mrow\u001b[0m\u001b[1;33m.\u001b[0m\u001b[0mname\u001b[0m\u001b[1;33m,\u001b[0m\u001b[1;33m)\u001b[0m\u001b[1;33m)\u001b[0m\u001b[1;33m\u001b[0m\u001b[1;33m\u001b[0m\u001b[0m\n\u001b[0m\u001b[0;32m     13\u001b[0m     \u001b[0mconn\u001b[0m\u001b[1;33m.\u001b[0m\u001b[0mcommit\u001b[0m\u001b[1;33m(\u001b[0m\u001b[1;33m)\u001b[0m\u001b[1;33m\u001b[0m\u001b[1;33m\u001b[0m\u001b[0m\n",
      "\u001b[1;31mIndexError\u001b[0m: tuple index out of range"
     ]
    }
   ],
   "source": [
    "for i, row in table_df.iterrows():\n",
    "    print(row.name)\n",
    "    print(cols)\n",
    "    insert_row(row, cols, s_str, table_name)"
   ]
  },
  {
   "cell_type": "code",
   "execution_count": 74,
   "metadata": {},
   "outputs": [],
   "source": [
    "s_list = []\n",
    "for col in df.columns:\n",
    "    s_list.append(f\"%s\")\n",
    "s_str = \", \".join(s_list)"
   ]
  },
  {
   "cell_type": "code",
   "execution_count": 75,
   "metadata": {},
   "outputs": [],
   "source": [
    "cols = \", \".join(df.columns)"
   ]
  },
  {
   "cell_type": "code",
   "execution_count": 77,
   "metadata": {},
   "outputs": [
    {
     "ename": "SyntaxError",
     "evalue": "error de sintaxis en o cerca de «=»\nLINE 1: SELECT date FROM Financials_data date = '2004-02-15';\n                                              ^\n",
     "output_type": "error",
     "traceback": [
      "\u001b[1;31m---------------------------------------------------------------------------\u001b[0m",
      "\u001b[1;31mSyntaxError\u001b[0m                               Traceback (most recent call last)",
      "\u001b[1;32m~\\AppData\\Local\\Temp\\ipykernel_50112\\1689009318.py\u001b[0m in \u001b[0;36m<module>\u001b[1;34m\u001b[0m\n\u001b[0;32m      8\u001b[0m \u001b[0mcur\u001b[0m \u001b[1;33m=\u001b[0m \u001b[0mconn\u001b[0m\u001b[1;33m.\u001b[0m\u001b[0mcursor\u001b[0m\u001b[1;33m(\u001b[0m\u001b[1;33m)\u001b[0m\u001b[1;33m\u001b[0m\u001b[1;33m\u001b[0m\u001b[0m\n\u001b[0;32m      9\u001b[0m \u001b[1;32mfor\u001b[0m \u001b[0mi\u001b[0m\u001b[1;33m,\u001b[0m \u001b[0mrow\u001b[0m \u001b[1;32min\u001b[0m \u001b[0mtable_df\u001b[0m\u001b[1;33m.\u001b[0m\u001b[0miterrows\u001b[0m\u001b[1;33m(\u001b[0m\u001b[1;33m)\u001b[0m\u001b[1;33m:\u001b[0m\u001b[1;33m\u001b[0m\u001b[1;33m\u001b[0m\u001b[0m\n\u001b[1;32m---> 10\u001b[1;33m     \u001b[1;32mif\u001b[0m \u001b[0mcheck_date_exists\u001b[0m\u001b[1;33m(\u001b[0m\u001b[0mcur\u001b[0m\u001b[1;33m,\u001b[0m \u001b[0mrow\u001b[0m\u001b[1;33m.\u001b[0m\u001b[0mname\u001b[0m\u001b[1;33m,\u001b[0m \u001b[0mtable_name\u001b[0m\u001b[1;33m)\u001b[0m\u001b[1;33m:\u001b[0m\u001b[1;33m\u001b[0m\u001b[1;33m\u001b[0m\u001b[0m\n\u001b[0m\u001b[0;32m     11\u001b[0m         \u001b[0mupdate_row\u001b[0m\u001b[1;33m(\u001b[0m\u001b[0mi\u001b[0m\u001b[1;33m,\u001b[0m \u001b[0mcur\u001b[0m\u001b[1;33m,\u001b[0m \u001b[0mtable_name\u001b[0m\u001b[1;33m)\u001b[0m\u001b[1;33m\u001b[0m\u001b[1;33m\u001b[0m\u001b[0m\n\u001b[0;32m     12\u001b[0m     \u001b[1;32melse\u001b[0m\u001b[1;33m:\u001b[0m\u001b[1;33m\u001b[0m\u001b[1;33m\u001b[0m\u001b[0m\n",
      "\u001b[1;32m~\\AppData\\Local\\Temp\\ipykernel_50112\\1147683427.py\u001b[0m in \u001b[0;36mcheck_date_exists\u001b[1;34m(cur, date, table_name)\u001b[0m\n\u001b[0;32m      1\u001b[0m \u001b[1;32mdef\u001b[0m \u001b[0mcheck_date_exists\u001b[0m\u001b[1;33m(\u001b[0m\u001b[0mcur\u001b[0m\u001b[1;33m,\u001b[0m \u001b[0mdate\u001b[0m\u001b[1;33m,\u001b[0m \u001b[0mtable_name\u001b[0m\u001b[1;33m)\u001b[0m\u001b[1;33m:\u001b[0m\u001b[1;33m\u001b[0m\u001b[1;33m\u001b[0m\u001b[0m\n\u001b[0;32m      2\u001b[0m     \u001b[0mquery\u001b[0m \u001b[1;33m=\u001b[0m \u001b[1;33m(\u001b[0m\u001b[1;34mf\"\"\"SELECT date FROM {table_name} date = %s;\"\"\"\u001b[0m\u001b[1;33m)\u001b[0m\u001b[1;33m\u001b[0m\u001b[1;33m\u001b[0m\u001b[0m\n\u001b[1;32m----> 3\u001b[1;33m     \u001b[0mcur\u001b[0m\u001b[1;33m.\u001b[0m\u001b[0mexecute\u001b[0m\u001b[1;33m(\u001b[0m\u001b[0mquery\u001b[0m\u001b[1;33m,\u001b[0m \u001b[1;33m(\u001b[0m\u001b[0mdate\u001b[0m\u001b[1;33m,\u001b[0m\u001b[1;33m)\u001b[0m\u001b[1;33m)\u001b[0m\u001b[1;33m\u001b[0m\u001b[1;33m\u001b[0m\u001b[0m\n\u001b[0m\u001b[0;32m      4\u001b[0m     \u001b[1;32mreturn\u001b[0m \u001b[0mcur\u001b[0m\u001b[1;33m.\u001b[0m\u001b[0mfetchone\u001b[0m\u001b[1;33m(\u001b[0m\u001b[1;33m)\u001b[0m \u001b[1;32mis\u001b[0m \u001b[1;32mnot\u001b[0m \u001b[1;32mNone\u001b[0m\u001b[1;33m\u001b[0m\u001b[1;33m\u001b[0m\u001b[0m\n\u001b[0;32m      5\u001b[0m \u001b[1;32mdef\u001b[0m \u001b[0mupdate_row\u001b[0m\u001b[1;33m(\u001b[0m\u001b[0mi\u001b[0m\u001b[1;33m,\u001b[0m \u001b[0mcur\u001b[0m\u001b[1;33m,\u001b[0m \u001b[0mtable_name\u001b[0m\u001b[1;33m)\u001b[0m\u001b[1;33m:\u001b[0m\u001b[1;33m\u001b[0m\u001b[1;33m\u001b[0m\u001b[0m\n",
      "\u001b[1;31mSyntaxError\u001b[0m: error de sintaxis en o cerca de «=»\nLINE 1: SELECT date FROM Financials_data date = '2004-02-15';\n                                              ^\n"
     ]
    }
   ],
   "source": [
    "tmp_df = pd.DataFrame(columns=table_df.columns)\n",
    "cols = \", \".join(table_df.columns)\n",
    "s_list = []\n",
    "for col in df.columns:\n",
    "    s_list.append(f\"%s\")\n",
    "s_str = \", \".join(s_list)\n",
    "\n",
    "cur = conn.cursor()\n",
    "for i, row in table_df.iterrows():\n",
    "    if check_date_exists(cur, row.name, table_name):\n",
    "        update_row(i, cur, table_name)\n",
    "    else:\n",
    "        tmp_df = tmp_df.append(row)\n",
    "        insert_row(row, cols, s_str, table_name)\n",
    "    # print(row)"
   ]
  },
  {
   "cell_type": "code",
   "execution_count": null,
   "metadata": {},
   "outputs": [],
   "source": []
  },
  {
   "cell_type": "code",
   "execution_count": null,
   "metadata": {},
   "outputs": [],
   "source": []
  },
  {
   "cell_type": "code",
   "execution_count": null,
   "metadata": {},
   "outputs": [],
   "source": []
  },
  {
   "cell_type": "code",
   "execution_count": 33,
   "metadata": {},
   "outputs": [],
   "source": [
    "def lstm_model(epochs,batch_size,validation_split):\n",
    "    # LSTM model\n",
    "    lstm_model = Sequential()\n",
    "    lstm_model.add(LSTM(units=160, return_sequences=True, activation='relu', input_shape=(X_train_scaled.shape[1], 1)))\n",
    "    lstm_model.add(LSTM(units=480, return_sequences=True, activation='relu', input_shape=(X_train_scaled.shape[1], 1)))\n",
    "    lstm_model.add(LSTM(256))\n",
    "    lstm_model.add(Dense(units=1))\n",
    "    lstm_model.compile(optimizer='adam', loss='mse')\n",
    "    lstm_model.fit(X_train_scaled, y_train, epochs=epochs, batch_size=batch_size, validation_split=validation_split)\n",
    "    return lstm_model\n",
    "\n",
    "def gru_model(epochs,batch_size,validation_split):\n",
    "    # gru model\n",
    "    gru_model = Sequential()\n",
    "    gru_model.add(GRU(units=64, return_sequences=True, activation='relu', input_shape=(X_train_scaled.shape[1], 1)))\n",
    "    gru_model.add(GRU(32))\n",
    "    gru_model.add(Dense(units=1))\n",
    "    gru_model.compile(optimizer='adam', loss='mse')\n",
    "    gru_model.fit(X_train_scaled, y_train, epochs=epochs, batch_size=batch_size, validation_split=validation_split)\n",
    "    return gru_model\n",
    "\n",
    "def cnn_model(epochs,batch_size,validation_split):\n",
    "    # cnn model\n",
    "    cnn_model = Sequential()\n",
    "    cnn_model.add(Conv1D(filters=64, kernel_size=3, activation='relu', input_shape=(X_train_scaled.shape[1], 1)))\n",
    "    cnn_model.add(Flatten())\n",
    "    cnn_model.add(Dense(units=1))\n",
    "    cnn_model.compile(optimizer='adam', loss='mse')\n",
    "    cnn_model.fit(X_train_scaled, y_train, epochs=epochs, batch_size=batch_size, validation_split=validation_split)\n",
    "    return cnn_model"
   ]
  },
  {
   "cell_type": "code",
   "execution_count": 34,
   "metadata": {},
   "outputs": [
    {
     "name": "stdout",
     "output_type": "stream",
     "text": [
      "Epoch 1/15\n",
      "11/11 [==============================] - 185s 17s/step - loss: 0.0013 - val_loss: 6.9610e-04\n",
      "Epoch 2/15\n",
      "11/11 [==============================] - 209s 19s/step - loss: 5.7139e-04 - val_loss: 6.8685e-04\n",
      "Epoch 3/15\n",
      "11/11 [==============================] - 217s 20s/step - loss: 5.5462e-04 - val_loss: 6.8789e-04\n",
      "Epoch 4/15\n",
      "11/11 [==============================] - 218s 20s/step - loss: 5.5553e-04 - val_loss: 6.8675e-04\n",
      "Epoch 5/15\n",
      "11/11 [==============================] - 215s 20s/step - loss: 5.5868e-04 - val_loss: 6.8716e-04\n",
      "Epoch 6/15\n",
      "11/11 [==============================] - 219s 20s/step - loss: 5.5171e-04 - val_loss: 6.8588e-04\n",
      "Epoch 7/15\n",
      "11/11 [==============================] - 222s 20s/step - loss: 5.5023e-04 - val_loss: 6.8658e-04\n",
      "Epoch 8/15\n",
      "11/11 [==============================] - 223s 20s/step - loss: 5.5208e-04 - val_loss: 6.8659e-04\n",
      "Epoch 9/15\n",
      "11/11 [==============================] - 225s 21s/step - loss: 5.5106e-04 - val_loss: 6.8793e-04\n",
      "Epoch 10/15\n",
      "11/11 [==============================] - 229s 21s/step - loss: 5.5566e-04 - val_loss: 6.9554e-04\n",
      "Epoch 11/15\n",
      "11/11 [==============================] - 236s 22s/step - loss: 5.5628e-04 - val_loss: 6.9226e-04\n",
      "Epoch 12/15\n",
      "11/11 [==============================] - 231s 21s/step - loss: 5.5232e-04 - val_loss: 6.9091e-04\n",
      "Epoch 13/15\n",
      "11/11 [==============================] - 231s 21s/step - loss: 5.4945e-04 - val_loss: 6.8877e-04\n",
      "Epoch 14/15\n",
      "11/11 [==============================] - 233s 21s/step - loss: 5.5179e-04 - val_loss: 6.9136e-04\n",
      "Epoch 15/15\n",
      "11/11 [==============================] - 239s 22s/step - loss: 5.5245e-04 - val_loss: 6.9257e-04\n"
     ]
    }
   ],
   "source": [
    "models = {\n",
    "    \"LSTM\":lstm_model(epochs=15,batch_size=64,validation_split=0.2),\n",
    "    # \"GRU\":gru_model(epochs=15,batch_size=16,validation_split=0.2),\n",
    "    # \"CNN\":cnn_model(epochs=15,batch_size=16,validation_split=0.2)\n",
    "}"
   ]
  },
  {
   "cell_type": "code",
   "execution_count": 35,
   "metadata": {},
   "outputs": [
    {
     "name": "stdout",
     "output_type": "stream",
     "text": [
      "Model: \"sequential_4\"\n",
      "_________________________________________________________________\n",
      " Layer (type)                Output Shape              Param #   \n",
      "=================================================================\n",
      " lstm_11 (LSTM)              (None, 335, 160)          103680    \n",
      "                                                                 \n",
      " lstm_12 (LSTM)              (None, 335, 480)          1230720   \n",
      "                                                                 \n",
      " lstm_13 (LSTM)              (None, 256)               754688    \n",
      "                                                                 \n",
      " dense_2 (Dense)             (None, 1)                 257       \n",
      "                                                                 \n",
      "=================================================================\n",
      "Total params: 2,089,345\n",
      "Trainable params: 2,089,345\n",
      "Non-trainable params: 0\n",
      "_________________________________________________________________\n"
     ]
    }
   ],
   "source": [
    "models['LSTM'].summary()"
   ]
  },
  {
   "cell_type": "code",
   "execution_count": 36,
   "metadata": {},
   "outputs": [
    {
     "name": "stdout",
     "output_type": "stream",
     "text": [
      "5/5 [==============================] - 5s 1s/step - loss: 7.5358e-04\n",
      "Evaluate the model: LSTM: 0.0007535847253166139\n"
     ]
    }
   ],
   "source": [
    "model_eval = {}\n",
    "for name, model in models.items():\n",
    "    if name != \"CNN\":\n",
    "        loss_score = model.evaluate(X_test, y_test)\n",
    "        print(f\"Evaluate the model: {name}: {loss_score}\")\n",
    "        model_eval[name] = loss_score\n",
    "    # model.evaluate(X_test, y_test)\n",
    "model_eval_df = pd.DataFrame(model_eval.values(), index=model_eval.keys()).sort_values(by=0, ascending=True)"
   ]
  },
  {
   "cell_type": "code",
   "execution_count": 52,
   "metadata": {},
   "outputs": [
    {
     "name": "stdout",
     "output_type": "stream",
     "text": [
      "5/5 [==============================] - 7s 1s/step\n"
     ]
    }
   ],
   "source": [
    "pred = pd.DataFrame(models[\"LSTM\"].predict(X_test), index=y_test.index)*100\n",
    "pred_vol = (pred-pred.iloc[-1].values)*100"
   ]
  },
  {
   "cell_type": "code",
   "execution_count": 55,
   "metadata": {},
   "outputs": [
    {
     "name": "stdout",
     "output_type": "stream",
     "text": [
      "0    0.086909\n",
      "dtype: float32\n",
      "0.027514172859890378\n"
     ]
    }
   ],
   "source": [
    "print(pred_vol.std())\n",
    "print(y_test.std())"
   ]
  },
  {
   "cell_type": "code",
   "execution_count": null,
   "metadata": {},
   "outputs": [],
   "source": [
    "((X_test.prediction*100)-0.17).cumsum().plot()\n",
    "y_test.cumsum().plot()"
   ]
  },
  {
   "cell_type": "code",
   "execution_count": null,
   "metadata": {},
   "outputs": [],
   "source": []
  },
  {
   "cell_type": "code",
   "execution_count": null,
   "metadata": {},
   "outputs": [],
   "source": [
    "for name, model in models.items():\n",
    "    if name != \"CNN\":\n",
    "        print(f\"Review of model: {name}\")\n",
    "        try:\n",
    "            df_history = pd.DataFrame({\"Loss\":model.history.history['loss'], \"Val_Loss\":model.history.history['val_loss']})\n",
    "            df_history.plot(figsize=(10, 6), title=name)\n",
    "        except:\n",
    "            pass\n",
    "        pred = model.predict(X_test)\n",
    "        predictions = pd.DataFrame(pred, index=y_test.index)\n",
    "        predictions.index = pd.to_datetime(predictions.index)\n",
    "        predictions.columns = [target+\"_Pred\"]\n",
    "\n",
    "        model.save(f'models\\models\\{name}_best_model.h5')\n",
    "        model.save_weights(f'models\\weights\\{name}_best_model.h5') \n",
    "\n",
    "        y_test.index = pd.to_datetime(y_test.index)\n",
    "        EMF_forecast = pd.concat([y_test, predictions], axis=1).cumsum()\n",
    "        # print(model.summary())\n",
    "        plt.figure(figsize=(10, 6))\n",
    "        plt.title(f\"{name} -> {X_test.index[0]} - {X_test.index[-1]}\")\n",
    "        plt.plot(EMF_forecast, label=EMF_forecast.columns)\n",
    "        plt.legend()\n",
    "model_eval_df.columns = [\"mse\"]\n",
    "model_eval_df[\"rmse\"] = np.sqrt(model_eval_df[\"mse\"])\n",
    "all_model_results = pd.concat([model_eval_df,model_results], axis=0).sort_values(by='rmse', ascending=True)\n",
    "best_model = all_model_results.iloc[0]\n",
    "if name == best_model.name:\n",
    "    EMF_forecast.to_csv(prediction_path+f\"/EMF_forecast_{target}.csv\")"
   ]
  },
  {
   "cell_type": "code",
   "execution_count": null,
   "metadata": {},
   "outputs": [],
   "source": []
  },
  {
   "cell_type": "code",
   "execution_count": null,
   "metadata": {},
   "outputs": [],
   "source": []
  },
  {
   "cell_type": "code",
   "execution_count": null,
   "metadata": {},
   "outputs": [],
   "source": []
  },
  {
   "cell_type": "code",
   "execution_count": null,
   "metadata": {},
   "outputs": [],
   "source": []
  },
  {
   "cell_type": "markdown",
   "metadata": {},
   "source": [
    "# Forecasting Indicator Performance"
   ]
  },
  {
   "cell_type": "markdown",
   "metadata": {},
   "source": [
    "### Monte Carlo Simulation"
   ]
  },
  {
   "cell_type": "code",
   "execution_count": null,
   "metadata": {},
   "outputs": [],
   "source": [
    "# Calculating the stats\n",
    "mean = df.mean()\n",
    "var = df.var()\n",
    "drift = mean - (.5 * var)\n",
    "std = df.std()\n",
    "\n",
    "# Setting the Monte Carlo Varuables\n",
    "ind = 0\n",
    "T = 104\n",
    "num_ports = 100\n",
    "date_range = pd.date_range(start=cutoff_date, periods=T, freq=\"W\")\n",
    "\n",
    "dict_future = {}\n",
    "df_mean_future = pd.DataFrame(index=pd.date_range(start=cutoff_date, periods=T, freq=\"W\"))\n",
    "df_max_future = pd.DataFrame(index=pd.date_range(start=cutoff_date, periods=T, freq=\"W\"))\n",
    "df_min_future = pd.DataFrame(index=pd.date_range(start=cutoff_date, periods=T, freq=\"W\"))\n",
    "\n",
    "# Running through indicator columns to forecast\n",
    "for ind, col in enumerate(df.columns):\n",
    "    # Calculating the Weekly Returns\n",
    "    weekly_rets = np.exp(drift.values[ind] + std.values[ind] * norm.ppf(np.random.rand(T, num_ports)))\n",
    "\n",
    "    # Getting the most current weekly return (run it back if it's too small)\n",
    "    n = -1\n",
    "    S0 = 0\n",
    "    while (S0 < 0.01) and (S0 > -0.01):\n",
    "        S0 = df.cumsum().iloc[n,ind]\n",
    "        n = n - 1\n",
    "    # Creating the empty list and filling the first row\n",
    "    price_list = np.zeros_like(weekly_rets)\n",
    "    price_list[0] = S0\n",
    "\n",
    "    # Performing Monte Carlo Situlation a 'num_ports' number of times\n",
    "    for t in range(1,T):\n",
    "        price_list[t] = price_list[t-1] * weekly_rets[t]\n",
    "        dict_future[col] = pd.DataFrame(price_list,index=date_range)"
   ]
  },
  {
   "cell_type": "markdown",
   "metadata": {},
   "source": [
    "### Working on the forecast data"
   ]
  },
  {
   "cell_type": "markdown",
   "metadata": {},
   "source": [
    "##### Creating a list of forecasted futures"
   ]
  },
  {
   "cell_type": "code",
   "execution_count": null,
   "metadata": {},
   "outputs": [],
   "source": [
    "### Each item is a dataframe of a possible future of all indicators\n",
    "\n",
    "list_futures = []\n",
    "for n in range(0,num_ports):\n",
    "    globals()[\"df_future_\"+str(n)] = pd.DataFrame()\n",
    "    for indicator in dict_future.keys():\n",
    "        globals()[\"df_future_\"+str(n)][indicator] = dict_future[indicator][n]\n",
    "    list_futures.append(globals()[\"df_future_\"+str(n)])"
   ]
  },
  {
   "cell_type": "code",
   "execution_count": null,
   "metadata": {},
   "outputs": [],
   "source": [
    "## Define a custom merging function\n",
    "# def merge_columns_with_nans(row):\n",
    "#     merged_values = []\n",
    "#     for value in row:\n",
    "#         if pd.notna(value):\n",
    "#             merged_values.append(value)\n",
    "#     return merged_values"
   ]
  },
  {
   "cell_type": "markdown",
   "metadata": {},
   "source": [
    "##### Merging the forecasted data with the historical data"
   ]
  },
  {
   "cell_type": "code",
   "execution_count": null,
   "metadata": {},
   "outputs": [],
   "source": [
    "df.index = pd.to_datetime(df.index)\n",
    "list_present_future = []\n",
    "for n,future in enumerate(list_futures):\n",
    "    globals()[\"df_future_\"+str(n)].index = pd.to_datetime(globals()[\"df_future_\"+str(n)].index)\n",
    "    df_presentVSfuture = pd.concat([df,globals()[\"df_future_\"+str(n)].pct_change()], axis=1, join=\"outer\")\n",
    "    globals()[\"df_present_future_\"+str(n)] = pd.DataFrame()\n",
    "    for col in df_presentVSfuture.columns:\n",
    "        # df1 = df_presentVSfuture[[col]].apply(merge_columns_with_nans, axis=1).apply(pd.Series)\n",
    "        # globals()[\"df_present_future_\"+str(n)][col] = df1\n",
    "        globals()[\"df_present_future_\"+str(n)][col] = df_presentVSfuture[col].fillna(0).iloc[:,0] + df_presentVSfuture[col].fillna(0).iloc[:,1]\n",
    "    list_present_future.append(globals()[\"df_present_future_\"+str(n)])"
   ]
  },
  {
   "cell_type": "code",
   "execution_count": null,
   "metadata": {},
   "outputs": [],
   "source": [
    "def best_prediction(models_gridsearch, best_grids, top_model, X_test, y_test):\n",
    "    y_pred = models_gridsearch[best_grids.loc[0,\"Grid\"]].predict(X_test)\n",
    "    y_pred = pd.DataFrame(y_pred, columns=[target+\"_Prediction\"],index=y_test.index)\n",
    "    y_pred.index, y_test.index = pd.to_datetime(y_test.index), pd.to_datetime(y_test.index)\n",
    "    model_pred = pd.concat([y_test, y_pred], axis=1)\n",
    "    return y_pred, y_test, model_pred"
   ]
  },
  {
   "cell_type": "code",
   "execution_count": null,
   "metadata": {},
   "outputs": [],
   "source": [
    "df_prediction = df[[target]].cumsum()\n",
    "list_prediction = [df_prediction]\n",
    "for n, present_future in enumerate(list_present_future):\n",
    "    df_pred = present_future.fillna(method=\"ffill\")\n",
    "\n",
    "    test_size = T/len(df_pred)\n",
    "\n",
    "    X_train, X_test, y_train, y_test = econ_ml.train_test_split_data(data=df_pred, target_col=target, test_size=test_size)\n",
    "    # model_results, baseline_preds, best_model, best_model_name = econ_ml.baseline_ml(target, X_train, X_test, y_train, y_test, baseline_models)\n",
    "    y_pred = top_model.predict(X_test)\n",
    "    y_pred = pd.DataFrame(y_pred, columns=[target+\"_Prediction\"],index=y_test.index)\n",
    "    y_pred.index, y_test.index = pd.to_datetime(y_test.index), pd.to_datetime(y_test.index)\n",
    "    model_pred = pd.concat([y_test, y_pred], axis=1)\n",
    "    model_pred.columns = [target+\"_\"+str(n),target+\"_Prediction\"+\"_\"+str(n)]\n",
    "    latest_actual = df[[target]].cumsum().loc[df.index[-1]].values[0]\n",
    "    model_pred = model_pred.cumsum()+latest_actual\n",
    "    # df_prediction[target+\"_\"+str(n)] = model_pred[target+\"_\"+str(n)]\n",
    "    # df_prediction[target+\"_Prediction_\"+str(n)] = model_pred[target+\"_Prediction_\"+str(n)]\n",
    "    # df_prediction = pd.concat([df[target].cumsum(),model_pred.cumsum()+latest_actual], axis=1)\n",
    "    list_prediction.append(model_pred)\n",
    "df_all_predictions = pd.concat(list_prediction,axis=1)"
   ]
  },
  {
   "cell_type": "code",
   "execution_count": null,
   "metadata": {},
   "outputs": [],
   "source": [
    "df_all_predictions.to_csv(predict_path+f\"\\prediction_{target}_{Ymd_str}.csv\", index=True, index_label=\"Date\")"
   ]
  },
  {
   "cell_type": "code",
   "execution_count": null,
   "metadata": {},
   "outputs": [],
   "source": [
    "df_all_predictions.plot(figsize=(20,8), legend=False, grid=True)\n",
    "# df_all_predictions"
   ]
  },
  {
   "cell_type": "code",
   "execution_count": null,
   "metadata": {},
   "outputs": [],
   "source": [
    "df_future_preds = (df_all_predictions.loc[:,df_all_predictions.columns.str.contains(\"Prediction\")]-latest_actual).dropna()\n",
    "for n in np.linspace(0,1,5):\n",
    "    print(round(n,2))\n",
    "    df_future_preds.quantile(round(n,2),axis=1).plot(figsize=(20,8), legend=False, grid=True)"
   ]
  },
  {
   "cell_type": "code",
   "execution_count": null,
   "metadata": {},
   "outputs": [],
   "source": [
    "df_all_predictions.loc[:,df_all_predictions.columns.str.contains(\"_\")].plot()"
   ]
  },
  {
   "cell_type": "code",
   "execution_count": null,
   "metadata": {},
   "outputs": [],
   "source": [
    "pd.conco((df_all_predictions.loc[:,df_all_predictions.columns.str.contains(\"Prediction\")]))"
   ]
  },
  {
   "cell_type": "code",
   "execution_count": null,
   "metadata": {},
   "outputs": [],
   "source": [
    "df1 = pd.read_csv(r\"C:\\Users\\Joan Oliver\\Documents\\GitHub\\Economic_Market_Forecasting\\Economic_Market_Forecasting\\EMF_webapp\\src\\data\\result\\prediction_data\\prediction_SP500_20230812.csv\", \n",
    "                    index_col=\"Date\")\n",
    "df2 = pd.read_csv(r\"C:\\Users\\Joan Oliver\\Documents\\GitHub\\Economic_Market_Forecasting\\Economic_Market_Forecasting\\EMF_webapp\\src\\data\\result\\prediction_data\\prediction_Gold_20230812.csv\", \n",
    "                    index_col=\"Date\")\n",
    "df3 = pd.read_csv(r\"C:\\Users\\Joan Oliver\\Documents\\GitHub\\Economic_Market_Forecasting\\Economic_Market_Forecasting\\EMF_webapp\\src\\data\\result\\prediction_data\\prediction_CorporateBonds_20230812.csv\", \n",
    "                    index_col=\"Date\")"
   ]
  },
  {
   "cell_type": "code",
   "execution_count": null,
   "metadata": {},
   "outputs": [],
   "source": [
    "df1"
   ]
  },
  {
   "cell_type": "code",
   "execution_count": null,
   "metadata": {},
   "outputs": [],
   "source": [
    "df_future_preds = (df1.loc[:,df1.columns.str.contains(\"Prediction\")]-latest_actual).dropna()\n",
    "for n in np.linspace(0,1,5):\n",
    "    print(round(n,2))\n",
    "    df_future_preds.quantile(round(n,2),axis=1).plot(figsize=(20,8), legend=False, grid=True)"
   ]
  },
  {
   "cell_type": "markdown",
   "metadata": {},
   "source": [
    "# Testing"
   ]
  },
  {
   "cell_type": "code",
   "execution_count": null,
   "metadata": {},
   "outputs": [],
   "source": [
    "for present_future in list_present_future:\n",
    "    test_size = T/len(present_future)\n",
    "    X_train, X_test, y_train, y_test = econ_ml.train_test_split_data(data=present_future, target_col=target, test_size=test_size)\n",
    "    model_results, baseline_preds, best_model, best_model_name = econ_ml.baseline_ml(target, X_train, X_test, y_train, y_test, baseline_models)\n"
   ]
  },
  {
   "cell_type": "code",
   "execution_count": null,
   "metadata": {},
   "outputs": [],
   "source": [
    "df = df_future_mean.fillna(method=\"ffill\")"
   ]
  },
  {
   "cell_type": "code",
   "execution_count": null,
   "metadata": {},
   "outputs": [],
   "source": [
    "## Performing Machine Learning\n",
    "### Pick the best model\n",
    "\n",
    "test_size = T/len(df)\n",
    "\n",
    "X_train, X_test, y_train, y_test = econ_ml.train_test_split_data(data=df, target_col=target, test_size=test_size)\n",
    "model_results, baseline_preds, best_model, best_model_name = econ_ml.baseline_ml(target, X_train, X_test, y_train, y_test, baseline_models)"
   ]
  },
  {
   "cell_type": "code",
   "execution_count": null,
   "metadata": {},
   "outputs": [],
   "source": [
    "### Define the grids\n",
    "params_RandomForest = {\n",
    "    \"n_estimators\": [120],\n",
    "    \"max_depth\": [10,15,17],\n",
    "    \"max_features\": [\"sqrt\", 3, 4]                          \n",
    "    }\n",
    "\n",
    "params_GradientBoosting = {\n",
    "    'n_estimators': [50, 100, 150],  \n",
    "    'learning_rate': [0.01, 0.05, 0.1],  \n",
    "    'max_depth': [3, 5, 7],  \n",
    "    }\n",
    "\n",
    "params_XGBRegressor = {\n",
    "    'n_estimators': [100, 150, 250],  \n",
    "    'learning_rate': [0.01, 0.05, 0.1],  \n",
    "    'max_depth': [ 5, 7, 11],\n",
    "    # 'subsample': [0.8, 1.0],\n",
    "    # 'max_leaf_nodes': [32, 64, 108]\n",
    "    }\n",
    "\n",
    "params_KNeighborsRegressor = {\n",
    "    'n_neighbors': [3, 5, 7, 9],  \n",
    "    'weights': ['uniform', 'distance'],  \n",
    "    'p': [1, 2],  \n",
    "    }\n",
    "\n",
    "params_SVR = {\n",
    "    'C': [0.1, 1.0, 10.0],  \n",
    "    'kernel': ['linear', 'poly', 'rbf', 'sigmoid'],  \n",
    "    'degree': [2, 3, 4],  \n",
    "    'gamma': ['scale', 'auto', 0.1, 1.0],  \n",
    "    }\n",
    "\n",
    "baseline_params = {\n",
    "    \"RandomForest\":params_RandomForest,\n",
    "    \"GradientBoosting\":params_GradientBoosting,\n",
    "    \"SVR\":params_SVR,\n",
    "    \"KNeighborsRegressor\":params_KNeighborsRegressor,\n",
    "    \"XGBRegressor\":params_XGBRegressor\n",
    "}\n",
    "def model_gridSearch(baseline_models,baseline_params,model_results,X_train,y_train,X_test,y_test,cross_val=5):\n",
    "    y_test = y_test.copy()\n",
    "    models_gridsearch = {}\n",
    "    for name, model in baseline_models.items():\n",
    "        if name in model_results.index.values:\n",
    "            for mod,params in baseline_params.items():\n",
    "                if name == mod:\n",
    "                    models_gridsearch[mod] = GridSearchCV(model, params, cv=cross_val, scoring=\"neg_root_mean_squared_error\", verbose=1, n_jobs=1)\n",
    "                    models_gridsearch[mod].fit(X_train, y_train)\n",
    "    best_grids = [(i, j.best_score_) for i, j in models_gridsearch.items()]\n",
    "    best_grids = pd.DataFrame(best_grids, columns=[\"Grid\", \"Best score\"]).sort_values(by=\"Best score\", ascending=False)\n",
    "    top_model = models_gridsearch[best_grids.loc[0,\"Grid\"]]\n",
    "    return models_gridsearch, best_grids, top_model\n",
    "\n",
    "def best_prediction(models_gridsearch, best_grids, top_model, X_test, y_test):\n",
    "    y_pred = models_gridsearch[best_grids.loc[0,\"Grid\"]].predict(X_test)\n",
    "    y_pred = pd.DataFrame(y_pred, columns=[target+\"_Prediction\"],index=y_test.index)\n",
    "    y_pred.index, y_test.index = pd.to_datetime(y_test.index), pd.to_datetime(y_test.index)\n",
    "    model_pred = pd.concat([y_test, y_pred], axis=1)\n",
    "    return y_pred, y_test, model_pred"
   ]
  },
  {
   "cell_type": "code",
   "execution_count": null,
   "metadata": {},
   "outputs": [],
   "source": [
    "print(\"> Performing Machine Learning\")\n",
    "print(\">>> Performing Grid Search\")\n",
    "models_gridsearch, best_grids, top_model = model_gridSearch(baseline_models,baseline_params,model_results,X_train,y_train,X_test,y_test,cross_val=cross_val)"
   ]
  },
  {
   "cell_type": "code",
   "execution_count": null,
   "metadata": {},
   "outputs": [],
   "source": [
    "dict_future.keys()"
   ]
  },
  {
   "cell_type": "code",
   "execution_count": null,
   "metadata": {},
   "outputs": [],
   "source": [
    "print(\">>> Performing Prediction\")\n",
    "for indicator in dict_future.keys():\n",
    "    y_pred, y_test, model_pred = best_prediction(models_gridsearch, best_grids, top_model, X_test, y_test)"
   ]
  },
  {
   "cell_type": "code",
   "execution_count": null,
   "metadata": {},
   "outputs": [],
   "source": [
    "# Find the 50th percentile of the monte carlo simulations\n",
    "dict_future[\"SP500\"].reindex(dict_future[\"SP500\"].iloc[-1].sort_values(ascending=False).index, axis=1).iloc[:,int(num_ports/2)]"
   ]
  },
  {
   "cell_type": "code",
   "execution_count": null,
   "metadata": {},
   "outputs": [],
   "source": [
    "try:\n",
    "    X_test.index = pd.to_datetime(X_test.index)\n",
    "except:\n",
    "    pass\n",
    "full_test = pd.concat([model_pred, X_test], axis=1)\n",
    "print(\">>> Saving the best model and the data\")\n",
    "# Save the best model\n",
    "dump(top_model, r'C:\\Users\\Joan Oliver\\Documents\\GitHub\\Economic_Market_Forecasting\\Economic_Market_Forecasting\\EMF_webapp\\src\\model'+f\"\\{target}_best_model.joblib\")\n",
    "# Save the data\n",
    "model_pred.to_csv(data_path+f\"\\{target}_data.csv\")"
   ]
  },
  {
   "cell_type": "code",
   "execution_count": null,
   "metadata": {},
   "outputs": [],
   "source": [
    "latest_actual = df[[target]].cumsum().loc[model_pred.index[0]].values[0]\n",
    "pd.concat([df[target].cumsum(),model_pred.cumsum()+latest_actual], axis=1).plot()"
   ]
  },
  {
   "cell_type": "code",
   "execution_count": null,
   "metadata": {},
   "outputs": [],
   "source": []
  },
  {
   "cell_type": "code",
   "execution_count": null,
   "metadata": {},
   "outputs": [],
   "source": [
    "df_max = df_future_max.fillna(method=\"ffill\")\n",
    "## Performing Machine Learning\n",
    "### Pick the best model\n",
    "\n",
    "test_size = T/len(df_max)\n",
    "\n",
    "X_train, X_test, y_train, y_test = econ_ml.train_test_split_data(data=df_max, target_col=target, test_size=test_size)\n",
    "model_results, baseline_preds, best_model, best_model_name = econ_ml.baseline_ml(target, X_train, X_test, y_train, y_test, baseline_models)"
   ]
  },
  {
   "cell_type": "code",
   "execution_count": null,
   "metadata": {},
   "outputs": [],
   "source": [
    "y_pred = models_gridsearch[best_grids.loc[0,\"Grid\"]].predict(X_test)\n",
    "y_pred = pd.DataFrame(y_pred, columns=[target+\"_Prediction\"],index=y_test.index)\n",
    "y_pred.index, y_test.index = pd.to_datetime(y_test.index), pd.to_datetime(y_test.index)\n",
    "model_pred_max = pd.concat([y_test, y_pred], axis=1)\n",
    "latest_actual = df[[target]].cumsum().loc[model_pred_max.index[0]].values[0]\n",
    "df_max_prediction = pd.concat([df[target].cumsum(),model_pred_max.cumsum()+latest_actual], axis=1)\n",
    "df_max_prediction.plot()"
   ]
  },
  {
   "cell_type": "code",
   "execution_count": null,
   "metadata": {},
   "outputs": [],
   "source": [
    "df_min = df_future_min.fillna(method=\"ffill\")\n",
    "\n",
    "test_size = T/len(df_min)\n",
    "\n",
    "X_train, X_test, y_train, y_test = econ_ml.train_test_split_data(data=df_min, target_col=target, test_size=test_size)\n",
    "model_results, baseline_preds, best_model, best_model_name = econ_ml.baseline_ml(target, X_train, X_test, y_train, y_test, baseline_models)\n",
    "y_pred = models_gridsearch[best_grids.loc[0,\"Grid\"]].predict(X_test)\n",
    "y_pred = pd.DataFrame(y_pred, columns=[target+\"_Prediction\"],index=y_test.index)\n",
    "y_pred.index, y_test.index = pd.to_datetime(y_test.index), pd.to_datetime(y_test.index)\n",
    "model_pred_min = pd.concat([y_test, y_pred], axis=1)\n",
    "latest_actual = df[[target]].cumsum().loc[model_pred_min.index[0]].values[0]\n",
    "\n",
    "df_min_prediction = pd.concat([df[target].cumsum(),model_pred_min.cumsum()+latest_actual], axis=1)\n",
    "df_min_prediction.plot()"
   ]
  },
  {
   "cell_type": "code",
   "execution_count": null,
   "metadata": {},
   "outputs": [],
   "source": []
  }
 ],
 "metadata": {
  "kernelspec": {
   "display_name": "Python 3",
   "language": "python",
   "name": "python3"
  },
  "language_info": {
   "codemirror_mode": {
    "name": "ipython",
    "version": 3
   },
   "file_extension": ".py",
   "mimetype": "text/x-python",
   "name": "python",
   "nbconvert_exporter": "python",
   "pygments_lexer": "ipython3",
   "version": "3.7.4"
  },
  "orig_nbformat": 4
 },
 "nbformat": 4,
 "nbformat_minor": 2
}
