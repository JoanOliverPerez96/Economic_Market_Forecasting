{
 "cells": [
  {
   "cell_type": "code",
   "execution_count": 1,
   "metadata": {},
   "outputs": [],
   "source": [
    "from utils.libraries import *\n",
    "from utils.objects import *\n",
    "from utils.functions import *\n",
    "from definitions import *"
   ]
  },
  {
   "attachments": {},
   "cell_type": "markdown",
   "metadata": {},
   "source": [
    "## Collecting & Preparing the data"
   ]
  },
  {
   "attachments": {},
   "cell_type": "markdown",
   "metadata": {},
   "source": [
    "### Setting up the configuration"
   ]
  },
  {
   "cell_type": "code",
   "execution_count": 25,
   "metadata": {},
   "outputs": [],
   "source": [
    "# Se utiliza un rango de 20 años para la extraccion de datos económicos\n",
    "timeframe = 365*20\n",
    "today = datetime.today()\n",
    "end = today.strftime(\"%Y-%m-%d\")\n",
    "start = (today - dt.timedelta(days=timeframe)).strftime(\"%Y-%m-%d\")\n",
    "periods = \"W\"\n",
    "\n",
    "medidas = [\"mean\", \"median\", \"mode\", \"Min\", \"Percentil_25\", \"Percentil_75\",\"Max\", \"var\", \"std\", \"skew\", \"kurt\"]\n",
    "\n",
    "ROOT_PATH = Path(ROOT_PATH)\n",
    "config_paths = [\n",
    "    \"config\\Market_Data_Config.csv\",\n",
    "    \"config\\Economic_Data_Config.csv\",\n",
    "    \"config\\Calc_Data_Config.csv\"\n",
    "]\n",
    "market_config = ROOT_PATH.joinpath(config_paths[0])\n",
    "economic_config = ROOT_PATH.joinpath(config_paths[1]).abspath()\n",
    "calc_config = ROOT_PATH.joinpath(config_paths[2]).abspath()\n",
    "\n",
    "target_list = pd.read_csv(market_config, sep=\";\", header=0).loc[:, \"Codigo\"].to_list()\n",
    "\n",
    "markets_used = ['SPY', 'GDX', 'BND']\n",
    "\n",
    "target = \"SP500\"\n",
    "\n",
    "# ML random seed\n",
    "seed = 2\n",
    "\n",
    "extract = True\n",
    "\n",
    "cutoff_date = \"2023-01-01\""
   ]
  },
  {
   "attachments": {},
   "cell_type": "markdown",
   "metadata": {},
   "source": [
    "### Loading and extracting the data"
   ]
  },
  {
   "cell_type": "code",
   "execution_count": 26,
   "metadata": {},
   "outputs": [],
   "source": [
    "# Initialize the Economic Data Analyzer class\n",
    "eda = EconomicDataAnalyzer()"
   ]
  },
  {
   "cell_type": "code",
   "execution_count": 27,
   "metadata": {},
   "outputs": [
    {
     "name": "stdout",
     "output_type": "stream",
     "text": [
      "> Load the market data config\n",
      "> Load the economic data config\n",
      "> Setting up the indicator dictionaries\n",
      "> Extracting the indicator data\n",
      "   -->Extracting 10-Year Treasury Yield...\n",
      "   -->Extracting 2-Year Treasury Yield...\n",
      "   -->Extracting Federal Funds Effective Rate...\n",
      "   -->Extracting 1-Month Treasury Yield...\n",
      "   -->Extracting 3-Month Treasury Yield...\n",
      "   -->Extracting 5-Year Treasury Yield...\n",
      "   -->Extracting 20-Year Treasury Yield...\n",
      "   -->Extracting 30-Year Treasury Yield...\n",
      "   -->Extracting 15-Year Mortgage Rate...\n",
      "   -->Extracting 30-Year Mortgage Rate...\n",
      "   -->Extracting Unemployment Rate...\n",
      "   -->Extracting GDP...\n",
      "   -->Extracting Real GDP...\n",
      "   -->Extracting CPI...\n",
      "   -->Extracting PPI...\n",
      "   -->Extracting Consumer Confidence Index...\n",
      "   -->Extracting Government Debt...\n",
      "   -->Extracting Debt Service vs Disposable Income...\n",
      "   -->Extracting US Dollar Index...\n",
      "   -->Extracting Corporate Profits...\n",
      "   -->Extracting EBIT...\n",
      "   -->Extracting Retained Earnings...\n",
      "   -->Extracting Building Permits...\n",
      "   -->Extracting Velocity of Money...\n",
      "   -->Extracting Retail Sales...\n",
      "   -->Extracting Industrial Production...\n",
      "Indicators Extracted: Index(['10-Year Treasury Yield', '2-Year Treasury Yield',\n",
      "       'Federal Funds Effective Rate', '1-Month Treasury Yield',\n",
      "       '3-Month Treasury Yield', '5-Year Treasury Yield',\n",
      "       '20-Year Treasury Yield', '30-Year Treasury Yield',\n",
      "       '15-Year Mortgage Rate', '30-Year Mortgage Rate', 'Unemployment Rate',\n",
      "       'GDP', 'Real GDP', 'CPI', 'PPI', 'Consumer Confidence Index',\n",
      "       'Government Debt', 'Government Debt to GDP',\n",
      "       'Debt Service vs Disposable Income', 'US Dollar Index',\n",
      "       'Corporate Profits', 'EBIT', 'Retained Earnings', 'Building Permits',\n",
      "       'Velocity of Money', 'Retail Sales', 'Industrial Production', '3m5y',\n",
      "       '3m10y', '2y10y', '2y20y', '5y10y', '10y30y', '10yTrea30yFRM'],\n",
      "      dtype='object')\n",
      "> Extracting the market data\n",
      "[*********************100%***********************]  3 of 3 completed\n"
     ]
    }
   ],
   "source": [
    "# Load the Market Data\n",
    "print(\"> Load the market data config\")\n",
    "market = eda.read_config(market_config)\n",
    "market_dict = eda.convert_to_dictionary(markets_used=markets_used)\n",
    "market_dict = market_dict['Market']\n",
    "# Load the economic data config\n",
    "print(\"> Load the economic data config\")\n",
    "econ = eda.read_config(economic_config)\n",
    "fred_series_dict = eda.convert_to_dictionary(markets_used=None)\n",
    "fred_series_dict = fred_series_dict[\"Indicador\"]\n",
    "calc = eda.read_config(calc_config)\n",
    "series_calc_dict = eda.convert_to_dictionary(markets_used=None)\n",
    "series_calc_dict = series_calc_dict[\"Indicador\"]\n",
    "# Setting up the indicator dictionaries\n",
    "print(\"> Setting up the indicator dictionaries\")\n",
    "indicators = {}\n",
    "for ind in list(econ[\"Tipo\"].unique()):\n",
    "    indicators[ind] = econ[econ[\"Tipo\"] == ind][\"Indicador\"].to_list()\n",
    "if extract == True:\n",
    "    # Extracting the indicator data\n",
    "    print(\"> Extracting the indicator data\")\n",
    "    indicators_df = eda.indicator_extraction(fred_series_dict, series_calc_dict, root_path=ROOT_PATH)\n",
    "    # Extracting the market data\n",
    "    print(\"> Extracting the market data\")\n",
    "    stocks = list(market_dict.keys())\n",
    "    market_df = eda.market_extraction(stocks, start, end, root_path=ROOT_PATH)\n",
    "else:\n",
    "    print(\"No data extraction, reading data from data file\")\n",
    "    path = ROOT_PATH.joinpath('data', 'raw', 'indicators_df.csv')\n",
    "    indicators_df = pd.read_csv(path)\n",
    "    path = ROOT_PATH.joinpath('data', 'raw', 'market_df.csv')\n",
    "    market_df = pd.read_csv(path)"
   ]
  },
  {
   "attachments": {},
   "cell_type": "markdown",
   "metadata": {},
   "source": [
    "## Preparing the data"
   ]
  },
  {
   "cell_type": "markdown",
   "metadata": {},
   "source": [
    "### Data cleaning"
   ]
  },
  {
   "cell_type": "code",
   "execution_count": 28,
   "metadata": {},
   "outputs": [
    {
     "name": "stdout",
     "output_type": "stream",
     "text": [
      "> Cleaning the indicator data\n",
      "> Cleaning market data\n"
     ]
    }
   ],
   "source": [
    "# Cleaning the indicator data\n",
    "print(\"> Cleaning the indicator data\")\n",
    "df_indicators, df_indicators_cum, df_indicators_diff, df_indicators_rets, df_indicators_limpio = eda.limpiar_indicators(\n",
    "    df_indicators=indicators_df, \n",
    "    indicator_dict=indicators, \n",
    "    resample=periods, \n",
    "    fill_method=\"ffill\", \n",
    "    start=start, \n",
    "    end=end, \n",
    "    root_path=ROOT_PATH)\n",
    "# Cleaning the market data\n",
    "print(\"> Cleaning market data\")\n",
    "df_market, df_markets_rets, df_markets_cum, df_markets_diff  = eda.limpiar_markets(\n",
    "    markets_dict=market_dict,\n",
    "    df_markets=market_df,\n",
    "    resample=periods, \n",
    "    fill_method=\"ffill\", \n",
    "    start=start, \n",
    "    end=end, \n",
    "    root_path=ROOT_PATH)"
   ]
  },
  {
   "attachments": {},
   "cell_type": "markdown",
   "metadata": {},
   "source": [
    "### Merge indicator and market data"
   ]
  },
  {
   "cell_type": "code",
   "execution_count": 29,
   "metadata": {},
   "outputs": [],
   "source": [
    "list_market_dfs = [df_market,df_markets_rets,df_markets_cum,df_markets_diff]\n",
    "list_indicators_dfs = [df_indicators_limpio,df_indicators_rets,df_indicators_cum,df_indicators_diff]\n",
    "\n",
    "df_all_data, df_all_data_rets, df_all_data_cum, df_all_data_diff = eda.merge_data(list_market_dfs, list_indicators_dfs)"
   ]
  },
  {
   "cell_type": "markdown",
   "metadata": {},
   "source": [
    "## Feature Engineering"
   ]
  },
  {
   "cell_type": "markdown",
   "metadata": {},
   "source": [
    "### Remove Outliers "
   ]
  },
  {
   "cell_type": "code",
   "execution_count": 30,
   "metadata": {},
   "outputs": [],
   "source": [
    "df = eda.remove_outliers(df_all_data_rets)"
   ]
  },
  {
   "attachments": {},
   "cell_type": "markdown",
   "metadata": {},
   "source": [
    "### Adding features"
   ]
  },
  {
   "cell_type": "code",
   "execution_count": 31,
   "metadata": {},
   "outputs": [],
   "source": [
    "df_all_data[\"CAPE Ratio\"] = df_all_data[\"SP500\"]/(df_all_data[\"Corporate Profits\"]*0.01)\n",
    "df[\"CAPE Ratio\"] = df_all_data[\"SP500\"]/(df_all_data[\"Corporate Profits\"]*0.01)\n",
    "\n",
    "# df_all_data[\"CAPE Ratio\"].plot()\n",
    "def trend_line(df, name, deg=2):\n",
    "    coef = np.polyfit(range(0,len(df[name])), df[name], deg)\n",
    "    x_trend = np.linspace(0,len(df[name]),len(df[name]))\n",
    "    y_trend = np.polyval(coef, x_trend)\n",
    "    df = pd.DataFrame(y_trend, index=df.index, columns=[name])\n",
    "    return df\n",
    "\n",
    "# df_all_data = pd.DataFrame()\n",
    "df_all_data[\"SP_GDP\"] = df_all_data[\"SP500\"]/(df_all_data[\"GDP\"]*.01)\n",
    "df_all_data[\"SP_GDP_trend\"] = trend_line(df_all_data, \"SP_GDP\", deg=5)\n",
    "df[\"SP_GDP\"] = df_all_data[\"SP500\"]/(df_all_data[\"GDP\"]*.01)\n",
    "df[\"SP_GDP_trend\"] = trend_line(df_all_data, \"SP_GDP\", deg=5)\n",
    "\n",
    "# df_all_data = pd.DataFrame()\n",
    "std = df_all_data[\"SP_GDP\"].std()\n",
    "df_all_data[\"SP_GDP_1std\"] = df_all_data[\"SP_GDP_trend\"] + (std)\n",
    "df[\"SP_GDP_1std\"] = df_all_data[\"SP_GDP_trend\"] + (std)\n",
    "\n",
    "# df_all_data = df_all_data.copy()\n",
    "# df_ts = df_all_data.loc[:,df_all_data.columns.str.contains(f\"t-\")]\n",
    "# df_all_data.drop(df_ts.columns,axis=1,inplace=True)\n",
    "for ma in df_all_data.columns:\n",
    "    df_all_data[f\"{ma}_MA\"] = df_all_data[[ma]].rolling(window=52).mean().fillna(method=\"ffill\").fillna(method=\"bfill\")\n",
    "    df_all_data[f\"{ma}_trend\"] = trend_line(df_all_data[[ma]], ma, deg=6)\n",
    "    df_all_data[f\"{ma}_MA_trend_dif\"] = df_all_data[f\"{ma}_trend\"] - df_all_data[f\"{ma}_MA\"]\n",
    "    \n",
    "    df[f\"{ma}_MA\"] = df_all_data[[ma]].rolling(window=52).mean().fillna(method=\"ffill\").fillna(method=\"bfill\")\n",
    "    df[f\"{ma}_trend\"] = trend_line(df_all_data[[ma]], ma, deg=6)\n",
    "    df[f\"{ma}_MA_trend_dif\"] = df_all_data[f\"{ma}_trend\"] - df_all_data[f\"{ma}_MA\"]"
   ]
  },
  {
   "attachments": {},
   "cell_type": "markdown",
   "metadata": {},
   "source": [
    "### Creating lags in the data"
   ]
  },
  {
   "cell_type": "code",
   "execution_count": 32,
   "metadata": {},
   "outputs": [],
   "source": [
    "list_data_dfs = [df_all_data,df_all_data_rets,df_all_data_cum,df_all_data_diff]\n",
    "\n",
    "df_all_lag_data, df_all_lag_data_rets, df_all_lag_data_cum, df_all_lag_data_diff = eda.lag_data(list_data_dfs, target, n_lags=12)"
   ]
  },
  {
   "cell_type": "code",
   "execution_count": 166,
   "metadata": {},
   "outputs": [],
   "source": [
    "df = eda.remove_outliers(df_all_lag_data_rets)"
   ]
  },
  {
   "attachments": {},
   "cell_type": "markdown",
   "metadata": {},
   "source": [
    "## Data Preprocessing"
   ]
  },
  {
   "cell_type": "code",
   "execution_count": 167,
   "metadata": {},
   "outputs": [],
   "source": [
    "econ_ml = Preprocessor()"
   ]
  },
  {
   "cell_type": "markdown",
   "metadata": {},
   "source": [
    "### Feature Reduction"
   ]
  },
  {
   "cell_type": "markdown",
   "metadata": {},
   "source": [
    "#### Feature selection by correlation"
   ]
  },
  {
   "cell_type": "code",
   "execution_count": 168,
   "metadata": {},
   "outputs": [
    {
     "data": {
      "text/html": [
       "<div>\n",
       "<style scoped>\n",
       "    .dataframe tbody tr th:only-of-type {\n",
       "        vertical-align: middle;\n",
       "    }\n",
       "\n",
       "    .dataframe tbody tr th {\n",
       "        vertical-align: top;\n",
       "    }\n",
       "\n",
       "    .dataframe thead th {\n",
       "        text-align: right;\n",
       "    }\n",
       "</style>\n",
       "<table border=\"1\" class=\"dataframe\">\n",
       "  <thead>\n",
       "    <tr style=\"text-align: right;\">\n",
       "      <th></th>\n",
       "      <th>SP500</th>\n",
       "    </tr>\n",
       "  </thead>\n",
       "  <tbody>\n",
       "    <tr>\n",
       "      <th>SP500</th>\n",
       "      <td>1.000000</td>\n",
       "    </tr>\n",
       "    <tr>\n",
       "      <th>1-Month Treasury Yield (t-10)</th>\n",
       "      <td>0.079347</td>\n",
       "    </tr>\n",
       "    <tr>\n",
       "      <th>1-Month Treasury Yield (t-8)</th>\n",
       "      <td>0.073924</td>\n",
       "    </tr>\n",
       "    <tr>\n",
       "      <th>Government Debt to GDP (t-11)</th>\n",
       "      <td>0.073202</td>\n",
       "    </tr>\n",
       "    <tr>\n",
       "      <th>1-Month Treasury Yield (t-9)</th>\n",
       "      <td>0.072544</td>\n",
       "    </tr>\n",
       "    <tr>\n",
       "      <th>...</th>\n",
       "      <td>...</td>\n",
       "    </tr>\n",
       "    <tr>\n",
       "      <th>PPI (t-10)</th>\n",
       "      <td>-0.081338</td>\n",
       "    </tr>\n",
       "    <tr>\n",
       "      <th>Federal Funds Effective Rate (t-2)</th>\n",
       "      <td>-0.084764</td>\n",
       "    </tr>\n",
       "    <tr>\n",
       "      <th>Federal Funds Effective Rate (t-1)</th>\n",
       "      <td>-0.114186</td>\n",
       "    </tr>\n",
       "    <tr>\n",
       "      <th>Federal Funds Effective Rate</th>\n",
       "      <td>-0.120569</td>\n",
       "    </tr>\n",
       "    <tr>\n",
       "      <th>US Dollar Index</th>\n",
       "      <td>-0.241721</td>\n",
       "    </tr>\n",
       "  </tbody>\n",
       "</table>\n",
       "<p>74 rows × 1 columns</p>\n",
       "</div>"
      ],
      "text/plain": [
       "                                       SP500\n",
       "SP500                               1.000000\n",
       "1-Month Treasury Yield (t-10)       0.079347\n",
       "1-Month Treasury Yield (t-8)        0.073924\n",
       "Government Debt to GDP (t-11)       0.073202\n",
       "1-Month Treasury Yield (t-9)        0.072544\n",
       "...                                      ...\n",
       "PPI (t-10)                         -0.081338\n",
       "Federal Funds Effective Rate (t-2) -0.084764\n",
       "Federal Funds Effective Rate (t-1) -0.114186\n",
       "Federal Funds Effective Rate       -0.120569\n",
       "US Dollar Index                    -0.241721\n",
       "\n",
       "[74 rows x 1 columns]"
      ]
     },
     "execution_count": 168,
     "metadata": {},
     "output_type": "execute_result"
    }
   ],
   "source": [
    "df_feat_corr = pd.DataFrame(df.corr().loc[target,:].sort_values(ascending=False))\n",
    "df_feat_relevant_corr = df_feat_corr[(df_feat_corr[target]>0.05) | (df_feat_corr[target]<-0.05)]\n",
    "df_feat_relevant_corr"
   ]
  },
  {
   "attachments": {},
   "cell_type": "markdown",
   "metadata": {},
   "source": [
    "#### Indentifying the most important features"
   ]
  },
  {
   "attachments": {},
   "cell_type": "markdown",
   "metadata": {},
   "source": [
    "##### Splitting the data"
   ]
  },
  {
   "cell_type": "code",
   "execution_count": null,
   "metadata": {},
   "outputs": [],
   "source": []
  },
  {
   "attachments": {},
   "cell_type": "markdown",
   "metadata": {},
   "source": [
    "##### Creating the baseline for feature importance"
   ]
  },
  {
   "cell_type": "code",
   "execution_count": 184,
   "metadata": {},
   "outputs": [],
   "source": [
    "def baseline_ml(target, df, baseline_def=econ_ml.define_baseline_models()):\n",
    "    X_train, X_test, y_train, y_test = econ_ml.train_test_split_data(data=df, target_col=target, test_size=0.15)\n",
    "    baseline_models = baseline_def\n",
    "    # For model scoring\n",
    "    model_results = pd.DataFrame()\n",
    "    model_scores_dict = {}\n",
    "    model_mse_dict = {}\n",
    "    model_r2_dict = {}\n",
    "\n",
    "    # For model prediction data saving\n",
    "    preds = {}\n",
    "    preds[target] = pd.Series(y_test)\n",
    "\n",
    "    for name, model in baseline_models.items():\n",
    "        print(\"Processing \"+name)\n",
    "        if name == \"PolynomialFeatures\":\n",
    "            pass\n",
    "        else:\n",
    "            model.fit(X_train, y_train)\n",
    "            y_pred = model.predict(X_test)\n",
    "            # y_pred = pd.DataFrame(y_pred,index=y_test.index,columns=[name+\"_\"+target+\"_pred\"])\n",
    "            y_pred = pd.Series(y_pred,index=y_test.index)\n",
    "            preds[name+\"_\"+target+\"_pred\"] = y_pred\n",
    "            score = model.score(X_train, y_train)\n",
    "            mse = mean_squared_error(y_test, y_pred)\n",
    "            r2 = r2_score(y_test, y_pred)\n",
    "            model_scores_dict[name] = score\n",
    "            model_mse_dict[name] = mse\n",
    "            model_r2_dict[name] = r2\n",
    "\n",
    "    model_results = model_results.append([model_scores_dict,model_mse_dict,model_r2_dict], ignore_index=True).T.sort_values(by=0, ascending=False)\n",
    "    model_results.columns = [\"score\",\"mse\",\"r2\"]\n",
    "    model_results[\"rmse\"] = np.sqrt(model_results[\"mse\"])\n",
    "    baseline_preds = pd.DataFrame(preds)\n",
    "\n",
    "    # Pick the models that have a score above 0.75\n",
    "    model_results = model_results[model_results.loc[:,\"score\"]>(max(model_results.loc[:,\"score\"])*.75)]\n",
    "    # Sort by rmse\n",
    "    model_results.sort_values(by=\"rmse\",ascending=True,inplace=True)\n",
    "    # Pick the model with the best rmse\n",
    "    best_model_name = model_results.index[0]\n",
    "    best_model = baseline_models[best_model_name]\n",
    "    print(\"--> We choose \"+str(model_results.index.values)+\" as the best models due to their high scores and rmse\")\n",
    "    return model_results, baseline_preds, best_model, best_model_name"
   ]
  },
  {
   "cell_type": "code",
   "execution_count": 170,
   "metadata": {},
   "outputs": [
    {
     "name": "stdout",
     "output_type": "stream",
     "text": [
      "Processing RandomForest\n"
     ]
    },
    {
     "name": "stdout",
     "output_type": "stream",
     "text": [
      "Processing GradientBoosting\n",
      "Processing SVR\n",
      "Processing KNeighborsRegressor\n",
      "Processing XGBRegressor\n"
     ]
    }
   ],
   "source": [
    "model_results, baseline_preds, best_model, best_model_name = baseline_ml(target, df, baseline_def=econ_ml.define_baseline_models())"
   ]
  },
  {
   "cell_type": "code",
   "execution_count": 171,
   "metadata": {},
   "outputs": [
    {
     "name": "stdout",
     "output_type": "stream",
     "text": [
      "> Performing feature importance analysis\n"
     ]
    }
   ],
   "source": [
    "print(\"> Performing feature importance analysis\")\n",
    "df_top_data, feature_importance, top_feature_importance, score = econ_ml.feature_importance(target=target, \n",
    "                                                                                                  df_data=df.loc[:cutoff_date],\n",
    "                                                                                                  model=best_model,\n",
    "                                                                                                  accepted_importance=0.9)"
   ]
  },
  {
   "cell_type": "markdown",
   "metadata": {},
   "source": [
    "#### Feature removal"
   ]
  },
  {
   "cell_type": "code",
   "execution_count": 172,
   "metadata": {},
   "outputs": [],
   "source": [
    "def feature_removal(df, df_top_data, model_results, best_model_name, score):\n",
    "    best_model_score = model_results.loc[best_model_name,\"score\"]\n",
    "    if score > best_model_score*.8:\n",
    "        print(\"We choose to remove \"+str(len(df.columns)-len(df_top_data.columns))+\" features\")\n",
    "        df = df_top_data.copy()\n",
    "    else:\n",
    "        print(\"We choose to keep the original df with \"+str(len(df_top_data.columns))+\" features\")\n",
    "    return df"
   ]
  },
  {
   "cell_type": "code",
   "execution_count": 173,
   "metadata": {},
   "outputs": [
    {
     "name": "stdout",
     "output_type": "stream",
     "text": [
      "We choose to remove 241 features\n"
     ]
    }
   ],
   "source": [
    "df = feature_removal(df, df_top_data, model_results, best_model_name, score)"
   ]
  },
  {
   "cell_type": "markdown",
   "metadata": {},
   "source": [
    "## Performing Machine Learning"
   ]
  },
  {
   "cell_type": "markdown",
   "metadata": {},
   "source": [
    "### Pick the best model"
   ]
  },
  {
   "cell_type": "code",
   "execution_count": 185,
   "metadata": {},
   "outputs": [
    {
     "name": "stdout",
     "output_type": "stream",
     "text": [
      "Processing RandomForest\n",
      "Processing GradientBoosting\n",
      "Processing SVR\n",
      "Processing KNeighborsRegressor\n",
      "Processing XGBRegressor\n",
      "--> We choose ['RandomForest' 'XGBRegressor'] as the best models due to their high scores and rmse\n"
     ]
    }
   ],
   "source": [
    "model_results, baseline_preds, best_model, best_model_name = baseline_ml(target, df, baseline_def=econ_ml.define_baseline_models())"
   ]
  },
  {
   "cell_type": "markdown",
   "metadata": {},
   "source": [
    "### Defining the Pipelines"
   ]
  },
  {
   "cell_type": "code",
   "execution_count": 188,
   "metadata": {},
   "outputs": [
    {
     "name": "stdout",
     "output_type": "stream",
     "text": [
      "Processing RandomForest\n",
      "Processing XGBRegressor\n"
     ]
    }
   ],
   "source": [
    "# Defining the pipelines\n",
    "for name, model in baseline_models.items():\n",
    "    if name in (model_results.index.values):\n",
    "        print(\"Processing \"+name)\n",
    "        pipe = Pipeline(steps=[\n",
    "            (\"scaler\", StandardScaler()),\n",
    "            (\"selectkbest\",SelectKBest()), \n",
    "            (name, model)\n",
    "        ])\n"
   ]
  },
  {
   "cell_type": "code",
   "execution_count": null,
   "metadata": {},
   "outputs": [],
   "source": []
  },
  {
   "cell_type": "code",
   "execution_count": null,
   "metadata": {},
   "outputs": [],
   "source": []
  },
  {
   "cell_type": "code",
   "execution_count": null,
   "metadata": {},
   "outputs": [],
   "source": []
  },
  {
   "cell_type": "code",
   "execution_count": null,
   "metadata": {},
   "outputs": [],
   "source": []
  },
  {
   "cell_type": "code",
   "execution_count": null,
   "metadata": {},
   "outputs": [],
   "source": []
  },
  {
   "cell_type": "code",
   "execution_count": null,
   "metadata": {},
   "outputs": [],
   "source": []
  },
  {
   "cell_type": "code",
   "execution_count": null,
   "metadata": {},
   "outputs": [],
   "source": []
  },
  {
   "cell_type": "code",
   "execution_count": null,
   "metadata": {},
   "outputs": [],
   "source": [
    "model_results"
   ]
  },
  {
   "cell_type": "code",
   "execution_count": null,
   "metadata": {},
   "outputs": [],
   "source": [
    "# model.fit(X_train, y_train)\n",
    "# y_pred = model.predict(X_test)\n",
    "# score = model.score(X_train, y_train)\n",
    "# mse = mean_squared_error(y_test, y_pred)\n",
    "# r2 = r2_score(y_test, y_pred)\n",
    "# # print(\"score \"+name+\" \"+str(round(score,5)))\n",
    "# # print(\"mse \"+name+\" \"+str(round(mse,5)))\n",
    "# # print(\"r2 \"+name+\" \"+str(round(r2,5)))\n",
    "# model_scores_dict[name] = score\n",
    "# model_mse_dict[name] = mse\n",
    "# model_r2_dict[name] = r2"
   ]
  },
  {
   "cell_type": "code",
   "execution_count": 86,
   "metadata": {},
   "outputs": [
    {
     "data": {
      "image/png": "[encoded data removed]",
      "text/plain": [
       "<Figure size 640x480 with 1 Axes>"
      ]
     },
     "metadata": {},
     "output_type": "display_data"
    }
   ],
   "source": [
    "# plt.scatter(X_train, y_train, color='blue', label='Training Data')\n",
    "plt.figure()\n",
    "plt.plot(y_test.cumsum(), linewidth=2, label=target)\n",
    "plt.plot(y_pred.cumsum(), color='red', linewidth=2, label='Regression Line')\n",
    "plt.xlabel('X (Input Feature)')\n",
    "plt.ylabel('y (Target)')\n",
    "plt.title('Linear Regression - Training Data')\n",
    "plt.legend()\n",
    "plt.show()"
   ]
  },
  {
   "cell_type": "code",
   "execution_count": null,
   "metadata": {},
   "outputs": [],
   "source": [
    "X_train_fi, X_test_fi, y_train_fi, y_test_fi = econ_ml.train_test_split_data(data=df_top_data, target_col=target, test_size=0.15)"
   ]
  },
  {
   "cell_type": "code",
   "execution_count": null,
   "metadata": {},
   "outputs": [],
   "source": [
    "baseline_models = econ_ml.define_baseline_models()\n",
    "model_results_fi = pd.DataFrame()\n",
    "model_scores_dict = {}\n",
    "model_mse_dict = {}\n",
    "model_r2_dict = {}\n",
    "\n",
    "for name, model in baseline_models.items():\n",
    "    print(\"Processing \"+name)\n",
    "    if name == \"PolynomialFeatures\":\n",
    "        pass\n",
    "    else:\n",
    "        model.fit(X_train_fi, y_train_fi)\n",
    "        y_pred = model.predict(X_test_fi)\n",
    "        score = model.score(X_train_fi, y_train_fi)\n",
    "        mse = mean_squared_error(y_test_fi, y_pred)\n",
    "        r2 = r2_score(y_test_fi, y_pred)\n",
    "        print(\"score \"+name+\" \"+str(round(score,5)))\n",
    "        print(\"mse \"+name+\" \"+str(round(mse,5)))\n",
    "        print(\"r2 \"+name+\" \"+str(round(r2,5)))\n",
    "        model_scores_dict[name] = score\n",
    "        model_mse_dict[name] = mse\n",
    "        model_r2_dict[name] = r2\n",
    "        \n",
    "\n",
    "model_results_fi = model_results_fi.append([model_scores_dict,model_mse_dict,model_r2_dict], ignore_index=True).T.sort_values(by=0, ascending=False)\n",
    "model_results_fi.columns = [\"score\",\"mse\",\"r2\"]\n",
    "model_results_fi[\"rmse\"] = np.sqrt(model_results_fi[\"mse\"])"
   ]
  },
  {
   "cell_type": "code",
   "execution_count": null,
   "metadata": {},
   "outputs": [],
   "source": [
    "model_results"
   ]
  },
  {
   "cell_type": "code",
   "execution_count": null,
   "metadata": {},
   "outputs": [],
   "source": [
    "model_results_fi"
   ]
  },
  {
   "attachments": {},
   "cell_type": "markdown",
   "metadata": {},
   "source": [
    "### Scaling the data"
   ]
  },
  {
   "cell_type": "code",
   "execution_count": null,
   "metadata": {},
   "outputs": [],
   "source": [
    "X_train_scale, X_test_scale = econ_ml.scaler(X_train=X_train, X_test=X_test)"
   ]
  },
  {
   "attachments": {},
   "cell_type": "markdown",
   "metadata": {},
   "source": [
    "## Performing Machine Learning"
   ]
  },
  {
   "cell_type": "code",
   "execution_count": null,
   "metadata": {},
   "outputs": [],
   "source": [
    "def lstm_model(epochs,batch_size,validation_split):\n",
    "    # LSTM model\n",
    "    lstm_model = Sequential()\n",
    "    lstm_model.add(LSTM(units=64, return_sequences=True, activation='relu', input_shape=(X_train.shape[1], 1)))\n",
    "    lstm_model.add(LSTM(32))\n",
    "    lstm_model.add(Dense(units=1))\n",
    "    lstm_model.compile(optimizer='adam', loss='mse')\n",
    "    lstm_model.fit(X_train_scale, y_train, epochs=epochs, batch_size=batch_size, validation_split=validation_split)\n",
    "    return lstm_model\n",
    "\n",
    "def gru_model(epochs,batch_size,validation_split):\n",
    "    # gru model\n",
    "    gru_model = Sequential()\n",
    "    gru_model.add(GRU(units=64, return_sequences=True, activation='relu', input_shape=(X_train.shape[1], 1)))\n",
    "    gru_model.add(GRU(32))\n",
    "    gru_model.add(Dense(units=1))\n",
    "    gru_model.compile(optimizer='adam', loss='mse')\n",
    "    gru_model.fit(X_train_scale, y_train, epochs=epochs, batch_size=batch_size, validation_split=validation_split)\n",
    "    return gru_model\n",
    "\n",
    "def cnn_model(epochs,batch_size,validation_split):\n",
    "    # cnn model\n",
    "    cnn_model = Sequential()\n",
    "    cnn_model.add(Conv1D(filters=64, kernel_size=3, activation='relu', input_shape=(X_train.shape[1], 1)))\n",
    "    cnn_model.add(Flatten())\n",
    "    cnn_model.add(Dense(units=1))\n",
    "    cnn_model.compile(optimizer='adam', loss='mse')\n",
    "    cnn_model.fit(X_train_scale, y_train, epochs=epochs, batch_size=batch_size, validation_split=validation_split)\n",
    "    return cnn_model\n"
   ]
  },
  {
   "cell_type": "code",
   "execution_count": null,
   "metadata": {},
   "outputs": [],
   "source": [
    "models = {\n",
    "    \"LSTM\":lstm_model(epochs=15,batch_size=16,validation_split=0.2),\n",
    "    \"GRU\":gru_model(epochs=15,batch_size=16,validation_split=0.2),\n",
    "    \"CNN\":cnn_model(epochs=15,batch_size=16,validation_split=0.2)\n",
    "}"
   ]
  },
  {
   "cell_type": "code",
   "execution_count": null,
   "metadata": {},
   "outputs": [],
   "source": [
    "model_eval = {}\n",
    "for name, model in models.items():\n",
    "    loss_score = model.evaluate(X_test, y_test)\n",
    "    print(f\"Evaluate the model: {name}: {loss_score}\")\n",
    "    model_eval[name] = loss_score\n",
    "    # model.evaluate(X_test, y_test)\n",
    "model_eval_df = pd.DataFrame(model_eval.values(), index=model_eval.keys()).sort_values(by=0, ascending=True)\n",
    "for name, model in models.items():\n",
    "    print(f\"Review of model: {name}\")\n",
    "    # if name != \"CNN\":\n",
    "    try:\n",
    "        df_history = pd.DataFrame({\"Loss\":model.history.history['loss'], \"Val_Loss\":model.history.history['val_loss']})\n",
    "        df_history.plot(figsize=(10, 6), title=name)\n",
    "    except:\n",
    "        pass\n",
    "    pred = model.predict(X_test)\n",
    "    predictions = pd.DataFrame(pred, index=y_test.index)\n",
    "    predictions.index = pd.to_datetime(predictions.index)\n",
    "    predictions.columns = [target+\"_Pred\"]\n",
    "\n",
    "    model.save(f'models\\models\\{name}_best_model.h5')\n",
    "    model.save_weights(f'models\\weights\\{name}_best_model.h5') \n",
    "\n",
    "    y_test.index = pd.to_datetime(y_test.index)\n",
    "    EMF_forecast = pd.concat([y_test, predictions], axis=1).cumsum()\n",
    "    # print(model.summary())\n",
    "    plt.figure(figsize=(10, 6))\n",
    "    plt.title(f\"{name} -> {X_test.index[0]} - {X_test.index[-1]}\")\n",
    "    plt.plot(EMF_forecast, label=EMF_forecast.columns)\n",
    "    plt.legend()"
   ]
  },
  {
   "cell_type": "code",
   "execution_count": null,
   "metadata": {},
   "outputs": [],
   "source": [
    "model_eval_df.columns = [\"mse\"]\n",
    "model_eval_df[\"rmse\"] = np.sqrt(model_eval_df[\"mse\"])"
   ]
  },
  {
   "cell_type": "code",
   "execution_count": null,
   "metadata": {},
   "outputs": [],
   "source": [
    "all_model_results = pd.concat([model_eval_df,model_results], axis=0).sort_values(by='rmse', ascending=True)\n",
    "best_model = all_model_results.iloc[0]\n",
    "if name == best_model.name:\n",
    "    EMF_forecast.to_csv(r\"C:\\Users\\Joan Oliver\\Documents\\GitHub\\Economic_Market_Forecasting\\Economic_Market_Forecasting\\EMF_webapp\\EMF_project\"+f\"\\EMF_forecast_{target}.csv\")"
   ]
  },
  {
   "cell_type": "code",
   "execution_count": null,
   "metadata": {},
   "outputs": [],
   "source": []
  }
 ],
 "metadata": {
  "kernelspec": {
   "display_name": "Python 3",
   "language": "python",
   "name": "python3"
  },
  "language_info": {
   "codemirror_mode": {
    "name": "ipython",
    "version": 3
   },
   "file_extension": ".py",
   "mimetype": "text/x-python",
   "name": "python",
   "nbconvert_exporter": "python",
   "pygments_lexer": "ipython3",
   "version": "3.7.4"
  },
  "orig_nbformat": 4
 },
 "nbformat": 4,
 "nbformat_minor": 2
}
