{
 "cells": [
  {
   "cell_type": "code",
   "execution_count": 1,
   "metadata": {},
   "outputs": [],
   "source": [
    "from utils.libraries import *\n",
    "from utils.objects import *\n",
    "from utils.functions import *"
   ]
  },
  {
   "cell_type": "code",
   "execution_count": 2,
   "metadata": {},
   "outputs": [
    {
     "data": {
      "text/plain": [
       "{'LinearRegression': LinearRegression(),\n",
       " 'PolynomialFeatures': PolynomialFeatures(),\n",
       " 'DecisionTree': DecisionTreeRegressor(),\n",
       " 'RandomForest': RandomForestRegressor(),\n",
       " 'GradientBoosting': GradientBoostingRegressor(),\n",
       " 'SVR': SVR(),\n",
       " 'KNeighborsRegressor': KNeighborsRegressor()}"
      ]
     },
     "execution_count": 2,
     "metadata": {},
     "output_type": "execute_result"
    }
   ],
   "source": [
    "ml = MachineLearning()\n",
    "\n",
    "ml.define_baseline_models()"
   ]
  },
  {
   "cell_type": "code",
   "execution_count": 3,
   "metadata": {},
   "outputs": [],
   "source": [
    "data = pd.read_csv(r'C:\\Users\\Joan Oliver\\BullGlobe\\Investing_Scripts\\Economic_Market_Forecasting\\src\\data\\processed\\model_data_monthly.csv',index_col=0, header=0)"
   ]
  },
  {
   "cell_type": "code",
   "execution_count": 4,
   "metadata": {},
   "outputs": [],
   "source": [
    "X_train, X_test, y_train, y_test = ml.split_data(test_size=0.3, data=data, target_col=\"SP500\")\n",
    "X_train_scaled, X_test_scaled = ml.scaler(X_train, X_test)"
   ]
  },
  {
   "cell_type": "code",
   "execution_count": 41,
   "metadata": {},
   "outputs": [
    {
     "data": {
      "text/plain": [
       "Index(['10-Year Treasury Yield', '2-Year Treasury Yield',\n",
       "       '5-Year Treasury Yield', '20-Year Treasury Yield',\n",
       "       '30-Year Treasury Yield', '15-Year Mortgage Rate', 'Unemployment Rate',\n",
       "       'PPI', 'Consumer Confidence Index', 'Government Debt',\n",
       "       'Government Debt to GDP', 'US Dollar Index', 'Corporate Profits',\n",
       "       'Building Permits', '3m10y', '2y20y', '5y10y', '10y30y',\n",
       "       'Corporate_Bonds', 'Gold'],\n",
       "      dtype='object')"
      ]
     },
     "execution_count": 41,
     "metadata": {},
     "output_type": "execute_result"
    }
   ],
   "source": [
    "from sklearn.feature_selection import SelectKBest, f_classif\n",
    "num_inds = X_train.shape[1]\n",
    "# Select top-2 features\n",
    "k = int(num_inds*.7)\n",
    "selector = SelectKBest(score_func=f_classif, k=k)\n",
    "X_new = selector.fit_transform(X_train, y_train)\n",
    "selected_features = X_train.columns[selector.get_support()]\n",
    "print(selected_features) \n",
    "data_corr = pd.DataFrame(data.corr()[\"SP500\"].sort_values(ascending=False))\n",
    "top_data_corr = data_corr[data_corr.index.isin(selected_features)]\n",
    "print(top_data_corr)"
   ]
  },
  {
   "cell_type": "code",
   "execution_count": 9,
   "metadata": {},
   "outputs": [],
   "source": [
    "import pandas as pd\n",
    "import numpy as np\n",
    "from statsmodels.tsa.stattools import grangercausalitytests\n",
    "\n",
    "# Perform Granger Causality test\n",
    "lag_order = 12  # Specify the maximum lag order\n",
    "causality_matrix = np.zeros((len(X_train.columns), len(X_train.columns)))  # Empty matrix to store the causality results\n",
    "\n",
    "for i, feature in enumerate(X_train.columns):\n",
    "    for j, target in enumerate(X_train.columns):\n",
    "        if i != j:\n",
    "            # Perform the Granger Causality test\n",
    "            test_result = grangercausalitytests(X_train[[target, feature]], maxlag=lag_order, verbose=False)\n",
    "            p_value = test_result[lag_order][0]['ssr_ftest'][1]  # Get the p-value from the test result\n",
    "\n",
    "            # Store the p-value in the causality matrix\n",
    "            causality_matrix[i, j] = p_value\n",
    "\n",
    "# Set a significance threshold\n",
    "significance_threshold = 0.05\n",
    "\n",
    "# Select features with significant causality\n",
    "significant_features = X_train.columns[np.any(causality_matrix < significance_threshold, axis=0)]\n",
    "\n",
    "# Subset the data with significant features\n",
    "X_reduced = X_train[significant_features]\n",
    "\n",
    "print(X_reduced.columns)\n",
    "print(len(X_reduced.columns))\n"
   ]
  },
  {
   "cell_type": "code",
   "execution_count": null,
   "metadata": {},
   "outputs": [],
   "source": [
    "ml.lag_generator()"
   ]
  },
  {
   "cell_type": "code",
   "execution_count": 14,
   "metadata": {},
   "outputs": [],
   "source": [
    "def time_delay_embedding(series: pd.Series,\n",
    "                         n_lags: int,\n",
    "                         horizon: int,\n",
    "                         return_Xy: bool = False):\n",
    "    \"\"\"\n",
    "    Time delay embedding\n",
    "    Time series for supervised learning\n",
    "    :param series: time series as pd.Series\n",
    "    :param n_lags: number of past values to used as explanatory variables\n",
    "    :param horizon: how many values to forecast\n",
    "    :param return_Xy: whether to return the lags split from future observations\n",
    "    :return: pd.DataFrame with reconstructed time series\n",
    "    \"\"\"\n",
    "    assert isinstance(series, pd.Series)\n",
    "\n",
    "    if series.name is None:\n",
    "        name = 'Series'\n",
    "    else:\n",
    "        name = series.name\n",
    "\n",
    "    n_lags_iter = list(range(n_lags, -horizon, -1))\n",
    "\n",
    "    df_list = [series.shift(i) for i in n_lags_iter]\n",
    "    df = pd.concat(df_list, axis=1).dropna()\n",
    "    df.columns = [f'{name}(t-{j - 1})'\n",
    "                  if j > 0 else f'{name}(t+{np.abs(j) + 1})'\n",
    "                  for j in n_lags_iter]\n",
    "\n",
    "    df.columns = [re.sub('t-0', 't', x) for x in df.columns]\n",
    "\n",
    "    if not return_Xy:\n",
    "        return df\n",
    "\n",
    "    is_future = df.columns.str.contains('\\+')\n",
    "\n",
    "    X = df.iloc[:, ~is_future]\n",
    "    Y = df.iloc[:, is_future]\n",
    "    if Y.shape[1] == 1:\n",
    "        Y = Y.iloc[:, 0]\n",
    "\n",
    "    return X, Y"
   ]
  },
  {
   "cell_type": "code",
   "execution_count": 15,
   "metadata": {},
   "outputs": [],
   "source": [
    "import numpy as np\n",
    "from scipy import stats\n",
    "import statsmodels.tsa.stattools as ts\n",
    "\n",
    "\n",
    "def covariance(x: np.ndarray, y: np.ndarray) -> float:\n",
    "    \"\"\" Covariance between x and y\n",
    "    \"\"\"\n",
    "    cov_xy = np.cov(x, y)[0][1]\n",
    "\n",
    "    return cov_xy\n",
    "\n",
    "\n",
    "def co_integration(x: np.ndarray, y: np.ndarray):\n",
    "    \"\"\" Co-integration test between x and y\n",
    "    \"\"\"\n",
    "    r, _, _ = ts.coint(x, y)\n",
    "\n",
    "    return r\n",
    "\n",
    "\n",
    "def correlation(x: np.ndarray,\n",
    "                y: np.ndarray,\n",
    "                method: str = \"kendall\"):\n",
    "    \"\"\" Correlation between x and y\n",
    "    \"\"\"\n",
    "    assert method in [\"pearson\", \"spearman\", \"kendall\"]\n",
    "\n",
    "    corr, p_value = stats.pearsonr(x, y)\n",
    "\n",
    "    return corr"
   ]
  },
  {
   "cell_type": "code",
   "execution_count": 16,
   "metadata": {},
   "outputs": [],
   "source": [
    "data.drop(\"Government Debt to GDP\", axis=1, inplace=True)"
   ]
  },
  {
   "cell_type": "code",
   "execution_count": 17,
   "metadata": {},
   "outputs": [],
   "source": [
    "# from src.tde import time_delay_embedding\n",
    "\n",
    "target_var = 'SP500'\n",
    "\n",
    "colnames = data.columns.tolist()\n",
    "\n",
    "# create data set with lagged features using time delay embedding\n",
    "data_ds = []\n",
    "for col in colnames:\n",
    "    col_df = time_delay_embedding(data[col], n_lags=12, horizon=12)\n",
    "    data_ds.append(col_df)\n",
    "\n",
    "# concatenating all variables\n",
    "data_df = pd.concat(data_ds, axis=1).dropna()"
   ]
  },
  {
   "cell_type": "code",
   "execution_count": 18,
   "metadata": {},
   "outputs": [
    {
     "data": {
      "text/plain": [
       "696"
      ]
     },
     "execution_count": 18,
     "metadata": {},
     "output_type": "execute_result"
    }
   ],
   "source": [
    "len(data_df.columns)"
   ]
  },
  {
   "cell_type": "code",
   "execution_count": 19,
   "metadata": {},
   "outputs": [
    {
     "data": {
      "text/plain": [
       "5.041796097288208"
      ]
     },
     "execution_count": 19,
     "metadata": {},
     "output_type": "execute_result"
    }
   ],
   "source": [
    "import pandas as pd\n",
    "\n",
    "from sklearn.model_selection import train_test_split\n",
    "from sklearn.metrics import mean_absolute_percentage_error as mape\n",
    "from sklearn.multioutput import MultiOutputRegressor\n",
    "from lightgbm import LGBMRegressor\n",
    "\n",
    "# defining target (Y) and explanatory variables (X)\n",
    "predictor_variables = data_df.columns.str.contains('\\(t\\-')\n",
    "target_variables = data_df.columns.str.contains(f'{target_var}\\(t\\+')\n",
    "X = data_df.iloc[:, predictor_variables]\n",
    "Y = data_df.iloc[:, target_variables]\n",
    "\n",
    "# train/test split\n",
    "X_tr, X_ts, Y_tr, Y_ts = train_test_split(X, Y, test_size=0.3, shuffle=False)\n",
    "\n",
    "# fitting a lgbm model without feature engineering\n",
    "model_wo_fe = MultiOutputRegressor(LGBMRegressor())\n",
    "model_wo_fe.fit(X_tr, Y_tr)\n",
    "\n",
    "# getting forecasts for the test set\n",
    "preds_wo_fe = model_wo_fe.predict(X_ts)\n",
    "\n",
    "# computing the MAPE error\n",
    "mape(Y_ts, preds_wo_fe)\n",
    "# 0.238"
   ]
  },
  {
   "cell_type": "code",
   "execution_count": 20,
   "metadata": {},
   "outputs": [],
   "source": [
    "SUMMARY_STATS = {\n",
    "    'mean': np.mean,\n",
    "    'sdev': np.std,\n",
    "}\n",
    "\n",
    "univariate_features = {}\n",
    "# for each column in the data\n",
    "for col in colnames:\n",
    "    # get lags for that column\n",
    "    X_col = X.iloc[:, X.columns.str.startswith(col)]\n",
    "\n",
    "    # for each summary stat\n",
    "    for feat, func in SUMMARY_STATS.items():\n",
    "        # compute that stat along the rows\n",
    "        univariate_features[f'{col}_{feat}'] = X_col.apply(func, axis=1)\n",
    "\n",
    "# concatenate features into a pd.DF\n",
    "univariate_features_df = pd.concat(univariate_features, axis=1)"
   ]
  },
  {
   "cell_type": "code",
   "execution_count": 21,
   "metadata": {},
   "outputs": [],
   "source": [
    "from scipy.spatial.distance import jensenshannon\n",
    "from scipy import signal\n",
    "from scipy.special import rel_entr\n",
    "\n",
    "# from src.feature_extraction import covariance, co_integration\n",
    "\n",
    "BIVARIATE_STATS = {\n",
    "    'covariance': covariance,\n",
    "    'co_integration': co_integration,\n",
    "    'js_div': jensenshannon,\n",
    "}\n",
    "\n",
    "BIVARIATE_TRANSFORMATIONS = {\n",
    "    'corr': signal.correlate,\n",
    "    'conv': signal.convolve,\n",
    "    'rel_entr': rel_entr,\n",
    "}\n",
    "\n",
    "# get all pairs of variables\n",
    "col_combs = list(itertools.combinations(colnames, 2))\n",
    "\n",
    "bivariate_features = []\n",
    "# for each row\n",
    "for i, _ in X.iterrows():\n",
    "    # feature set in the i-th time-step\n",
    "    feature_set_i = {}\n",
    "    for col1, col2 in col_combs:\n",
    "        # features for pair of columns col1, col2\n",
    "\n",
    "        # getting the i-th instance for each column\n",
    "        x1 = X.loc[i, X.columns.str.startswith(col1)]\n",
    "        x2 = X.loc[i, X.columns.str.startswith(col2)]\n",
    "\n",
    "        # compute each summary stat\n",
    "        for feat, func in BIVARIATE_STATS.items():\n",
    "            feature_set_i[f'{col1}|{col2}_{feat}'] = func(x1, x2)\n",
    "\n",
    "        # for each transformation\n",
    "        for trans_f, t_func in BIVARIATE_TRANSFORMATIONS.items():\n",
    "\n",
    "            # apply transformation\n",
    "            xt = t_func(x1, x2)\n",
    "\n",
    "            # compute summary stat\n",
    "            for feat, s_func in SUMMARY_STATS.items():\n",
    "                feature_set_i[f'{col1}|{col2}_{trans_f}_{feat}'] = s_func(xt)\n",
    "\n",
    "    bivariate_features.append(feature_set_i)\n",
    "\n",
    "bivariate_features_df = pd.DataFrame(bivariate_features, index=X.index)"
   ]
  },
  {
   "cell_type": "code",
   "execution_count": 22,
   "metadata": {},
   "outputs": [
    {
     "name": "stdout",
     "output_type": "stream",
     "text": [
      "4.4883898265459665\n"
     ]
    }
   ],
   "source": [
    "# concatenating all features with lags\n",
    "X_with_features = pd.concat([X, univariate_features_df, bivariate_features_df], axis=1)\n",
    "\n",
    "# train/test split\n",
    "X_tr, X_ts, Y_tr, Y_ts = train_test_split(X_with_features, Y, test_size=0.3, shuffle=False)\n",
    "\n",
    "# fitting a lgbm model with feature engineering\n",
    "model_w_fe = MultiOutputRegressor(LGBMRegressor())\n",
    "model_w_fe.fit(X_tr, Y_tr)\n",
    "\n",
    "# getting forecasts for the test set\n",
    "preds_w_fe = model_w_fe.predict(X_ts)\n",
    "\n",
    "# computing MAPE error\n",
    "print(mape(Y_ts, preds_w_fe))\n",
    "# 0.227"
   ]
  },
  {
   "cell_type": "code",
   "execution_count": 23,
   "metadata": {},
   "outputs": [
    {
     "data": {
      "text/plain": [
       "7.746736377648532"
      ]
     },
     "execution_count": 23,
     "metadata": {},
     "output_type": "execute_result"
    }
   ],
   "source": [
    "# getting the importance of each feature in each horizon\n",
    "avg_imp = pd.DataFrame([x.feature_importances_\n",
    "                        for x in model_w_fe.estimators_]).mean()\n",
    "\n",
    "# getting the top 100 features\n",
    "n_top_features = 100\n",
    "\n",
    "importance_scores = pd.Series(dict(zip(X_tr.columns, avg_imp)))\n",
    "top_features = importance_scores.sort_values(ascending=False)[:n_top_features]\n",
    "top_features_nm = top_features.index\n",
    "\n",
    "# subsetting training and testing sets by those features\n",
    "X_tr_top = X_tr[top_features_nm]\n",
    "X_ts_top = X_ts[top_features_nm]\n",
    "\n",
    "# re-fitting the lgbm model\n",
    "model_top_features = MultiOutputRegressor(LGBMRegressor())\n",
    "model_top_features.fit(X_tr_top, Y_tr)\n",
    "\n",
    "# getting forecasts for the test set\n",
    "preds_top_feats = model_top_features.predict(X_ts_top)\n",
    "\n",
    "# computing MAE error\n",
    "mape(Y_ts, preds_top_feats)\n",
    "# 0.229\n",
    "top_features = top_features.sort_values(ascending=False)\n",
    "top_features = top_features[top_features.values > top_features.mean()]"
   ]
  },
  {
   "cell_type": "code",
   "execution_count": 26,
   "metadata": {},
   "outputs": [
    {
     "data": {
      "text/plain": [
       "<AxesSubplot:>"
      ]
     },
     "execution_count": 26,
     "metadata": {},
     "output_type": "execute_result"
    },
    {
     "data": {
      "image/png": "[encoded data removed]",
      "text/plain": [
       "<Figure size 800x1700 with 1 Axes>"
      ]
     },
     "metadata": {},
     "output_type": "display_data"
    }
   ],
   "source": [
    "plt.figure(figsize=(8, 17))\n",
    "sns.barplot(x=top_features.values, y=top_features.index)"
   ]
  },
  {
   "cell_type": "code",
   "execution_count": null,
   "metadata": {},
   "outputs": [],
   "source": []
  },
  {
   "cell_type": "code",
   "execution_count": null,
   "metadata": {},
   "outputs": [],
   "source": []
  },
  {
   "cell_type": "code",
   "execution_count": null,
   "metadata": {},
   "outputs": [],
   "source": []
  },
  {
   "cell_type": "code",
   "execution_count": null,
   "metadata": {},
   "outputs": [],
   "source": [
    "df_top_data[[\"Gold\",\"SP500\",\"MKT_GDP\"]].cumsum().plot(figsize=(10, 6))"
   ]
  },
  {
   "cell_type": "code",
   "execution_count": null,
   "metadata": {},
   "outputs": [],
   "source": [
    "df_lstm_history = pd.DataFrame({\"Loss\":lstm_model.history.history['loss'], \"Val_Loss\":lstm_model.history.history['val_loss']})\n",
    "\n",
    "pred = lstm_model.predict(X_test_scale)\n",
    "lstm_predictions = pd.DataFrame(pred, index=y_test.index)\n",
    "\n",
    "df_lstm_history.plot(figsize=(10, 6))\n",
    "\n",
    "lstm_model.save('models\\moldes\\lstm_best_model1.h5')\n",
    "lstm_model.save_weights('lstm_best_weights.h5')\n",
    "# lstm_model.summary()\n",
    "\n",
    "plt.figure(figsize=(10, 6))\n",
    "# plt.plot(df_all_lag_data[\"SP500\"].pct_change())\n",
    "plt.plot(y_test.index, y_test.cumsum(), label='Actual')\n",
    "plt.plot((lstm_predictions).cumsum(), label=\"Pred\")\n",
    "plt.legend()\n"
   ]
  },
  {
   "cell_type": "code",
   "execution_count": null,
   "metadata": {},
   "outputs": [],
   "source": [
    "df_all_data[\"SP500\"].loc[:\"2009-01-01\"].plot(figsize=(10, 6))"
   ]
  },
  {
   "cell_type": "code",
   "execution_count": null,
   "metadata": {},
   "outputs": [],
   "source": [
    "def create_lstm_model():\n",
    "    model = Sequential()\n",
    "    model.add(LSTM(units=64, activation='relu', input_shape=(X_train.shape[1], 1)))\n",
    "    model.add(Dense(units=1))\n",
    "    model.compile(optimizer='adam', loss='mse')\n",
    "    return model\n",
    "\n",
    "def create_gru_model():\n",
    "    model = Sequential()\n",
    "    model.add(GRU(units=64, activation='relu', input_shape=(X_train.shape[1], 1)))\n",
    "    model.add(Dense(units=1))\n",
    "    model.compile(optimizer='adam', loss='mse')\n",
    "    return model\n",
    "\n",
    "def create_cnn_model():\n",
    "    model = Sequential()\n",
    "    model.add(Conv1D(filters=64, kernel_size=3, activation='relu', input_shape=(X_train.shape[1], 1)))\n",
    "    model.add(Flatten())\n",
    "    model.add(Dense(units=1))\n",
    "    model.compile(optimizer='adam', loss='mse')\n",
    "    return model"
   ]
  },
  {
   "cell_type": "code",
   "execution_count": null,
   "metadata": {},
   "outputs": [],
   "source": [
    "tf.random.set_seed(seed)\n",
    "\n",
    "X = X_train_scale\n",
    "y = y_train\n",
    "\n",
    "lstm_model = KerasRegressor(build_fn=create_lstm_model())"
   ]
  },
  {
   "cell_type": "code",
   "execution_count": null,
   "metadata": {},
   "outputs": [],
   "source": [
    "batch_size = [10, 20, 40, 60, 80, 100]\n",
    "epochs = [10, 50, 100]\n",
    "param_grid = dict(batch_size=batch_size, epochs=epochs)\n",
    "lstm_grid = GridSearchCV(estimator=lstm_model, param_grid=param_grid, n_jobs=-2, cv=3)\n",
    "lstm_grid_result = lstm_grid.fit(X, y)"
   ]
  },
  {
   "cell_type": "code",
   "execution_count": null,
   "metadata": {},
   "outputs": [],
   "source": [
    "print(\"Best: %f using %s\" % (lstm_grid_result.best_score_, lstm_grid_result.best_params_))\n",
    "means = lstm_grid_result.cv_results_['mean_test_score']\n",
    "stds = lstm_grid_result.cv_results_['std_test_score']\n",
    "params = lstm_grid_result.cv_results_['params']\n",
    "for mean, stdev, param in zip(means, stds, params):\n",
    "    print(\"%f (%f) with: %r\" % (mean, stdev, param))"
   ]
  },
  {
   "cell_type": "code",
   "execution_count": null,
   "metadata": {},
   "outputs": [],
   "source": []
  },
  {
   "cell_type": "code",
   "execution_count": null,
   "metadata": {},
   "outputs": [],
   "source": [
    "lstm_model = Sequential()\n",
    "lstm_model.add(LSTM(64, return_sequences=True, activation='relu', input_shape=(X_train.shape[1], 1)))  # returns a sequence of vectors of dimension 32\n",
    "lstm_model.add(Dropout(0.2))\n",
    "lstm_model.add(LSTM(64, return_sequences=True, activation='relu'))  # returns a sequence of vectors of dimension 32\n",
    "lstm_model.add(Dropout(0.2))\n",
    "lstm_model.add(LSTM(32))  # return a single vector of dimension 32\n",
    "lstm_model.add(Dense(1, activation='relu'))\n",
    "lstm_model.compile(optimizer='adam', loss='mse')"
   ]
  },
  {
   "cell_type": "code",
   "execution_count": null,
   "metadata": {},
   "outputs": [],
   "source": [
    "lstm_model = Sequential()\n",
    "lstm_model.add(LSTM(units=64, return_sequences=True, activation='relu', input_shape=(X_train.shape[1], 1)))  # returns a sequence of vectors of dimension 32\n",
    "lstm_model.add(Dropout(0.2))\n",
    "lstm_model.add(LSTM(64, return_sequences=True))  # returns a sequence of vectors of dimension 32\n",
    "lstm_model.add(LSTM(64))  # return a single vector of dimension 32\n",
    "lstm_model.add(Dense(1, activation='relu'))\n",
    "\n",
    "lstm_model.add(Dense(units=1))\n",
    "lstm_model.compile(optimizer='adam', loss='mse')"
   ]
  },
  {
   "attachments": {},
   "cell_type": "markdown",
   "metadata": {},
   "source": [
    "### Defining the Pipelines"
   ]
  },
  {
   "cell_type": "code",
   "execution_count": null,
   "metadata": {},
   "outputs": [],
   "source": [
    "X = df_top_data.drop(target, axis=1)\n",
    "y = df_top_data[target]\n",
    "\n",
    "steps = [\n",
    "    ('scaling', StandardScaler()),\n",
    "    ('split', 'passthrough')\n",
    "]\n",
    "# Step 2: Model Building and Grid Search\n",
    "def create_lstm_model():\n",
    "    model = Sequential()\n",
    "    model.add(LSTM(units=64, activation='relu', input_shape=(X_train.shape[1], 1)))\n",
    "    model.add(Dense(units=1))\n",
    "    model.compile(optimizer='adam', loss='mse')\n",
    "    return model\n",
    "\n",
    "def create_gru_model():\n",
    "    model = Sequential()\n",
    "    model.add(GRU(units=64, activation='relu', input_shape=(X_train.shape[1], 1)))\n",
    "    model.add(Dense(units=1))\n",
    "    model.compile(optimizer='adam', loss='mse')\n",
    "    return model\n",
    "\n",
    "def create_cnn_model():\n",
    "    model = Sequential()\n",
    "    model.add(Conv1D(filters=64, kernel_size=3, activation='relu', input_shape=(X_train.shape[1], 1)))\n",
    "    model.add(Flatten())\n",
    "    model.add(Dense(units=1))\n",
    "    model.compile(optimizer='adam', loss='mse')\n",
    "    return model"
   ]
  },
  {
   "cell_type": "code",
   "execution_count": null,
   "metadata": {},
   "outputs": [],
   "source": [
    "lstm_model = Sequential()\n",
    "lstm_model.add(LSTM(units=64, activation='relu', input_shape=(X_train.shape[1], 1)))\n",
    "lstm_model.add(Dense(units=1))\n",
    "lstm_model.compile(optimizer='adam', loss='mse')"
   ]
  },
  {
   "cell_type": "code",
   "execution_count": null,
   "metadata": {},
   "outputs": [],
   "source": [
    "from sklearn.feature_selection import SelectKBest\n",
    "lstm = Pipeline([\n",
    "    # ('scaler', StandardScaler()),\n",
    "    # ('selectkbest',SelectKBest()),\n",
    "    ('lstm_model', lstm_model)\n",
    "])\n",
    "\n",
    "gru = Pipeline([\n",
    "    ('scaler', StandardScaler()),\n",
    "    ('split', 'passthrough'),\n",
    "    ('selectkbest',SelectKBest()),\n",
    "    ('model', create_gru_model())\n",
    "])\n",
    "\n",
    "cnn = Pipeline([\n",
    "    ('scaler', StandardScaler()),\n",
    "    ('split', 'passthrough'),\n",
    "    ('selectkbest',SelectKBest()),\n",
    "    ('model', create_cnn_model())\n",
    "])"
   ]
  },
  {
   "cell_type": "code",
   "execution_count": null,
   "metadata": {},
   "outputs": [],
   "source": [
    "lstm.fit(X_train_scale, X_test_scale)"
   ]
  },
  {
   "cell_type": "code",
   "execution_count": null,
   "metadata": {},
   "outputs": [],
   "source": [
    "# def create_varmax_model():\n",
    "#     model = VARMAX(order=(1, 1))\n",
    "#     return model\n",
    "\n",
    "# Define the parameter grid for grid search\n",
    "param_grid = {\n",
    "    'epochs': [2, 4],\n",
    "    'batch_size': [32, 64],\n",
    "}\n",
    "# param_grid_varmax = {\n",
    "#     'epochs': [50, 100],\n",
    "#     'batch_size': [32, 64],\n",
    "#     'order': [(1, 1), (2, 1)]\n",
    "# }\n",
    "\n",
    "# Wrap the Keras models with KerasRegressor for compatibility with GridSearchCV\n",
    "lstm_model = KerasRegressor(build_fn=create_lstm_model)\n",
    "gru_model = KerasRegressor(build_fn=create_gru_model)\n",
    "cnn_model = KerasRegressor(build_fn=create_cnn_model)\n",
    "# varmax_model = KerasRegressor(build_fn=create_varmax_model)\n",
    "\n",
    "# Perform grid search for each model\n",
    "lstm_grid = GridSearchCV(estimator=lstm_model, param_grid=param_grid, scoring='neg_mean_squared_error')\n",
    "gru_grid = GridSearchCV(estimator=gru_model, param_grid=param_grid, scoring='neg_mean_squared_error')\n",
    "cnn_grid = GridSearchCV(estimator=cnn_model, param_grid=param_grid, scoring='neg_mean_squared_error')\n",
    "# varmax_grid = GridSearchCV(estimator=varmax_model, param_grid=param_grid_varmax, scoring='mean_squared_error')"
   ]
  },
  {
   "cell_type": "code",
   "execution_count": null,
   "metadata": {},
   "outputs": [],
   "source": [
    "# Define the steps for the pipeline\n",
    "steps += [\n",
    "    ('lstm_grid', lstm_grid),\n",
    "    ('gru_grid', gru_grid),\n",
    "    ('cnn_grid', cnn_grid),\n",
    "    # ('varmax_grid',varmax_grid),\n",
    "]\n",
    "# Create the pipeline\n",
    "pipeline = Pipeline(steps)\n",
    "\n",
    "# Fit the pipeline to the data\n",
    "pipeline.fit_transform(X_train, y_train)"
   ]
  },
  {
   "cell_type": "code",
   "execution_count": null,
   "metadata": {},
   "outputs": [],
   "source": [
    "pipeline.best_estimator_"
   ]
  },
  {
   "cell_type": "code",
   "execution_count": null,
   "metadata": {},
   "outputs": [],
   "source": [
    "# Get the best models from grid search\n",
    "best_lstm_model = pipeline.named_steps['lstm_grid'].best_estimator_.model\n",
    "best_gru_model = pipeline.named_steps['gru_grid'].best_estimator_.model\n",
    "best_cnn_model = pipeline.named_steps['cnn_grid'].best_estimator_.model\n",
    "# best_varmax_model = pipeline.named_steps['varmax_grid'].best_estimator_.model"
   ]
  },
  {
   "cell_type": "code",
   "execution_count": null,
   "metadata": {},
   "outputs": [],
   "source": [
    "# Step 3: Model Training and Evaluation\n",
    "# Train the best models\n",
    "best_lstm_model.fit(X_train.reshape(X_train.shape[0], X_train.shape[1], 1), y_train, epochs=10)\n",
    "best_gru_model.fit(X_train.reshape(X_train.shape[0], X_train.shape[1], 1), y_train, epochs=10)\n",
    "best_cnn_model.fit(X_train.reshape(X_train.shape[0], X_train.shape[1], 1), y_train, epochs=10)\n",
    "# best_varmax_model.fit(X_train, y_train)"
   ]
  },
  {
   "cell_type": "code",
   "execution_count": null,
   "metadata": {},
   "outputs": [],
   "source": [
    "best_lstm_model.fit(X_train, y_train, epochs=20, validation_split=0.2,verbose=1)\n",
    "best_gru_model.fit(X_train, y_train, epochs=20, validation_split=0.2,verbose=1)\n",
    "best_cnn_model.fit(X_train, y_train, epochs=20, validation_split=0.2,verbose=1)"
   ]
  },
  {
   "cell_type": "code",
   "execution_count": null,
   "metadata": {},
   "outputs": [],
   "source": [
    "best_lstm_model.save('best_lstm_model.h5')\n",
    "best_lstm_model.save_weights('best_lstm_weights.h5')\n",
    "best_lstm_model.summary()"
   ]
  },
  {
   "cell_type": "code",
   "execution_count": null,
   "metadata": {},
   "outputs": [],
   "source": [
    "best_gru_model.save('best_gru_model.h5')\n",
    "best_gru_model.save_weights('best_gru_weights.h5')\n",
    "best_gru_model.summary()"
   ]
  },
  {
   "cell_type": "code",
   "execution_count": null,
   "metadata": {},
   "outputs": [],
   "source": [
    "best_cnn_model.save('best_cnn_model.h5')\n",
    "best_cnn_model.save_weights('best_cnn_weights.h5')\n",
    "best_cnn_model.summary()"
   ]
  },
  {
   "cell_type": "code",
   "execution_count": null,
   "metadata": {},
   "outputs": [],
   "source": [
    "\n",
    "# Step 4: Model Prediction and Visualization\n",
    "# Predict using the best models\n",
    "lstm_predictions = best_lstm_model.predict(X_test).flatten()\n",
    "gru_predictions = best_gru_model.predict(X_test).flatten()\n",
    "cnn_predictions = best_cnn_model.predict(X_test).flatten()\n",
    "# cnn_predictions = best_cnn_model.predict(X_test.reshape(X_test.shape[0], X_test.shape[1], 1))\n",
    "# varmax_predictions = best_varmax_model.predict(X_test)"
   ]
  },
  {
   "cell_type": "code",
   "execution_count": null,
   "metadata": {},
   "outputs": [],
   "source": [
    "gru_predictions = pd.DataFrame(gru_predictions, index=y_test.index)\n",
    "gru_predictions = pd.DataFrame(gru_predictions, index=y_test.index)\n",
    "gru_predictions = pd.DataFrame(gru_predictions, index=y_test.index)"
   ]
  },
  {
   "cell_type": "code",
   "execution_count": null,
   "metadata": {},
   "outputs": [],
   "source": [
    "gru_predictions.describe()"
   ]
  },
  {
   "cell_type": "code",
   "execution_count": null,
   "metadata": {},
   "outputs": [],
   "source": [
    "gru_predictions = gru_predictions[(gru_predictions > gru_predictions.quantile(0.05)) & (gru_predictions < gru_predictions.quantile(0.95))]"
   ]
  },
  {
   "cell_type": "code",
   "execution_count": null,
   "metadata": {},
   "outputs": [],
   "source": [
    "gru_predictions.fillna(method='ffill', inplace=True)"
   ]
  },
  {
   "cell_type": "code",
   "execution_count": null,
   "metadata": {},
   "outputs": [],
   "source": [
    "y_test"
   ]
  },
  {
   "cell_type": "code",
   "execution_count": null,
   "metadata": {},
   "outputs": [],
   "source": [
    "df_all_lag_data_rets_no_outliers[\"SP500\"].tail(100)"
   ]
  },
  {
   "cell_type": "code",
   "execution_count": null,
   "metadata": {},
   "outputs": [],
   "source": [
    "gru_predictions.hist(bins=50)"
   ]
  },
  {
   "cell_type": "code",
   "execution_count": null,
   "metadata": {},
   "outputs": [],
   "source": [
    "plt.figure(figsize=(10, 6))\n",
    "# plt.plot(df_all_lag_data[\"SP500\"].pct_change())\n",
    "plt.plot(y_test.index, y_test.cumsum(), label='Actual')\n",
    "plt.plot(((gru_predictions*100)-gru_predictions.mean()).cumsum(), label=\"Pred\")\n",
    "plt.legend()\n"
   ]
  },
  {
   "cell_type": "code",
   "execution_count": null,
   "metadata": {},
   "outputs": [],
   "source": [
    "# Visualization\n",
    "\n",
    "plt.figure(figsize=(10, 6))\n",
    "# plt.plot(y_test.index, y_test.cumsum(), label='Actual')\n",
    "plt.plot(y_test.index, lstm_predictions.cumsum(), label='LSTM')\n",
    "# plt.plot(y_test.index, gru_predictions, label='GRU')\n",
    "# plt.plot(y_test.index, cnn_predictions, label='CNN')\n",
    "# plt.plot(y_test.index, varmax_predictions, label='VARMAX')\n",
    "plt.xlabel('Date')\n",
    "plt.ylabel('Target')\n",
    "plt.title('Time Series Regression Deep Learning Models')\n",
    "plt.legend()\n",
    "plt.show()"
   ]
  },
  {
   "cell_type": "code",
   "execution_count": null,
   "metadata": {},
   "outputs": [],
   "source": [
    "lstm_predictions.pct_change().cumsum().plot()"
   ]
  },
  {
   "cell_type": "code",
   "execution_count": null,
   "metadata": {},
   "outputs": [],
   "source": [
    "((lstm_predictions * 10)-0.015).plot(\n",
    "    figsize=(10, 6),\n",
    ")"
   ]
  },
  {
   "cell_type": "code",
   "execution_count": null,
   "metadata": {},
   "outputs": [],
   "source": []
  },
  {
   "cell_type": "code",
   "execution_count": null,
   "metadata": {},
   "outputs": [],
   "source": []
  },
  {
   "cell_type": "code",
   "execution_count": null,
   "metadata": {},
   "outputs": [],
   "source": []
  },
  {
   "attachments": {},
   "cell_type": "markdown",
   "metadata": {},
   "source": [
    "LSTM Testing"
   ]
  },
  {
   "cell_type": "code",
   "execution_count": null,
   "metadata": {},
   "outputs": [],
   "source": [
    "data = df_top_lag_data.loc[:,df_top_lag_data.columns.isin(df_feature_importance.index)]\n",
    "if \"SP500(t)\" in data.columns:\n",
    "    pass\n",
    "else:\n",
    "    data = pd.concat([data, df_top_lag_data[[\"SP500(t)\"]]], axis=1).dropna()"
   ]
  },
  {
   "cell_type": "code",
   "execution_count": null,
   "metadata": {},
   "outputs": [],
   "source": [
    "cutoff_date = \"2008-01-10\"\n",
    "# data = df_top_lag_data[df_top_lag_data.index<=cutoff_date]\n",
    "data[data.index<=cutoff_date]\n",
    "training_date = pd.to_datetime(data.index)\n",
    "cols = list(data.columns)\n",
    "df_for_training = data[cols].astype(float)\n",
    "scaler = StandardScaler()\n",
    "scaler = scaler.fit(df_for_training)\n",
    "df_for_training = scaler.transform(df_for_training)\n",
    "trainX = []\n",
    "trainY = []\n",
    "\n",
    "n_future = 1\n",
    "n_past = 14\n",
    "\n",
    "for i in range(n_past, len(df_for_training) - n_future + 1):\n",
    "    trainX.append(df_for_training[i - n_past:i, :df_for_training.shape[1]])\n",
    "    trainY.append(df_for_training[i + n_future - 1:i + n_future, -1])\n",
    "\n",
    "trainX, trainY = np.array(trainX), np.array(trainY)\n",
    "\n",
    "print(trainX.shape)\n",
    "print(trainY.shape)\n",
    "# LSTM Model\n",
    "import keras\n",
    "from keras.models import Sequential\n",
    "from keras.layers import LSTM\n",
    "from keras.layers import Dense\n",
    "from keras.layers import Dropout\n",
    "layers = [\n",
    "    keras.layers.LSTM(units=64, activation='relu', return_sequences=True, input_shape=(trainX.shape[1], trainX.shape[2])),\n",
    "    # keras.layers.LSTM(units=64, activation='relu', return_sequences=True, input_shape=(trainX.shape[1], trainX.shape[2])),\n",
    "    keras.layers.LSTM(units=16, activation='relu', return_sequences=False),\n",
    "    keras.layers.Dropout(0.1),\n",
    "    keras.layers.Dense(1, activation='relu')\n",
    "]\n",
    "\n",
    "model = Sequential(layers)\n",
    "model.compile(optimizer=\"adam\", loss=\"mse\", )\n",
    "model.summary()\n"
   ]
  },
  {
   "cell_type": "code",
   "execution_count": null,
   "metadata": {},
   "outputs": [],
   "source": [
    "history = model.fit(trainX, trainY, epochs=15, batch_size=16, validation_split=0.1, verbose=1)\n",
    "diff = pd.Series(history.history['val_loss']) - pd.Series(history.history['loss'])\n",
    "plt.plot(history.history['loss'])\n",
    "plt.plot(history.history['val_loss'])\n",
    "plt.plot(diff)\n",
    "plt.legend(['loss', 'val_loss', 'diff'])\n"
   ]
  },
  {
   "cell_type": "code",
   "execution_count": null,
   "metadata": {},
   "outputs": [],
   "source": [
    "n = 66\n",
    "forecast_period_dates = pd.date_range(list(training_date)[-1], periods=n, freq='W')\n",
    "forecast = model.predict(trainX[-n:])\n",
    "forecast_copies = np.repeat(forecast, df_for_training.shape[1], axis=-1)\n",
    "y_pred_future = scaler.inverse_transform(forecast_copies)[:,0]\n",
    "pd.Series(y_pred_future).plot()\n",
    "forecast_dates = []\n",
    "\n",
    "for time_i in forecast_period_dates:\n",
    "    forecast_dates.append(time_i.date())\n"
   ]
  },
  {
   "cell_type": "code",
   "execution_count": null,
   "metadata": {},
   "outputs": [],
   "source": [
    "print(len(forecast_dates))\n",
    "print(len(y_pred_future))"
   ]
  },
  {
   "cell_type": "code",
   "execution_count": null,
   "metadata": {},
   "outputs": [],
   "source": [
    "data.columns"
   ]
  },
  {
   "cell_type": "code",
   "execution_count": null,
   "metadata": {},
   "outputs": [],
   "source": [
    "df_forecast = pd.DataFrame({\"SP500(t)\":y_pred_future})\n",
    "# df_forecast.index = pd.to_datetime(df_forecast.index).strftime(\"%Y-%m-%d\")\n",
    "# df_forecast.index[-1]\n",
    "original = data[[\"SP500(t)\"]].copy()\n",
    "# plt.figure(figsize=(20,10))\n",
    "df_final = pd.concat([original, df_forecast], axis=0)\n",
    "df_final.cumsum().plot(figsize=(20,10))"
   ]
  },
  {
   "cell_type": "code",
   "execution_count": null,
   "metadata": {},
   "outputs": [],
   "source": [
    "\n",
    "df_forecast = pd.DataFrame({\"SP500\":y_pred_future}, index=forecast_dates)\n",
    "df_forecast.index = pd.to_datetime(df_forecast.index).strftime(\"%Y-%m-%d\")\n",
    "df_forecast.index[-1]\n",
    "original = data[[\"SP500\"]].copy()\n",
    "original = original[original.index > \"2005-01-01\"]\n",
    "# plt.figure(figsize=(20,10))\n",
    "df_final = pd.concat([original, df_forecast], axis=0)\n",
    "df_final.cumsum().plot(figsize=(20,10))"
   ]
  },
  {
   "cell_type": "code",
   "execution_count": null,
   "metadata": {},
   "outputs": [],
   "source": [
    "df_all_data[[\"2y20y\",\"10yTrea30yFRM\", \"Industrial Production\", \"CPI\",\"SP500\"]].cumsum().plot(figsize=(20,10))"
   ]
  },
  {
   "cell_type": "code",
   "execution_count": null,
   "metadata": {},
   "outputs": [],
   "source": [
    "df_all_data.columns"
   ]
  },
  {
   "cell_type": "code",
   "execution_count": null,
   "metadata": {},
   "outputs": [],
   "source": [
    "(df_all_data[[\"Industrial Production\", \"CPI\"]].cumsum()).plot(figsize=(20,10))\n",
    "df_all_data[[\"CPI\"]].plot(figsize=(20,10))"
   ]
  },
  {
   "cell_type": "code",
   "execution_count": 1,
   "metadata": {},
   "outputs": [
    {
     "name": "stdout",
     "output_type": "stream",
     "text": [
      "> Load the market data config\n",
      "> Load the economic data config\n",
      "> Setting up the indicator dictionaries\n",
      "> Extracting the indicator data\n",
      "   -->Extracting 10-Year Treasury Yield...\n",
      "   -->Extracting 2-Year Treasury Yield...\n",
      "   -->Extracting Federal Funds Effective Rate...\n",
      "   -->Extracting 1-Month Treasury Yield...\n",
      "   -->Extracting 3-Month Treasury Yield...\n",
      "   -->Extracting 5-Year Treasury Yield...\n",
      "   -->Extracting 20-Year Treasury Yield...\n",
      "   -->Extracting 30-Year Treasury Yield...\n",
      "   -->Extracting 15-Year Mortgage Rate...\n",
      "   -->Extracting 30-Year Mortgage Rate...\n",
      "   -->Extracting Unemployment Rate...\n",
      "   -->Extracting GDP...\n",
      "   -->Extracting Real GDP...\n",
      "   -->Extracting CPI...\n",
      "   -->Extracting PPI...\n",
      "   -->Extracting Consumer Confidence Index...\n",
      "   -->Extracting Government Debt...\n",
      "   -->Extracting Debt Service vs Disposable Income...\n",
      "   -->Extracting US Dollar Index...\n",
      "   -->Extracting Corporate Profits...\n",
      "   -->Extracting EBIT...\n",
      "   -->Extracting Retained Earnings...\n",
      "   -->Extracting Building Permits...\n",
      "   -->Extracting Velocity of Money...\n",
      "   -->Extracting Retail Sales...\n",
      "   -->Extracting Industrial Production...\n",
      "Indicators Extracted: Index(['10-Year Treasury Yield', '2-Year Treasury Yield',\n",
      "       'Federal Funds Effective Rate', '1-Month Treasury Yield',\n",
      "       '3-Month Treasury Yield', '5-Year Treasury Yield',\n",
      "       '20-Year Treasury Yield', '30-Year Treasury Yield',\n",
      "       '15-Year Mortgage Rate', '30-Year Mortgage Rate', 'Unemployment Rate',\n",
      "       'GDP', 'Real GDP', 'CPI', 'PPI', 'Consumer Confidence Index',\n",
      "       'Government Debt', 'Government Debt to GDP',\n",
      "       'Debt Service vs Disposable Income', 'US Dollar Index',\n",
      "       'Corporate Profits', 'EBIT', 'Retained Earnings', 'Building Permits',\n",
      "       'Velocity of Money', 'Retail Sales', 'Industrial Production', '3m5y',\n",
      "       '3m10y', '2y10y', '2y20y', '5y10y', '10y30y', '10yTrea30yFRM'],\n",
      "      dtype='object')\n",
      "> Extracting the market data\n",
      "[*********************100%***********************]  15 of 15 completed\n",
      "> Cleaning the indicator data\n",
      "> Cleaning market data\n"
     ]
    },
    {
     "ename": "ValueError",
     "evalue": "Input contains NaN, infinity or a value too large for dtype('float32').",
     "output_type": "error",
     "traceback": [
      "\u001b[1;31m---------------------------------------------------------------------------\u001b[0m",
      "\u001b[1;31mValueError\u001b[0m                                Traceback (most recent call last)",
      "\u001b[1;32m~\\AppData\\Local\\Temp\\ipykernel_23352\\2492008212.py\u001b[0m in \u001b[0;36m<module>\u001b[1;34m\u001b[0m\n\u001b[0;32m      1\u001b[0m \u001b[1;32mfrom\u001b[0m \u001b[0mEMF_ML\u001b[0m \u001b[1;32mimport\u001b[0m \u001b[1;33m*\u001b[0m\u001b[1;33m\u001b[0m\u001b[1;33m\u001b[0m\u001b[0m\n\u001b[0;32m      2\u001b[0m \u001b[1;33m\u001b[0m\u001b[0m\n\u001b[1;32m----> 3\u001b[1;33m \u001b[0mEMF_ML\u001b[0m\u001b[1;33m(\u001b[0m\u001b[1;36m20\u001b[0m\u001b[1;33m,\u001b[0m\u001b[1;34m\"W\"\u001b[0m\u001b[1;33m,\u001b[0m\u001b[1;34m\"SP500\"\u001b[0m\u001b[1;33m,\u001b[0m\u001b[1;34m\"2023-01-01\"\u001b[0m\u001b[1;33m)\u001b[0m\u001b[1;33m\u001b[0m\u001b[1;33m\u001b[0m\u001b[0m\n\u001b[0m",
      "\u001b[1;32mc:\\Users\\Joan Oliver\\Documents\\GitHub\\Economic_Market_Forecasting\\Economic_Market_Forecasting\\EMF_webapp\\src\\notebooks\\EMF_ML.py\u001b[0m in \u001b[0;36mEMF_ML\u001b[1;34m(years, period, target, cutoff_date)\u001b[0m\n\u001b[0;32m    161\u001b[0m             \u001b[1;32mpass\u001b[0m\u001b[1;33m\u001b[0m\u001b[1;33m\u001b[0m\u001b[0m\n\u001b[0;32m    162\u001b[0m         \u001b[1;32melse\u001b[0m\u001b[1;33m:\u001b[0m\u001b[1;33m\u001b[0m\u001b[1;33m\u001b[0m\u001b[0m\n\u001b[1;32m--> 163\u001b[1;33m             \u001b[0mmodel\u001b[0m\u001b[1;33m.\u001b[0m\u001b[0mfit\u001b[0m\u001b[1;33m(\u001b[0m\u001b[0mX_train\u001b[0m\u001b[1;33m,\u001b[0m \u001b[0my_train\u001b[0m\u001b[1;33m)\u001b[0m\u001b[1;33m\u001b[0m\u001b[1;33m\u001b[0m\u001b[0m\n\u001b[0m\u001b[0;32m    164\u001b[0m             \u001b[0mscore\u001b[0m \u001b[1;33m=\u001b[0m \u001b[0mmodel\u001b[0m\u001b[1;33m.\u001b[0m\u001b[0mscore\u001b[0m\u001b[1;33m(\u001b[0m\u001b[0mX_train\u001b[0m\u001b[1;33m,\u001b[0m \u001b[0my_train\u001b[0m\u001b[1;33m)\u001b[0m\u001b[1;33m\u001b[0m\u001b[1;33m\u001b[0m\u001b[0m\n\u001b[0;32m    165\u001b[0m             \u001b[0mprint\u001b[0m\u001b[1;33m(\u001b[0m\u001b[0mname\u001b[0m\u001b[1;33m+\u001b[0m\u001b[1;34m\" \"\u001b[0m\u001b[1;33m+\u001b[0m\u001b[0mstr\u001b[0m\u001b[1;33m(\u001b[0m\u001b[0mround\u001b[0m\u001b[1;33m(\u001b[0m\u001b[0mscore\u001b[0m\u001b[1;33m,\u001b[0m\u001b[1;36m5\u001b[0m\u001b[1;33m)\u001b[0m\u001b[1;33m)\u001b[0m\u001b[1;33m)\u001b[0m\u001b[1;33m\u001b[0m\u001b[1;33m\u001b[0m\u001b[0m\n",
      "\u001b[1;32mc:\\Users\\Joan Oliver\\AppData\\Local\\Programs\\Python\\Python37\\lib\\site-packages\\sklearn\\ensemble\\_forest.py\u001b[0m in \u001b[0;36mfit\u001b[1;34m(self, X, y, sample_weight)\u001b[0m\n\u001b[0;32m    326\u001b[0m             \u001b[1;32mraise\u001b[0m \u001b[0mValueError\u001b[0m\u001b[1;33m(\u001b[0m\u001b[1;34m\"sparse multilabel-indicator for y is not supported.\"\u001b[0m\u001b[1;33m)\u001b[0m\u001b[1;33m\u001b[0m\u001b[1;33m\u001b[0m\u001b[0m\n\u001b[0;32m    327\u001b[0m         X, y = self._validate_data(\n\u001b[1;32m--> 328\u001b[1;33m             \u001b[0mX\u001b[0m\u001b[1;33m,\u001b[0m \u001b[0my\u001b[0m\u001b[1;33m,\u001b[0m \u001b[0mmulti_output\u001b[0m\u001b[1;33m=\u001b[0m\u001b[1;32mTrue\u001b[0m\u001b[1;33m,\u001b[0m \u001b[0maccept_sparse\u001b[0m\u001b[1;33m=\u001b[0m\u001b[1;34m\"csc\"\u001b[0m\u001b[1;33m,\u001b[0m \u001b[0mdtype\u001b[0m\u001b[1;33m=\u001b[0m\u001b[0mDTYPE\u001b[0m\u001b[1;33m\u001b[0m\u001b[1;33m\u001b[0m\u001b[0m\n\u001b[0m\u001b[0;32m    329\u001b[0m         )\n\u001b[0;32m    330\u001b[0m         \u001b[1;32mif\u001b[0m \u001b[0msample_weight\u001b[0m \u001b[1;32mis\u001b[0m \u001b[1;32mnot\u001b[0m \u001b[1;32mNone\u001b[0m\u001b[1;33m:\u001b[0m\u001b[1;33m\u001b[0m\u001b[1;33m\u001b[0m\u001b[0m\n",
      "\u001b[1;32mc:\\Users\\Joan Oliver\\AppData\\Local\\Programs\\Python\\Python37\\lib\\site-packages\\sklearn\\base.py\u001b[0m in \u001b[0;36m_validate_data\u001b[1;34m(self, X, y, reset, validate_separately, **check_params)\u001b[0m\n\u001b[0;32m    579\u001b[0m                 \u001b[0my\u001b[0m \u001b[1;33m=\u001b[0m \u001b[0mcheck_array\u001b[0m\u001b[1;33m(\u001b[0m\u001b[0my\u001b[0m\u001b[1;33m,\u001b[0m \u001b[1;33m**\u001b[0m\u001b[0mcheck_y_params\u001b[0m\u001b[1;33m)\u001b[0m\u001b[1;33m\u001b[0m\u001b[1;33m\u001b[0m\u001b[0m\n\u001b[0;32m    580\u001b[0m             \u001b[1;32melse\u001b[0m\u001b[1;33m:\u001b[0m\u001b[1;33m\u001b[0m\u001b[1;33m\u001b[0m\u001b[0m\n\u001b[1;32m--> 581\u001b[1;33m                 \u001b[0mX\u001b[0m\u001b[1;33m,\u001b[0m \u001b[0my\u001b[0m \u001b[1;33m=\u001b[0m \u001b[0mcheck_X_y\u001b[0m\u001b[1;33m(\u001b[0m\u001b[0mX\u001b[0m\u001b[1;33m,\u001b[0m \u001b[0my\u001b[0m\u001b[1;33m,\u001b[0m \u001b[1;33m**\u001b[0m\u001b[0mcheck_params\u001b[0m\u001b[1;33m)\u001b[0m\u001b[1;33m\u001b[0m\u001b[1;33m\u001b[0m\u001b[0m\n\u001b[0m\u001b[0;32m    582\u001b[0m             \u001b[0mout\u001b[0m \u001b[1;33m=\u001b[0m \u001b[0mX\u001b[0m\u001b[1;33m,\u001b[0m \u001b[0my\u001b[0m\u001b[1;33m\u001b[0m\u001b[1;33m\u001b[0m\u001b[0m\n\u001b[0;32m    583\u001b[0m \u001b[1;33m\u001b[0m\u001b[0m\n",
      "\u001b[1;32mc:\\Users\\Joan Oliver\\AppData\\Local\\Programs\\Python\\Python37\\lib\\site-packages\\sklearn\\utils\\validation.py\u001b[0m in \u001b[0;36mcheck_X_y\u001b[1;34m(X, y, accept_sparse, accept_large_sparse, dtype, order, copy, force_all_finite, ensure_2d, allow_nd, multi_output, ensure_min_samples, ensure_min_features, y_numeric, estimator)\u001b[0m\n\u001b[0;32m    974\u001b[0m         \u001b[0mensure_min_samples\u001b[0m\u001b[1;33m=\u001b[0m\u001b[0mensure_min_samples\u001b[0m\u001b[1;33m,\u001b[0m\u001b[1;33m\u001b[0m\u001b[1;33m\u001b[0m\u001b[0m\n\u001b[0;32m    975\u001b[0m         \u001b[0mensure_min_features\u001b[0m\u001b[1;33m=\u001b[0m\u001b[0mensure_min_features\u001b[0m\u001b[1;33m,\u001b[0m\u001b[1;33m\u001b[0m\u001b[1;33m\u001b[0m\u001b[0m\n\u001b[1;32m--> 976\u001b[1;33m         \u001b[0mestimator\u001b[0m\u001b[1;33m=\u001b[0m\u001b[0mestimator\u001b[0m\u001b[1;33m,\u001b[0m\u001b[1;33m\u001b[0m\u001b[1;33m\u001b[0m\u001b[0m\n\u001b[0m\u001b[0;32m    977\u001b[0m     )\n\u001b[0;32m    978\u001b[0m \u001b[1;33m\u001b[0m\u001b[0m\n",
      "\u001b[1;32mc:\\Users\\Joan Oliver\\AppData\\Local\\Programs\\Python\\Python37\\lib\\site-packages\\sklearn\\utils\\validation.py\u001b[0m in \u001b[0;36mcheck_array\u001b[1;34m(array, accept_sparse, accept_large_sparse, dtype, order, copy, force_all_finite, ensure_2d, allow_nd, ensure_min_samples, ensure_min_features, estimator)\u001b[0m\n\u001b[0;32m    798\u001b[0m \u001b[1;33m\u001b[0m\u001b[0m\n\u001b[0;32m    799\u001b[0m         \u001b[1;32mif\u001b[0m \u001b[0mforce_all_finite\u001b[0m\u001b[1;33m:\u001b[0m\u001b[1;33m\u001b[0m\u001b[1;33m\u001b[0m\u001b[0m\n\u001b[1;32m--> 800\u001b[1;33m             \u001b[0m_assert_all_finite\u001b[0m\u001b[1;33m(\u001b[0m\u001b[0marray\u001b[0m\u001b[1;33m,\u001b[0m \u001b[0mallow_nan\u001b[0m\u001b[1;33m=\u001b[0m\u001b[0mforce_all_finite\u001b[0m \u001b[1;33m==\u001b[0m \u001b[1;34m\"allow-nan\"\u001b[0m\u001b[1;33m)\u001b[0m\u001b[1;33m\u001b[0m\u001b[1;33m\u001b[0m\u001b[0m\n\u001b[0m\u001b[0;32m    801\u001b[0m \u001b[1;33m\u001b[0m\u001b[0m\n\u001b[0;32m    802\u001b[0m     \u001b[1;32mif\u001b[0m \u001b[0mensure_min_samples\u001b[0m \u001b[1;33m>\u001b[0m \u001b[1;36m0\u001b[0m\u001b[1;33m:\u001b[0m\u001b[1;33m\u001b[0m\u001b[1;33m\u001b[0m\u001b[0m\n",
      "\u001b[1;32mc:\\Users\\Joan Oliver\\AppData\\Local\\Programs\\Python\\Python37\\lib\\site-packages\\sklearn\\utils\\validation.py\u001b[0m in \u001b[0;36m_assert_all_finite\u001b[1;34m(X, allow_nan, msg_dtype)\u001b[0m\n\u001b[0;32m    114\u001b[0m             raise ValueError(\n\u001b[0;32m    115\u001b[0m                 msg_err.format(\n\u001b[1;32m--> 116\u001b[1;33m                     \u001b[0mtype_err\u001b[0m\u001b[1;33m,\u001b[0m \u001b[0mmsg_dtype\u001b[0m \u001b[1;32mif\u001b[0m \u001b[0mmsg_dtype\u001b[0m \u001b[1;32mis\u001b[0m \u001b[1;32mnot\u001b[0m \u001b[1;32mNone\u001b[0m \u001b[1;32melse\u001b[0m \u001b[0mX\u001b[0m\u001b[1;33m.\u001b[0m\u001b[0mdtype\u001b[0m\u001b[1;33m\u001b[0m\u001b[1;33m\u001b[0m\u001b[0m\n\u001b[0m\u001b[0;32m    117\u001b[0m                 )\n\u001b[0;32m    118\u001b[0m             )\n",
      "\u001b[1;31mValueError\u001b[0m: Input contains NaN, infinity or a value too large for dtype('float32')."
     ]
    }
   ],
   "source": [
    "from EMF_ML import *\n",
    "\n",
    "EMF_ML(20,\"W\",\"SP500\",\"2023-01-01\")"
   ]
  },
  {
   "cell_type": "code",
   "execution_count": null,
   "metadata": {},
   "outputs": [],
   "source": []
  }
 ],
 "metadata": {
  "kernelspec": {
   "display_name": "Python 3",
   "language": "python",
   "name": "python3"
  },
  "language_info": {
   "codemirror_mode": {
    "name": "ipython",
    "version": 3
   },
   "file_extension": ".py",
   "mimetype": "text/x-python",
   "name": "python",
   "nbconvert_exporter": "python",
   "pygments_lexer": "ipython3",
   "version": "3.7.4"
  },
  "orig_nbformat": 4
 },
 "nbformat": 4,
 "nbformat_minor": 2
}
