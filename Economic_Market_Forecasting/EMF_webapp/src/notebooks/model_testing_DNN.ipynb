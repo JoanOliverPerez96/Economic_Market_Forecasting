{
 "cells": [
  {
   "cell_type": "code",
   "execution_count": 1,
   "metadata": {},
   "outputs": [],
   "source": [
    "from utils.libraries import *\n",
    "from utils.objects import *\n",
    "from utils.functions import *\n",
    "from definitions import *"
   ]
  },
  {
   "attachments": {},
   "cell_type": "markdown",
   "metadata": {},
   "source": [
    "## Collecting & Preparing the data"
   ]
  },
  {
   "attachments": {},
   "cell_type": "markdown",
   "metadata": {},
   "source": [
    "### Setting up the configuration"
   ]
  },
  {
   "cell_type": "code",
   "execution_count": 2,
   "metadata": {},
   "outputs": [],
   "source": [
    "# Se utiliza un rango de 20 años para la extraccion de datos económicos\n",
    "timeframe = 365*20\n",
    "today = datetime.today()\n",
    "end = today.strftime(\"%Y-%m-%d\")\n",
    "start = (today - dt.timedelta(days=timeframe)).strftime(\"%Y-%m-%d\")\n",
    "periods = \"W\"\n",
    "\n",
    "medidas = [\"mean\", \"median\", \"mode\", \"Min\", \"Percentil_25\", \"Percentil_75\",\"Max\", \"var\", \"std\", \"skew\", \"kurt\"]\n",
    "\n",
    "ROOT_PATH = Path(ROOT_PATH)\n",
    "config_paths = [\n",
    "    \"config\\Market_Data_Config.csv\",\n",
    "    \"config\\Economic_Data_Config.csv\",\n",
    "    \"config\\Calc_Data_Config.csv\"\n",
    "]\n",
    "market_config = ROOT_PATH.joinpath(config_paths[0])\n",
    "economic_config = ROOT_PATH.joinpath(config_paths[1]).abspath()\n",
    "calc_config = ROOT_PATH.joinpath(config_paths[2]).abspath()\n",
    "\n",
    "target_list = pd.read_csv(market_config, sep=\";\", header=0).loc[:, \"Codigo\"].to_list()\n",
    "\n",
    "markets_used = ['SPY', 'GDX', 'BND']\n",
    "\n",
    "target = \"SP500\"\n",
    "\n",
    "# ML random seed\n",
    "seed = 2\n",
    "\n",
    "extract = True\n",
    "\n",
    "cutoff_date = \"2023-01-01\""
   ]
  },
  {
   "attachments": {},
   "cell_type": "markdown",
   "metadata": {},
   "source": [
    "### Loading and extracting the data"
   ]
  },
  {
   "cell_type": "code",
   "execution_count": 3,
   "metadata": {},
   "outputs": [],
   "source": [
    "# Initialize the Economic Data Analyzer class\n",
    "eda = EconomicDataAnalyzer()"
   ]
  },
  {
   "cell_type": "code",
   "execution_count": 4,
   "metadata": {},
   "outputs": [
    {
     "name": "stdout",
     "output_type": "stream",
     "text": [
      "> Load the market data config\n",
      "> Load the economic data config\n",
      "> Setting up the indicator dictionaries\n",
      "> Extracting the indicator data\n",
      "   -->Extracting 10-Year Treasury Yield...\n",
      "   -->Extracting 2-Year Treasury Yield...\n",
      "   -->Extracting Federal Funds Effective Rate...\n",
      "   -->Extracting 1-Month Treasury Yield...\n",
      "   -->Extracting 3-Month Treasury Yield...\n",
      "   -->Extracting 5-Year Treasury Yield...\n",
      "   -->Extracting 20-Year Treasury Yield...\n",
      "   -->Extracting 30-Year Treasury Yield...\n",
      "   -->Extracting 15-Year Mortgage Rate...\n",
      "   -->Extracting 30-Year Mortgage Rate...\n",
      "   -->Extracting Unemployment Rate...\n",
      "   -->Extracting GDP...\n",
      "   -->Extracting Real GDP...\n",
      "   -->Extracting CPI...\n",
      "   -->Extracting PPI...\n",
      "   -->Extracting Consumer Confidence Index...\n",
      "   -->Extracting Government Debt...\n",
      "   -->Extracting Debt Service vs Disposable Income...\n",
      "   -->Extracting US Dollar Index...\n",
      "   -->Extracting Corporate Profits...\n",
      "   -->Extracting EBIT...\n",
      "   -->Extracting Retained Earnings...\n",
      "   -->Extracting Building Permits...\n",
      "   -->Extracting Velocity of Money...\n",
      "   -->Extracting Retail Sales...\n",
      "   -->Extracting Industrial Production...\n",
      "Indicators Extracted: Index(['10-Year Treasury Yield', '2-Year Treasury Yield',\n",
      "       'Federal Funds Effective Rate', '1-Month Treasury Yield',\n",
      "       '3-Month Treasury Yield', '5-Year Treasury Yield',\n",
      "       '20-Year Treasury Yield', '30-Year Treasury Yield',\n",
      "       '15-Year Mortgage Rate', '30-Year Mortgage Rate', 'Unemployment Rate',\n",
      "       'GDP', 'Real GDP', 'CPI', 'PPI', 'Consumer Confidence Index',\n",
      "       'Government Debt', 'Government Debt to GDP',\n",
      "       'Debt Service vs Disposable Income', 'US Dollar Index',\n",
      "       'Corporate Profits', 'EBIT', 'Retained Earnings', 'Building Permits',\n",
      "       'Velocity of Money', 'Retail Sales', 'Industrial Production', '3m5y',\n",
      "       '3m10y', '2y10y', '2y20y', '5y10y', '10y30y', '10yTrea30yFRM'],\n",
      "      dtype='object')\n",
      "> Extracting the market data\n",
      "[*********************100%***********************]  3 of 3 completed\n"
     ]
    }
   ],
   "source": [
    "# Load the Market Data\n",
    "print(\"> Load the market data config\")\n",
    "market = eda.read_config(market_config)\n",
    "market_dict = eda.convert_to_dictionary(markets_used=markets_used)\n",
    "market_dict = market_dict['Market']\n",
    "# Load the economic data config\n",
    "print(\"> Load the economic data config\")\n",
    "econ = eda.read_config(economic_config)\n",
    "fred_series_dict = eda.convert_to_dictionary(markets_used=None)\n",
    "fred_series_dict = fred_series_dict[\"Indicador\"]\n",
    "calc = eda.read_config(calc_config)\n",
    "series_calc_dict = eda.convert_to_dictionary(markets_used=None)\n",
    "series_calc_dict = series_calc_dict[\"Indicador\"]\n",
    "# Setting up the indicator dictionaries\n",
    "print(\"> Setting up the indicator dictionaries\")\n",
    "indicators = {}\n",
    "for ind in list(econ[\"Tipo\"].unique()):\n",
    "    indicators[ind] = econ[econ[\"Tipo\"] == ind][\"Indicador\"].to_list()\n",
    "if extract == True:\n",
    "    # Extracting the indicator data\n",
    "    print(\"> Extracting the indicator data\")\n",
    "    indicators_df = eda.indicator_extraction(fred_series_dict, series_calc_dict, root_path=ROOT_PATH)\n",
    "    # Extracting the market data\n",
    "    print(\"> Extracting the market data\")\n",
    "    stocks = list(market_dict.keys())\n",
    "    market_df = eda.market_extraction(stocks, start, end, root_path=ROOT_PATH)\n",
    "else:\n",
    "    print(\"No data extraction, reading data from data file\")\n",
    "    path = ROOT_PATH.joinpath('data', 'raw', 'indicators_df.csv')\n",
    "    indicators_df = pd.read_csv(path)\n",
    "    path = ROOT_PATH.joinpath('data', 'raw', 'market_df.csv')\n",
    "    market_df = pd.read_csv(path)"
   ]
  },
  {
   "attachments": {},
   "cell_type": "markdown",
   "metadata": {},
   "source": [
    "## Preparing the data"
   ]
  },
  {
   "cell_type": "markdown",
   "metadata": {},
   "source": [
    "### Data cleaning"
   ]
  },
  {
   "cell_type": "code",
   "execution_count": 5,
   "metadata": {},
   "outputs": [
    {
     "name": "stdout",
     "output_type": "stream",
     "text": [
      "> Cleaning the indicator data\n",
      "> Cleaning market data\n"
     ]
    }
   ],
   "source": [
    "# Cleaning the indicator data\n",
    "print(\"> Cleaning the indicator data\")\n",
    "df_indicators, df_indicators_cum, df_indicators_diff, df_indicators_rets, df_indicators_limpio = eda.limpiar_indicators(\n",
    "    df_indicators=indicators_df, \n",
    "    indicator_dict=indicators, \n",
    "    resample=periods, \n",
    "    fill_method=\"ffill\", \n",
    "    start=start, \n",
    "    end=end, \n",
    "    root_path=ROOT_PATH)\n",
    "# Cleaning the market data\n",
    "print(\"> Cleaning market data\")\n",
    "df_market, df_markets_rets, df_markets_cum, df_markets_diff  = eda.limpiar_markets(\n",
    "    markets_dict=market_dict,\n",
    "    df_markets=market_df,\n",
    "    resample=periods, \n",
    "    fill_method=\"ffill\", \n",
    "    start=start, \n",
    "    end=end, \n",
    "    root_path=ROOT_PATH)"
   ]
  },
  {
   "attachments": {},
   "cell_type": "markdown",
   "metadata": {},
   "source": [
    "### Merge indicator and market data"
   ]
  },
  {
   "cell_type": "code",
   "execution_count": 6,
   "metadata": {},
   "outputs": [],
   "source": [
    "list_market_dfs = [df_market,df_markets_rets,df_markets_cum,df_markets_diff]\n",
    "list_indicators_dfs = [df_indicators_limpio,df_indicators_rets,df_indicators_cum,df_indicators_diff]\n",
    "\n",
    "df_all_data, df_all_data_rets, df_all_data_cum, df_all_data_diff = eda.merge_data(list_market_dfs, list_indicators_dfs)"
   ]
  },
  {
   "cell_type": "markdown",
   "metadata": {},
   "source": [
    "## Feature Engineering"
   ]
  },
  {
   "cell_type": "markdown",
   "metadata": {},
   "source": [
    "### Remove Outliers "
   ]
  },
  {
   "cell_type": "code",
   "execution_count": 7,
   "metadata": {},
   "outputs": [],
   "source": [
    "df = eda.remove_outliers(df_all_data_rets)"
   ]
  },
  {
   "attachments": {},
   "cell_type": "markdown",
   "metadata": {},
   "source": [
    "### Adding features"
   ]
  },
  {
   "cell_type": "code",
   "execution_count": 8,
   "metadata": {},
   "outputs": [],
   "source": [
    "df_all_data[\"CAPE Ratio\"] = df_all_data[\"SP500\"]/(df_all_data[\"Corporate Profits\"]*0.01)\n",
    "df[\"CAPE Ratio\"] = df_all_data[\"SP500\"]/(df_all_data[\"Corporate Profits\"]*0.01)\n",
    "\n",
    "# df_all_data[\"CAPE Ratio\"].plot()\n",
    "def trend_line(df, name, deg=2):\n",
    "    coef = np.polyfit(range(0,len(df[name])), df[name], deg)\n",
    "    x_trend = np.linspace(0,len(df[name]),len(df[name]))\n",
    "    y_trend = np.polyval(coef, x_trend)\n",
    "    df = pd.DataFrame(y_trend, index=df.index, columns=[name])\n",
    "    return df\n",
    "\n",
    "# df_all_data = pd.DataFrame()\n",
    "df_all_data[\"SP_GDP\"] = df_all_data[\"SP500\"]/(df_all_data[\"GDP\"]*.01)\n",
    "df_all_data[\"SP_GDP_trend\"] = trend_line(df_all_data, \"SP_GDP\", deg=5)\n",
    "df[\"SP_GDP\"] = df_all_data[\"SP500\"]/(df_all_data[\"GDP\"]*.01)\n",
    "df[\"SP_GDP_trend\"] = trend_line(df_all_data, \"SP_GDP\", deg=5)\n",
    "\n",
    "# df_all_data = pd.DataFrame()\n",
    "std = df_all_data[\"SP_GDP\"].std()\n",
    "df_all_data[\"SP_GDP_1std\"] = df_all_data[\"SP_GDP_trend\"] + (std)\n",
    "df[\"SP_GDP_1std\"] = df_all_data[\"SP_GDP_trend\"] + (std)\n",
    "\n",
    "# df_all_data = df_all_data.copy()\n",
    "# df_ts = df_all_data.loc[:,df_all_data.columns.str.contains(f\"t-\")]\n",
    "# df_all_data.drop(df_ts.columns,axis=1,inplace=True)\n",
    "for ma in df_all_data.columns:\n",
    "    df_all_data[f\"{ma}_MA\"] = df_all_data[[ma]].rolling(window=52).mean().fillna(method=\"ffill\").fillna(method=\"bfill\")\n",
    "    df_all_data[f\"{ma}_trend\"] = trend_line(df_all_data[[ma]], ma, deg=6)\n",
    "    df_all_data[f\"{ma}_MA_trend_dif\"] = df_all_data[f\"{ma}_trend\"] - df_all_data[f\"{ma}_MA\"]\n",
    "    \n",
    "    df[f\"{ma}_MA\"] = df_all_data[[ma]].rolling(window=52).mean().fillna(method=\"ffill\").fillna(method=\"bfill\")\n",
    "    df[f\"{ma}_trend\"] = trend_line(df_all_data[[ma]], ma, deg=6)\n",
    "    df[f\"{ma}_MA_trend_dif\"] = df_all_data[f\"{ma}_trend\"] - df_all_data[f\"{ma}_MA\"]"
   ]
  },
  {
   "attachments": {},
   "cell_type": "markdown",
   "metadata": {},
   "source": [
    "### Creating lags in the data"
   ]
  },
  {
   "cell_type": "code",
   "execution_count": 9,
   "metadata": {},
   "outputs": [],
   "source": [
    "list_data_dfs = [df_all_data,df_all_data_rets,df_all_data_cum,df_all_data_diff]\n",
    "\n",
    "df_all_lag_data, df_all_lag_data_rets, df_all_lag_data_cum, df_all_lag_data_diff = eda.lag_data(list_data_dfs, target, n_lags=12)"
   ]
  },
  {
   "cell_type": "code",
   "execution_count": 10,
   "metadata": {},
   "outputs": [],
   "source": [
    "df = eda.remove_outliers(df_all_lag_data_rets)"
   ]
  },
  {
   "attachments": {},
   "cell_type": "markdown",
   "metadata": {},
   "source": [
    "## Data Preprocessing"
   ]
  },
  {
   "cell_type": "code",
   "execution_count": 11,
   "metadata": {},
   "outputs": [],
   "source": [
    "econ_ml = Preprocessor()"
   ]
  },
  {
   "cell_type": "markdown",
   "metadata": {},
   "source": [
    "### Feature Reduction"
   ]
  },
  {
   "cell_type": "markdown",
   "metadata": {},
   "source": [
    "#### Feature selection by correlation"
   ]
  },
  {
   "cell_type": "code",
   "execution_count": 12,
   "metadata": {},
   "outputs": [
    {
     "data": {
      "text/html": [
       "<div>\n",
       "<style scoped>\n",
       "    .dataframe tbody tr th:only-of-type {\n",
       "        vertical-align: middle;\n",
       "    }\n",
       "\n",
       "    .dataframe tbody tr th {\n",
       "        vertical-align: top;\n",
       "    }\n",
       "\n",
       "    .dataframe thead th {\n",
       "        text-align: right;\n",
       "    }\n",
       "</style>\n",
       "<table border=\"1\" class=\"dataframe\">\n",
       "  <thead>\n",
       "    <tr style=\"text-align: right;\">\n",
       "      <th></th>\n",
       "      <th>SP500</th>\n",
       "    </tr>\n",
       "  </thead>\n",
       "  <tbody>\n",
       "    <tr>\n",
       "      <th>SP500</th>\n",
       "      <td>1.000000</td>\n",
       "    </tr>\n",
       "    <tr>\n",
       "      <th>1-Month Treasury Yield (t-10)</th>\n",
       "      <td>0.079336</td>\n",
       "    </tr>\n",
       "    <tr>\n",
       "      <th>1-Month Treasury Yield (t-8)</th>\n",
       "      <td>0.074586</td>\n",
       "    </tr>\n",
       "    <tr>\n",
       "      <th>1-Month Treasury Yield (t-9)</th>\n",
       "      <td>0.074177</td>\n",
       "    </tr>\n",
       "    <tr>\n",
       "      <th>Government Debt to GDP (t-11)</th>\n",
       "      <td>0.073239</td>\n",
       "    </tr>\n",
       "    <tr>\n",
       "      <th>...</th>\n",
       "      <td>...</td>\n",
       "    </tr>\n",
       "    <tr>\n",
       "      <th>PPI (t-10)</th>\n",
       "      <td>-0.081348</td>\n",
       "    </tr>\n",
       "    <tr>\n",
       "      <th>Federal Funds Effective Rate (t-2)</th>\n",
       "      <td>-0.085613</td>\n",
       "    </tr>\n",
       "    <tr>\n",
       "      <th>Federal Funds Effective Rate (t-1)</th>\n",
       "      <td>-0.113812</td>\n",
       "    </tr>\n",
       "    <tr>\n",
       "      <th>Federal Funds Effective Rate</th>\n",
       "      <td>-0.122076</td>\n",
       "    </tr>\n",
       "    <tr>\n",
       "      <th>US Dollar Index</th>\n",
       "      <td>-0.241813</td>\n",
       "    </tr>\n",
       "  </tbody>\n",
       "</table>\n",
       "<p>74 rows × 1 columns</p>\n",
       "</div>"
      ],
      "text/plain": [
       "                                       SP500\n",
       "SP500                               1.000000\n",
       "1-Month Treasury Yield (t-10)       0.079336\n",
       "1-Month Treasury Yield (t-8)        0.074586\n",
       "1-Month Treasury Yield (t-9)        0.074177\n",
       "Government Debt to GDP (t-11)       0.073239\n",
       "...                                      ...\n",
       "PPI (t-10)                         -0.081348\n",
       "Federal Funds Effective Rate (t-2) -0.085613\n",
       "Federal Funds Effective Rate (t-1) -0.113812\n",
       "Federal Funds Effective Rate       -0.122076\n",
       "US Dollar Index                    -0.241813\n",
       "\n",
       "[74 rows x 1 columns]"
      ]
     },
     "execution_count": 12,
     "metadata": {},
     "output_type": "execute_result"
    }
   ],
   "source": [
    "df_feat_corr = pd.DataFrame(df.corr().loc[target,:].sort_values(ascending=False))\n",
    "df_feat_relevant_corr = df_feat_corr[(df_feat_corr[target]>0.05) | (df_feat_corr[target]<-0.05)]\n",
    "df_feat_relevant_corr"
   ]
  },
  {
   "attachments": {},
   "cell_type": "markdown",
   "metadata": {},
   "source": [
    "#### Indentifying the most important features"
   ]
  },
  {
   "attachments": {},
   "cell_type": "markdown",
   "metadata": {},
   "source": [
    "##### Splitting the data"
   ]
  },
  {
   "cell_type": "code",
   "execution_count": null,
   "metadata": {},
   "outputs": [],
   "source": []
  },
  {
   "attachments": {},
   "cell_type": "markdown",
   "metadata": {},
   "source": [
    "##### Creating the baseline for feature importance"
   ]
  },
  {
   "cell_type": "code",
   "execution_count": 13,
   "metadata": {},
   "outputs": [
    {
     "name": "stdout",
     "output_type": "stream",
     "text": [
      "Processing RandomForest\n",
      "Processing GradientBoosting\n",
      "Processing SVR\n",
      "Processing KNeighborsRegressor\n",
      "Processing XGBRegressor\n",
      "--> We choose ['RandomForest' 'XGBRegressor'] as the best models due to their high scores and rmse\n"
     ]
    }
   ],
   "source": [
    "baseline_models = econ_ml.define_baseline_models()\n",
    "\n",
    "X_train, X_test, y_train, y_test = econ_ml.train_test_split_data(data=df, target_col=target, test_size=0.15)\n",
    "model_results, baseline_preds, best_model, best_model_name = econ_ml.baseline_ml(target, X_train, X_test, y_train, y_test, baseline_models)"
   ]
  },
  {
   "cell_type": "code",
   "execution_count": null,
   "metadata": {},
   "outputs": [],
   "source": []
  },
  {
   "cell_type": "code",
   "execution_count": 14,
   "metadata": {},
   "outputs": [
    {
     "name": "stdout",
     "output_type": "stream",
     "text": [
      "> Performing feature importance analysis\n"
     ]
    }
   ],
   "source": [
    "print(\"> Performing feature importance analysis\")\n",
    "df_top_data, feature_importance, top_feature_importance, score = econ_ml.feature_importance(target=target, \n",
    "                                                                                                  df_data=df.loc[:cutoff_date],\n",
    "                                                                                                  model=best_model,\n",
    "                                                                                                  accepted_importance=0.9)"
   ]
  },
  {
   "cell_type": "markdown",
   "metadata": {},
   "source": [
    "#### Feature removal"
   ]
  },
  {
   "cell_type": "code",
   "execution_count": 15,
   "metadata": {},
   "outputs": [],
   "source": [
    "def feature_removal(df, df_top_data, model_results, best_model_name, score):\n",
    "    best_model_score = model_results.loc[best_model_name,\"score\"]\n",
    "    if score > best_model_score*.8:\n",
    "        print(\"We choose to remove \"+str(len(df.columns)-len(df_top_data.columns))+\" features\")\n",
    "        df = df_top_data.copy()\n",
    "    else:\n",
    "        print(\"We choose to keep the original df with \"+str(len(df_top_data.columns))+\" features\")\n",
    "    return df"
   ]
  },
  {
   "cell_type": "code",
   "execution_count": null,
   "metadata": {},
   "outputs": [],
   "source": []
  },
  {
   "cell_type": "code",
   "execution_count": 16,
   "metadata": {},
   "outputs": [
    {
     "name": "stdout",
     "output_type": "stream",
     "text": [
      "We choose to remove 237 features\n"
     ]
    }
   ],
   "source": [
    "df = feature_removal(df, df_top_data, model_results, best_model_name, score)"
   ]
  },
  {
   "cell_type": "markdown",
   "metadata": {},
   "source": [
    "## Performing Machine Learning"
   ]
  },
  {
   "cell_type": "markdown",
   "metadata": {},
   "source": [
    "### Pick the best model"
   ]
  },
  {
   "cell_type": "code",
   "execution_count": 80,
   "metadata": {},
   "outputs": [
    {
     "name": "stdout",
     "output_type": "stream",
     "text": [
      "Processing RandomForest\n",
      "Processing GradientBoosting\n",
      "Processing SVR\n",
      "Processing KNeighborsRegressor\n",
      "Processing XGBRegressor\n",
      "--> We choose ['RandomForest' 'XGBRegressor'] as the best models due to their high scores and rmse\n"
     ]
    }
   ],
   "source": [
    "X_train, X_test, y_train, y_test = econ_ml.train_test_split_data(data=df, target_col=target, test_size=0.15)\n",
    "model_results, baseline_preds, best_model, best_model_name = econ_ml.baseline_ml(target, X_train, X_test, y_train, y_test, baseline_models)"
   ]
  },
  {
   "cell_type": "code",
   "execution_count": 59,
   "metadata": {},
   "outputs": [
    {
     "data": {
      "text/plain": [
       "{'RandomForest': RandomForestRegressor(),\n",
       " 'GradientBoosting': GradientBoostingRegressor(),\n",
       " 'SVR': SVR(),\n",
       " 'KNeighborsRegressor': KNeighborsRegressor(),\n",
       " 'XGBRegressor': XGBRegressor(base_score=0.5, booster='gbtree', callbacks=None,\n",
       "              colsample_bylevel=1, colsample_bynode=1, colsample_bytree=1,\n",
       "              early_stopping_rounds=None, enable_categorical=False,\n",
       "              eval_metric=None, gamma=0, gpu_id=-1, grow_policy='depthwise',\n",
       "              importance_type=None, interaction_constraints='',\n",
       "              learning_rate=0.300000012, max_bin=256, max_cat_to_onehot=4,\n",
       "              max_delta_step=0, max_depth=6, max_leaves=0, min_child_weight=1,\n",
       "              missing=nan, monotone_constraints='()', n_estimators=100, n_jobs=0,\n",
       "              num_parallel_tree=1, predictor='auto', random_state=0, reg_alpha=0,\n",
       "              reg_lambda=1, ...)}"
      ]
     },
     "execution_count": 59,
     "metadata": {},
     "output_type": "execute_result"
    }
   ],
   "source": [
    "baseline_models"
   ]
  },
  {
   "cell_type": "markdown",
   "metadata": {},
   "source": [
    "### Define the grids"
   ]
  },
  {
   "cell_type": "code",
   "execution_count": 88,
   "metadata": {},
   "outputs": [],
   "source": [
    "params_RandomForest = {\n",
    "    \"n_estimators\": [120],\n",
    "    \"max_depth\": [3,5,10,15,17],\n",
    "    \"max_features\": [\"sqrt\", 3, 4]                          \n",
    "    }\n",
    "\n",
    "params_GradientBoosting = {\n",
    "    'n_estimators': [50, 100, 150],  \n",
    "    'learning_rate': [0.01, 0.05, 0.1],  \n",
    "    'max_depth': [3, 5, 7],  \n",
    "    }\n",
    "\n",
    "params_XGBRegressor = {\n",
    "    'n_estimators': [50, 100, 150],  \n",
    "    'learning_rate': [0.01, 0.05, 0.1],  \n",
    "    'max_depth': [3, 5, 7],  \n",
    "    'min_child_weight': [1, 3, 5],  \n",
    "    'subsample': [0.8, 0.9, 1.0],  \n",
    "    'colsample_bytree': [0.8, 0.9, 1.0],  \n",
    "    }\n",
    "\n",
    "params_KNeighborsRegressor = {\n",
    "    'n_neighbors': [3, 5, 7, 9],  \n",
    "    'weights': ['uniform', 'distance'],  \n",
    "    'p': [1, 2],  \n",
    "    \n",
    "    }\n",
    "\n",
    "params_SVR = {\n",
    "    'C': [0.1, 1.0, 10.0],  \n",
    "    'kernel': ['linear', 'poly', 'rbf', 'sigmoid'],  \n",
    "    'degree': [2, 3, 4],  \n",
    "    'gamma': ['scale', 'auto', 0.1, 1.0],  \n",
    "    }\n",
    "\n",
    "baseline_params = {\n",
    "    \"RandomForest\":params_RandomForest,\n",
    "    \"GradientBoosting\":params_GradientBoosting,\n",
    "    \"SVR\":params_SVR,\n",
    "    \"KNeighborsRegressor\":params_KNeighborsRegressor,\n",
    "    \"XGBRegressor\":params_XGBRegressor\n",
    "}\n",
    "\n",
    "def model_gridSearch(baseline_models,baseline_params,model_results,X_train,y_train,X_test,y_test,cross_val=5):\n",
    "    y_test = y_test.copy()\n",
    "    models_gridsearch = {}\n",
    "    for name, model in baseline_models.items():\n",
    "        if name in model_results.index.values:\n",
    "            for mod,params in baseline_params.items():\n",
    "                if name == mod:\n",
    "                    models_gridsearch[mod] = GridSearchCV(model, params, cv=cross_val, scoring=\"neg_root_mean_squared_error\", verbose=1, n_jobs=1)\n",
    "                    models_gridsearch[mod].fit(X_train, y_train)\n",
    "    best_grids = [(i, j.best_score_) for i, j in models_gridsearch.items()]\n",
    "    best_grids = pd.DataFrame(best_grids, columns=[\"Grid\", \"Best score\"]).sort_values(by=\"Best score\", ascending=False)\n",
    "    y_pred = models_gridsearch[best_grids.loc[0,\"Grid\"]].predict(X_test)\n",
    "    y_pred = pd.DataFrame(y_pred, columns=[target+\"_Prediction\"],index=y_test.index)\n",
    "    y_pred.index, y_test.index = pd.to_datetime(y_test.index), pd.to_datetime(y_test.index)\n",
    "    model_pred = pd.concat([y_test, y_pred], axis=1)\n",
    "    return models_gridsearch, best_grids, y_pred, y_test, model_pred"
   ]
  },
  {
   "cell_type": "code",
   "execution_count": 90,
   "metadata": {},
   "outputs": [
    {
     "name": "stdout",
     "output_type": "stream",
     "text": [
      "Fitting 2 folds for each of 15 candidates, totalling 30 fits\n",
      "Fitting 2 folds for each of 729 candidates, totalling 1458 fits\n"
     ]
    }
   ],
   "source": [
    "models_gridsearch, best_grids, y_pred, y_test, model_pred = model_gridSearch(baseline_models,baseline_params,model_results,X_train,y_train,X_test,y_test,cross_val=2)"
   ]
  },
  {
   "cell_type": "code",
   "execution_count": 94,
   "metadata": {},
   "outputs": [
    {
     "data": {
      "text/plain": [
       "['C:\\\\Users\\\\Joan Oliver\\\\Documents\\\\GitHub\\\\Economic_Market_Forecasting\\\\Economic_Market_Forecasting\\\\EMF_webapp\\\\EMF_project\\\\models\\\\best_model.joblib']"
      ]
     },
     "execution_count": 94,
     "metadata": {},
     "output_type": "execute_result"
    }
   ],
   "source": [
    "from joblib import dump\n",
    "dump(models_gridsearch[best_grids.loc[0,\"Grid\"]], r'C:\\Users\\Joan Oliver\\Documents\\GitHub\\Economic_Market_Forecasting\\Economic_Market_Forecasting\\EMF_webapp\\EMF_project\\models\\best_model.joblib')"
   ]
  },
  {
   "cell_type": "code",
   "execution_count": 101,
   "metadata": {},
   "outputs": [],
   "source": [
    "X_test.index = pd.to_datetime(X_test.index)"
   ]
  },
  {
   "cell_type": "code",
   "execution_count": 102,
   "metadata": {},
   "outputs": [
    {
     "data": {
      "text/html": [
       "<div>\n",
       "<style scoped>\n",
       "    .dataframe tbody tr th:only-of-type {\n",
       "        vertical-align: middle;\n",
       "    }\n",
       "\n",
       "    .dataframe tbody tr th {\n",
       "        vertical-align: top;\n",
       "    }\n",
       "\n",
       "    .dataframe thead th {\n",
       "        text-align: right;\n",
       "    }\n",
       "</style>\n",
       "<table border=\"1\" class=\"dataframe\">\n",
       "  <thead>\n",
       "    <tr style=\"text-align: right;\">\n",
       "      <th></th>\n",
       "      <th>SP500</th>\n",
       "      <th>SP500_Prediction</th>\n",
       "      <th>CorporateBonds</th>\n",
       "      <th>Gold</th>\n",
       "      <th>10-Year Treasury Yield</th>\n",
       "      <th>2-Year Treasury Yield</th>\n",
       "      <th>Federal Funds Effective Rate</th>\n",
       "      <th>5-Year Treasury Yield</th>\n",
       "      <th>20-Year Treasury Yield</th>\n",
       "      <th>30-Year Treasury Yield</th>\n",
       "      <th>...</th>\n",
       "      <th>10yTrea30yFRM (t-3)</th>\n",
       "      <th>10yTrea30yFRM (t-4)</th>\n",
       "      <th>10yTrea30yFRM (t-5)</th>\n",
       "      <th>10yTrea30yFRM (t-6)</th>\n",
       "      <th>10yTrea30yFRM (t-7)</th>\n",
       "      <th>10yTrea30yFRM (t-8)</th>\n",
       "      <th>10yTrea30yFRM (t-9)</th>\n",
       "      <th>10yTrea30yFRM (t-10)</th>\n",
       "      <th>10yTrea30yFRM (t-11)</th>\n",
       "      <th>10yTrea30yFRM (t-12)</th>\n",
       "    </tr>\n",
       "    <tr>\n",
       "      <th>Date</th>\n",
       "      <th></th>\n",
       "      <th></th>\n",
       "      <th></th>\n",
       "      <th></th>\n",
       "      <th></th>\n",
       "      <th></th>\n",
       "      <th></th>\n",
       "      <th></th>\n",
       "      <th></th>\n",
       "      <th></th>\n",
       "      <th></th>\n",
       "      <th></th>\n",
       "      <th></th>\n",
       "      <th></th>\n",
       "      <th></th>\n",
       "      <th></th>\n",
       "      <th></th>\n",
       "      <th></th>\n",
       "      <th></th>\n",
       "      <th></th>\n",
       "      <th></th>\n",
       "    </tr>\n",
       "  </thead>\n",
       "  <tbody>\n",
       "    <tr>\n",
       "      <th>2020-02-16</th>\n",
       "      <td>0.002026</td>\n",
       "      <td>0.003241</td>\n",
       "      <td>0.000704</td>\n",
       "      <td>0.013606</td>\n",
       "      <td>0.000000</td>\n",
       "      <td>0.007092</td>\n",
       "      <td>0.000000</td>\n",
       "      <td>0.007092</td>\n",
       "      <td>0.000000</td>\n",
       "      <td>0.012636</td>\n",
       "      <td>...</td>\n",
       "      <td>0.019401</td>\n",
       "      <td>0.027933</td>\n",
       "      <td>-0.027174</td>\n",
       "      <td>0.000000</td>\n",
       "      <td>0.016575</td>\n",
       "      <td>-0.010929</td>\n",
       "      <td>-0.026596</td>\n",
       "      <td>-0.015707</td>\n",
       "      <td>0.010582</td>\n",
       "      <td>-0.005072</td>\n",
       "    </tr>\n",
       "    <tr>\n",
       "      <th>2020-02-23</th>\n",
       "      <td>0.002026</td>\n",
       "      <td>0.000280</td>\n",
       "      <td>0.006333</td>\n",
       "      <td>0.013606</td>\n",
       "      <td>0.000000</td>\n",
       "      <td>0.007092</td>\n",
       "      <td>0.000000</td>\n",
       "      <td>0.007092</td>\n",
       "      <td>0.000000</td>\n",
       "      <td>0.003879</td>\n",
       "      <td>...</td>\n",
       "      <td>0.015135</td>\n",
       "      <td>0.019401</td>\n",
       "      <td>0.027933</td>\n",
       "      <td>-0.027174</td>\n",
       "      <td>0.000000</td>\n",
       "      <td>0.016575</td>\n",
       "      <td>-0.010929</td>\n",
       "      <td>-0.026596</td>\n",
       "      <td>-0.015707</td>\n",
       "      <td>0.010582</td>\n",
       "    </tr>\n",
       "    <tr>\n",
       "      <th>2020-03-01</th>\n",
       "      <td>-0.004077</td>\n",
       "      <td>0.000720</td>\n",
       "      <td>0.011189</td>\n",
       "      <td>0.013606</td>\n",
       "      <td>0.000000</td>\n",
       "      <td>0.003546</td>\n",
       "      <td>0.000000</td>\n",
       "      <td>0.007092</td>\n",
       "      <td>0.000000</td>\n",
       "      <td>-0.004878</td>\n",
       "      <td>...</td>\n",
       "      <td>0.013002</td>\n",
       "      <td>0.015135</td>\n",
       "      <td>0.019401</td>\n",
       "      <td>0.027933</td>\n",
       "      <td>-0.027174</td>\n",
       "      <td>0.000000</td>\n",
       "      <td>0.016575</td>\n",
       "      <td>-0.010929</td>\n",
       "      <td>-0.026596</td>\n",
       "      <td>-0.015707</td>\n",
       "    </tr>\n",
       "    <tr>\n",
       "      <th>2020-03-08</th>\n",
       "      <td>0.004050</td>\n",
       "      <td>0.002717</td>\n",
       "      <td>0.013523</td>\n",
       "      <td>0.013606</td>\n",
       "      <td>-0.021277</td>\n",
       "      <td>0.000000</td>\n",
       "      <td>0.004587</td>\n",
       "      <td>0.007092</td>\n",
       "      <td>0.030534</td>\n",
       "      <td>-0.006410</td>\n",
       "      <td>...</td>\n",
       "      <td>0.011936</td>\n",
       "      <td>0.013002</td>\n",
       "      <td>0.015135</td>\n",
       "      <td>0.019401</td>\n",
       "      <td>0.027933</td>\n",
       "      <td>-0.027174</td>\n",
       "      <td>0.000000</td>\n",
       "      <td>0.016575</td>\n",
       "      <td>-0.010929</td>\n",
       "      <td>-0.026596</td>\n",
       "    </tr>\n",
       "    <tr>\n",
       "      <th>2020-03-15</th>\n",
       "      <td>0.004050</td>\n",
       "      <td>0.004247</td>\n",
       "      <td>-0.001329</td>\n",
       "      <td>0.023800</td>\n",
       "      <td>-0.021277</td>\n",
       "      <td>0.000000</td>\n",
       "      <td>0.009174</td>\n",
       "      <td>0.007092</td>\n",
       "      <td>0.030534</td>\n",
       "      <td>-0.006410</td>\n",
       "      <td>...</td>\n",
       "      <td>0.015515</td>\n",
       "      <td>0.011936</td>\n",
       "      <td>0.013002</td>\n",
       "      <td>0.015135</td>\n",
       "      <td>0.019401</td>\n",
       "      <td>0.027933</td>\n",
       "      <td>-0.027174</td>\n",
       "      <td>0.000000</td>\n",
       "      <td>0.016575</td>\n",
       "      <td>-0.010929</td>\n",
       "    </tr>\n",
       "    <tr>\n",
       "      <th>...</th>\n",
       "      <td>...</td>\n",
       "      <td>...</td>\n",
       "      <td>...</td>\n",
       "      <td>...</td>\n",
       "      <td>...</td>\n",
       "      <td>...</td>\n",
       "      <td>...</td>\n",
       "      <td>...</td>\n",
       "      <td>...</td>\n",
       "      <td>...</td>\n",
       "      <td>...</td>\n",
       "      <td>...</td>\n",
       "      <td>...</td>\n",
       "      <td>...</td>\n",
       "      <td>...</td>\n",
       "      <td>...</td>\n",
       "      <td>...</td>\n",
       "      <td>...</td>\n",
       "      <td>...</td>\n",
       "      <td>...</td>\n",
       "      <td>...</td>\n",
       "    </tr>\n",
       "    <tr>\n",
       "      <th>2022-12-04</th>\n",
       "      <td>0.013646</td>\n",
       "      <td>0.002216</td>\n",
       "      <td>0.015257</td>\n",
       "      <td>-0.025349</td>\n",
       "      <td>0.017094</td>\n",
       "      <td>-0.004137</td>\n",
       "      <td>0.000000</td>\n",
       "      <td>0.021798</td>\n",
       "      <td>0.007916</td>\n",
       "      <td>0.000000</td>\n",
       "      <td>...</td>\n",
       "      <td>0.010563</td>\n",
       "      <td>0.010563</td>\n",
       "      <td>0.010563</td>\n",
       "      <td>0.007782</td>\n",
       "      <td>0.006575</td>\n",
       "      <td>0.005367</td>\n",
       "      <td>0.002952</td>\n",
       "      <td>-0.001878</td>\n",
       "      <td>-0.001878</td>\n",
       "      <td>-0.006708</td>\n",
       "    </tr>\n",
       "    <tr>\n",
       "      <th>2022-12-11</th>\n",
       "      <td>-0.004797</td>\n",
       "      <td>0.002799</td>\n",
       "      <td>-0.004626</td>\n",
       "      <td>-0.022288</td>\n",
       "      <td>-0.004058</td>\n",
       "      <td>0.011682</td>\n",
       "      <td>0.000000</td>\n",
       "      <td>0.021798</td>\n",
       "      <td>-0.007822</td>\n",
       "      <td>-0.004213</td>\n",
       "      <td>...</td>\n",
       "      <td>0.010563</td>\n",
       "      <td>0.010563</td>\n",
       "      <td>0.010563</td>\n",
       "      <td>0.010563</td>\n",
       "      <td>0.007782</td>\n",
       "      <td>0.006575</td>\n",
       "      <td>0.005367</td>\n",
       "      <td>0.002952</td>\n",
       "      <td>-0.001878</td>\n",
       "      <td>-0.001878</td>\n",
       "    </tr>\n",
       "    <tr>\n",
       "      <th>2022-12-18</th>\n",
       "      <td>-0.010958</td>\n",
       "      <td>0.002457</td>\n",
       "      <td>0.007244</td>\n",
       "      <td>-0.016168</td>\n",
       "      <td>-0.004058</td>\n",
       "      <td>0.011682</td>\n",
       "      <td>0.000000</td>\n",
       "      <td>0.021798</td>\n",
       "      <td>-0.007822</td>\n",
       "      <td>-0.004213</td>\n",
       "      <td>...</td>\n",
       "      <td>0.010563</td>\n",
       "      <td>0.010563</td>\n",
       "      <td>0.010563</td>\n",
       "      <td>0.010563</td>\n",
       "      <td>0.010563</td>\n",
       "      <td>0.007782</td>\n",
       "      <td>0.006575</td>\n",
       "      <td>0.005367</td>\n",
       "      <td>0.002952</td>\n",
       "      <td>-0.001878</td>\n",
       "    </tr>\n",
       "    <tr>\n",
       "      <th>2022-12-25</th>\n",
       "      <td>-0.000939</td>\n",
       "      <td>0.004837</td>\n",
       "      <td>-0.013415</td>\n",
       "      <td>0.026525</td>\n",
       "      <td>-0.014634</td>\n",
       "      <td>0.023202</td>\n",
       "      <td>0.000000</td>\n",
       "      <td>0.021798</td>\n",
       "      <td>-0.015691</td>\n",
       "      <td>-0.006320</td>\n",
       "      <td>...</td>\n",
       "      <td>0.010563</td>\n",
       "      <td>0.010563</td>\n",
       "      <td>0.010563</td>\n",
       "      <td>0.010563</td>\n",
       "      <td>0.010563</td>\n",
       "      <td>0.010563</td>\n",
       "      <td>0.007782</td>\n",
       "      <td>0.006575</td>\n",
       "      <td>0.005367</td>\n",
       "      <td>0.002952</td>\n",
       "    </tr>\n",
       "    <tr>\n",
       "      <th>2023-01-01</th>\n",
       "      <td>-0.001254</td>\n",
       "      <td>0.005432</td>\n",
       "      <td>-0.009513</td>\n",
       "      <td>0.009626</td>\n",
       "      <td>-0.021056</td>\n",
       "      <td>0.023202</td>\n",
       "      <td>0.000000</td>\n",
       "      <td>-0.024390</td>\n",
       "      <td>-0.018291</td>\n",
       "      <td>-0.012388</td>\n",
       "      <td>...</td>\n",
       "      <td>0.007018</td>\n",
       "      <td>0.010563</td>\n",
       "      <td>0.010563</td>\n",
       "      <td>0.010563</td>\n",
       "      <td>0.010563</td>\n",
       "      <td>0.010563</td>\n",
       "      <td>0.010563</td>\n",
       "      <td>0.007782</td>\n",
       "      <td>0.006575</td>\n",
       "      <td>0.005367</td>\n",
       "    </tr>\n",
       "  </tbody>\n",
       "</table>\n",
       "<p>151 rows × 233 columns</p>\n",
       "</div>"
      ],
      "text/plain": [
       "               SP500  SP500_Prediction  CorporateBonds      Gold  \\\n",
       "Date                                                               \n",
       "2020-02-16  0.002026          0.003241        0.000704  0.013606   \n",
       "2020-02-23  0.002026          0.000280        0.006333  0.013606   \n",
       "2020-03-01 -0.004077          0.000720        0.011189  0.013606   \n",
       "2020-03-08  0.004050          0.002717        0.013523  0.013606   \n",
       "2020-03-15  0.004050          0.004247       -0.001329  0.023800   \n",
       "...              ...               ...             ...       ...   \n",
       "2022-12-04  0.013646          0.002216        0.015257 -0.025349   \n",
       "2022-12-11 -0.004797          0.002799       -0.004626 -0.022288   \n",
       "2022-12-18 -0.010958          0.002457        0.007244 -0.016168   \n",
       "2022-12-25 -0.000939          0.004837       -0.013415  0.026525   \n",
       "2023-01-01 -0.001254          0.005432       -0.009513  0.009626   \n",
       "\n",
       "            10-Year Treasury Yield  2-Year Treasury Yield  \\\n",
       "Date                                                        \n",
       "2020-02-16                0.000000               0.007092   \n",
       "2020-02-23                0.000000               0.007092   \n",
       "2020-03-01                0.000000               0.003546   \n",
       "2020-03-08               -0.021277               0.000000   \n",
       "2020-03-15               -0.021277               0.000000   \n",
       "...                            ...                    ...   \n",
       "2022-12-04                0.017094              -0.004137   \n",
       "2022-12-11               -0.004058               0.011682   \n",
       "2022-12-18               -0.004058               0.011682   \n",
       "2022-12-25               -0.014634               0.023202   \n",
       "2023-01-01               -0.021056               0.023202   \n",
       "\n",
       "            Federal Funds Effective Rate  5-Year Treasury Yield  \\\n",
       "Date                                                              \n",
       "2020-02-16                      0.000000               0.007092   \n",
       "2020-02-23                      0.000000               0.007092   \n",
       "2020-03-01                      0.000000               0.007092   \n",
       "2020-03-08                      0.004587               0.007092   \n",
       "2020-03-15                      0.009174               0.007092   \n",
       "...                                  ...                    ...   \n",
       "2022-12-04                      0.000000               0.021798   \n",
       "2022-12-11                      0.000000               0.021798   \n",
       "2022-12-18                      0.000000               0.021798   \n",
       "2022-12-25                      0.000000               0.021798   \n",
       "2023-01-01                      0.000000              -0.024390   \n",
       "\n",
       "            20-Year Treasury Yield  30-Year Treasury Yield  ...  \\\n",
       "Date                                                        ...   \n",
       "2020-02-16                0.000000                0.012636  ...   \n",
       "2020-02-23                0.000000                0.003879  ...   \n",
       "2020-03-01                0.000000               -0.004878  ...   \n",
       "2020-03-08                0.030534               -0.006410  ...   \n",
       "2020-03-15                0.030534               -0.006410  ...   \n",
       "...                            ...                     ...  ...   \n",
       "2022-12-04                0.007916                0.000000  ...   \n",
       "2022-12-11               -0.007822               -0.004213  ...   \n",
       "2022-12-18               -0.007822               -0.004213  ...   \n",
       "2022-12-25               -0.015691               -0.006320  ...   \n",
       "2023-01-01               -0.018291               -0.012388  ...   \n",
       "\n",
       "            10yTrea30yFRM (t-3)  10yTrea30yFRM (t-4)  10yTrea30yFRM (t-5)  \\\n",
       "Date                                                                        \n",
       "2020-02-16             0.019401             0.027933            -0.027174   \n",
       "2020-02-23             0.015135             0.019401             0.027933   \n",
       "2020-03-01             0.013002             0.015135             0.019401   \n",
       "2020-03-08             0.011936             0.013002             0.015135   \n",
       "2020-03-15             0.015515             0.011936             0.013002   \n",
       "...                         ...                  ...                  ...   \n",
       "2022-12-04             0.010563             0.010563             0.010563   \n",
       "2022-12-11             0.010563             0.010563             0.010563   \n",
       "2022-12-18             0.010563             0.010563             0.010563   \n",
       "2022-12-25             0.010563             0.010563             0.010563   \n",
       "2023-01-01             0.007018             0.010563             0.010563   \n",
       "\n",
       "            10yTrea30yFRM (t-6)  10yTrea30yFRM (t-7)  10yTrea30yFRM (t-8)  \\\n",
       "Date                                                                        \n",
       "2020-02-16             0.000000             0.016575            -0.010929   \n",
       "2020-02-23            -0.027174             0.000000             0.016575   \n",
       "2020-03-01             0.027933            -0.027174             0.000000   \n",
       "2020-03-08             0.019401             0.027933            -0.027174   \n",
       "2020-03-15             0.015135             0.019401             0.027933   \n",
       "...                         ...                  ...                  ...   \n",
       "2022-12-04             0.007782             0.006575             0.005367   \n",
       "2022-12-11             0.010563             0.007782             0.006575   \n",
       "2022-12-18             0.010563             0.010563             0.007782   \n",
       "2022-12-25             0.010563             0.010563             0.010563   \n",
       "2023-01-01             0.010563             0.010563             0.010563   \n",
       "\n",
       "            10yTrea30yFRM (t-9)  10yTrea30yFRM (t-10)  10yTrea30yFRM (t-11)  \\\n",
       "Date                                                                          \n",
       "2020-02-16            -0.026596             -0.015707              0.010582   \n",
       "2020-02-23            -0.010929             -0.026596             -0.015707   \n",
       "2020-03-01             0.016575             -0.010929             -0.026596   \n",
       "2020-03-08             0.000000              0.016575             -0.010929   \n",
       "2020-03-15            -0.027174              0.000000              0.016575   \n",
       "...                         ...                   ...                   ...   \n",
       "2022-12-04             0.002952             -0.001878             -0.001878   \n",
       "2022-12-11             0.005367              0.002952             -0.001878   \n",
       "2022-12-18             0.006575              0.005367              0.002952   \n",
       "2022-12-25             0.007782              0.006575              0.005367   \n",
       "2023-01-01             0.010563              0.007782              0.006575   \n",
       "\n",
       "            10yTrea30yFRM (t-12)  \n",
       "Date                              \n",
       "2020-02-16             -0.005072  \n",
       "2020-02-23              0.010582  \n",
       "2020-03-01             -0.015707  \n",
       "2020-03-08             -0.026596  \n",
       "2020-03-15             -0.010929  \n",
       "...                          ...  \n",
       "2022-12-04             -0.006708  \n",
       "2022-12-11             -0.001878  \n",
       "2022-12-18             -0.001878  \n",
       "2022-12-25              0.002952  \n",
       "2023-01-01              0.005367  \n",
       "\n",
       "[151 rows x 233 columns]"
      ]
     },
     "execution_count": 102,
     "metadata": {},
     "output_type": "execute_result"
    }
   ],
   "source": [
    "full_test = pd.concat([model_pred, X_test], axis=1)"
   ]
  },
  {
   "cell_type": "code",
   "execution_count": 64,
   "metadata": {},
   "outputs": [
    {
     "data": {
      "text/html": [
       "<div>\n",
       "<style scoped>\n",
       "    .dataframe tbody tr th:only-of-type {\n",
       "        vertical-align: middle;\n",
       "    }\n",
       "\n",
       "    .dataframe tbody tr th {\n",
       "        vertical-align: top;\n",
       "    }\n",
       "\n",
       "    .dataframe thead th {\n",
       "        text-align: right;\n",
       "    }\n",
       "</style>\n",
       "<table border=\"1\" class=\"dataframe\">\n",
       "  <thead>\n",
       "    <tr style=\"text-align: right;\">\n",
       "      <th></th>\n",
       "      <th>Grid</th>\n",
       "      <th>Best score</th>\n",
       "    </tr>\n",
       "  </thead>\n",
       "  <tbody>\n",
       "    <tr>\n",
       "      <th>0</th>\n",
       "      <td>RandomForest</td>\n",
       "      <td>-0.012563</td>\n",
       "    </tr>\n",
       "    <tr>\n",
       "      <th>1</th>\n",
       "      <td>XGBRegressor</td>\n",
       "      <td>-0.012683</td>\n",
       "    </tr>\n",
       "  </tbody>\n",
       "</table>\n",
       "</div>"
      ],
      "text/plain": [
       "           Grid  Best score\n",
       "0  RandomForest   -0.012563\n",
       "1  XGBRegressor   -0.012683"
      ]
     },
     "execution_count": 64,
     "metadata": {},
     "output_type": "execute_result"
    }
   ],
   "source": [
    "best_grids = [(i, j.best_score_) for i, j in models_gridsearch.items()]\n",
    "best_grids = pd.DataFrame(best_grids, columns=[\"Grid\", \"Best score\"]).sort_values(by=\"Best score\", ascending=False)\n",
    "best_grids"
   ]
  },
  {
   "cell_type": "code",
   "execution_count": 68,
   "metadata": {},
   "outputs": [
    {
     "data": {
      "text/plain": [
       "-0.08156273370819211"
      ]
     },
     "execution_count": 68,
     "metadata": {},
     "output_type": "execute_result"
    }
   ],
   "source": [
    "models_gridsearch[best_grids.loc[0,\"Grid\"]].best_estimator_.score(X_test, y_test)"
   ]
  },
  {
   "cell_type": "code",
   "execution_count": 81,
   "metadata": {},
   "outputs": [],
   "source": [
    "y_pred = models_gridsearch[best_grids.loc[0,\"Grid\"]].predict(X_test)\n",
    "y_pred = pd.DataFrame(y_pred, columns=[target+\"_Prediction\"],index=y_test.index)\n",
    "y_pred.index, y_test.index = pd.to_datetime(y_test.index), pd.to_datetime(y_test.index)"
   ]
  },
  {
   "cell_type": "code",
   "execution_count": 85,
   "metadata": {},
   "outputs": [
    {
     "data": {
      "image/png": "[encoded data removed]",
      "text/plain": [
       "<Figure size 1400x600 with 1 Axes>"
      ]
     },
     "metadata": {},
     "output_type": "display_data"
    }
   ],
   "source": [
    "# plt.scatter(X_train, y_train, color='blue', label='Training Data')\n",
    "plt.figure(figsize=(14,6))\n",
    "plt.plot(y_test.cumsum(), linewidth=2, label=target)\n",
    "plt.plot(y_pred.cumsum(), color='red', linewidth=2, label=target+'_Prediction')\n",
    "plt.xlabel('Dates')\n",
    "plt.ylabel('Return')\n",
    "plt.legend()\n",
    "plt.show()"
   ]
  },
  {
   "cell_type": "code",
   "execution_count": null,
   "metadata": {},
   "outputs": [],
   "source": []
  },
  {
   "cell_type": "code",
   "execution_count": 22,
   "metadata": {},
   "outputs": [],
   "source": [
    "grid_RandomForest = {\n",
    "    \"n_estimators\": [120],\n",
    "    \"max_depth\": [3,5,10,15,17],\n",
    "    \"max_features\": [\"sqrt\", 3, 4]                          \n",
    "    }\n",
    "\n",
    "grid_GradientBoosting = {\n",
    "    'n_estimators': [50, 100, 150],  # Number of boosting stages (trees)\n",
    "    'learning_rate': [0.01, 0.05, 0.1],  # Step size shrinkage to prevent overfitting\n",
    "    'max_depth': [3, 5, 7],  # Maximum depth of the individual trees\n",
    "    }\n",
    "\n",
    "grid_XGBRegressor = {\n",
    "    'n_estimators': [50, 100, 150],  # Number of boosting stages (trees)\n",
    "    'learning_rate': [0.01, 0.05, 0.1],  # Step size shrinkage to prevent overfitting\n",
    "    'max_depth': [3, 5, 7],  # Maximum depth of the individual trees\n",
    "    'min_child_weight': [1, 3, 5],  # Minimum sum of instance weight needed in a child\n",
    "    'subsample': [0.8, 0.9, 1.0],  # Fraction of samples used for fitting the trees\n",
    "    'colsample_bytree': [0.8, 0.9, 1.0],  # Fraction of features used for fitting the trees\n",
    "    }\n",
    "\n",
    "grid_KNeighborsRegressor = {\n",
    "    'n_neighbors': [3, 5, 7, 9],  # Number of neighbors to consider\n",
    "    'weights': ['uniform', 'distance'],  # Weight function used in prediction\n",
    "    'p': [1, 2],  # Power parameter for the Minkowski metric (1: Manhattan distance, 2: Euclidean distance)\n",
    "    # Add other hyperparameters you want to tune, such as 'algorithm', 'leaf_size', etc.\n",
    "    }\n",
    "\n",
    "grid_SVR = {\n",
    "    'C': [0.1, 1.0, 10.0],  # Regularization parameter\n",
    "    'kernel': ['linear', 'poly', 'rbf', 'sigmoid'],  # Type of kernel function\n",
    "    'degree': [2, 3, 4],  # Degree of the polynomial kernel function (used for 'poly' kernel)\n",
    "    'gamma': ['scale', 'auto', 0.1, 1.0],  # Kernel coefficient for 'rbf', 'poly', and 'sigmoid' kernels\n",
    "    }\n"
   ]
  },
  {
   "cell_type": "code",
   "execution_count": 45,
   "metadata": {},
   "outputs": [
    {
     "ename": "AttributeError",
     "evalue": "'SelectKBest' object has no attribute 'items'",
     "output_type": "error",
     "traceback": [
      "\u001b[1;31m---------------------------------------------------------------------------\u001b[0m",
      "\u001b[1;31mAttributeError\u001b[0m                            Traceback (most recent call last)",
      "\u001b[1;32m~\\AppData\\Local\\Temp\\ipykernel_4004\\713028659.py\u001b[0m in \u001b[0;36m<module>\u001b[1;34m\u001b[0m\n\u001b[0;32m     23\u001b[0m                                         \u001b[0mscoring\u001b[0m\u001b[1;33m=\u001b[0m\u001b[1;34m\"accuracy\"\u001b[0m\u001b[1;33m,\u001b[0m\u001b[1;33m\u001b[0m\u001b[1;33m\u001b[0m\u001b[0m\n\u001b[0;32m     24\u001b[0m                                         \u001b[0mverbose\u001b[0m\u001b[1;33m=\u001b[0m\u001b[1;36m1\u001b[0m\u001b[1;33m,\u001b[0m\u001b[1;33m\u001b[0m\u001b[1;33m\u001b[0m\u001b[0m\n\u001b[1;32m---> 25\u001b[1;33m                                         n_jobs=-1)\n\u001b[0m\u001b[0;32m     26\u001b[0m \u001b[1;33m\u001b[0m\u001b[0m\n\u001b[0;32m     27\u001b[0m \u001b[0mmodels_gridsearch\u001b[0m\u001b[1;33m.\u001b[0m\u001b[0mfit\u001b[0m\u001b[1;33m(\u001b[0m\u001b[0mX_train\u001b[0m\u001b[1;33m,\u001b[0m \u001b[0my_train\u001b[0m\u001b[1;33m)\u001b[0m\u001b[1;33m\u001b[0m\u001b[1;33m\u001b[0m\u001b[0m\n",
      "\u001b[1;32mc:\\Users\\Joan Oliver\\AppData\\Local\\Programs\\Python\\Python37\\lib\\site-packages\\sklearn\\model_selection\\_search.py\u001b[0m in \u001b[0;36m__init__\u001b[1;34m(self, estimator, param_grid, scoring, n_jobs, refit, cv, verbose, pre_dispatch, error_score, return_train_score)\u001b[0m\n\u001b[0;32m   1386\u001b[0m         )\n\u001b[0;32m   1387\u001b[0m         \u001b[0mself\u001b[0m\u001b[1;33m.\u001b[0m\u001b[0mparam_grid\u001b[0m \u001b[1;33m=\u001b[0m \u001b[0mparam_grid\u001b[0m\u001b[1;33m\u001b[0m\u001b[1;33m\u001b[0m\u001b[0m\n\u001b[1;32m-> 1388\u001b[1;33m         \u001b[0m_check_param_grid\u001b[0m\u001b[1;33m(\u001b[0m\u001b[0mparam_grid\u001b[0m\u001b[1;33m)\u001b[0m\u001b[1;33m\u001b[0m\u001b[1;33m\u001b[0m\u001b[0m\n\u001b[0m\u001b[0;32m   1389\u001b[0m \u001b[1;33m\u001b[0m\u001b[0m\n\u001b[0;32m   1390\u001b[0m     \u001b[1;32mdef\u001b[0m \u001b[0m_run_search\u001b[0m\u001b[1;33m(\u001b[0m\u001b[0mself\u001b[0m\u001b[1;33m,\u001b[0m \u001b[0mevaluate_candidates\u001b[0m\u001b[1;33m)\u001b[0m\u001b[1;33m:\u001b[0m\u001b[1;33m\u001b[0m\u001b[1;33m\u001b[0m\u001b[0m\n",
      "\u001b[1;32mc:\\Users\\Joan Oliver\\AppData\\Local\\Programs\\Python\\Python37\\lib\\site-packages\\sklearn\\model_selection\\_search.py\u001b[0m in \u001b[0;36m_check_param_grid\u001b[1;34m(param_grid)\u001b[0m\n\u001b[0;32m    327\u001b[0m \u001b[1;33m\u001b[0m\u001b[0m\n\u001b[0;32m    328\u001b[0m     \u001b[1;32mfor\u001b[0m \u001b[0mp\u001b[0m \u001b[1;32min\u001b[0m \u001b[0mparam_grid\u001b[0m\u001b[1;33m:\u001b[0m\u001b[1;33m\u001b[0m\u001b[1;33m\u001b[0m\u001b[0m\n\u001b[1;32m--> 329\u001b[1;33m         \u001b[1;32mfor\u001b[0m \u001b[0mname\u001b[0m\u001b[1;33m,\u001b[0m \u001b[0mv\u001b[0m \u001b[1;32min\u001b[0m \u001b[0mp\u001b[0m\u001b[1;33m.\u001b[0m\u001b[0mitems\u001b[0m\u001b[1;33m(\u001b[0m\u001b[1;33m)\u001b[0m\u001b[1;33m:\u001b[0m\u001b[1;33m\u001b[0m\u001b[1;33m\u001b[0m\u001b[0m\n\u001b[0m\u001b[0;32m    330\u001b[0m             \u001b[1;32mif\u001b[0m \u001b[0misinstance\u001b[0m\u001b[1;33m(\u001b[0m\u001b[0mv\u001b[0m\u001b[1;33m,\u001b[0m \u001b[0mnp\u001b[0m\u001b[1;33m.\u001b[0m\u001b[0mndarray\u001b[0m\u001b[1;33m)\u001b[0m \u001b[1;32mand\u001b[0m \u001b[0mv\u001b[0m\u001b[1;33m.\u001b[0m\u001b[0mndim\u001b[0m \u001b[1;33m>\u001b[0m \u001b[1;36m1\u001b[0m\u001b[1;33m:\u001b[0m\u001b[1;33m\u001b[0m\u001b[1;33m\u001b[0m\u001b[0m\n\u001b[0;32m    331\u001b[0m                 \u001b[1;32mraise\u001b[0m \u001b[0mValueError\u001b[0m\u001b[1;33m(\u001b[0m\u001b[1;34m\"Parameter array should be one-dimensional.\"\u001b[0m\u001b[1;33m)\u001b[0m\u001b[1;33m\u001b[0m\u001b[1;33m\u001b[0m\u001b[0m\n",
      "\u001b[1;31mAttributeError\u001b[0m: 'SelectKBest' object has no attribute 'items'"
     ]
    }
   ],
   "source": [
    "pipe = Pipeline(steps=[\n",
    "            (\"selectkbest\",SelectKBest()), \n",
    "            (\"RandomForest\", RandomForestRegressor())\n",
    "            ])\n",
    "\n",
    "grid_RandomForest = {\n",
    "    \"n_estimators\": [120],\n",
    "    \"max_depth\": [3,5,10,15,17],\n",
    "    \"max_features\": [\"sqrt\", 3, 4]                          \n",
    "    }\n",
    "\n",
    "grid_RandomForest = {\n",
    "    \"n_estimators\": [120],\n",
    "    \"max_depth\": [3,5,10,15,17],\n",
    "    \"max_features\": [\"sqrt\", 3, 4]                          \n",
    "    }\n",
    "\n",
    "models_gridsearch = {}\n",
    "\n",
    "models_gridsearch = GridSearchCV(\"RandomForest\",\n",
    "                                        pipe,\n",
    "                                        cv=10,\n",
    "                                        scoring=\"accuracy\",\n",
    "                                        verbose=1,\n",
    "                                        n_jobs=-1)\n",
    "\n",
    "models_gridsearch.fit(X_train, y_train)"
   ]
  },
  {
   "cell_type": "markdown",
   "metadata": {},
   "source": [
    "### Defining the Pipelines"
   ]
  },
  {
   "cell_type": "code",
   "execution_count": 38,
   "metadata": {},
   "outputs": [
    {
     "name": "stdout",
     "output_type": "stream",
     "text": [
      "Processing RandomForest Pipeline\n",
      "grid_RandomForest\n",
      "grid_RandomForest\n",
      "grid_RandomForest\n",
      "Processing XGBRegressor Pipeline\n",
      "grid_XGBRegressor\n",
      "grid_XGBRegressor\n",
      "grid_XGBRegressor\n",
      "grid_XGBRegressor\n",
      "grid_XGBRegressor\n",
      "grid_XGBRegressor\n"
     ]
    }
   ],
   "source": [
    "# Defining the pipelines\n",
    "grid_models = []\n",
    "for name, model in baseline_models.items():\n",
    "    if name in (model_results.index.values):\n",
    "    # if name in \"XGBRegressor\":\n",
    "        print(\"Processing \"+name+\" Pipeline\")\n",
    "        globals() [name+\"_pipe\"] = Pipeline(steps=[\n",
    "            (\"scaler\", StandardScaler()),\n",
    "            (\"selectkbest\",SelectKBest()), \n",
    "            (name, model)\n",
    "        ])\n",
    "        globals() [name+\"_params\"] = {}\n",
    "        for mod, hyperparams in globals() [\"grid_\"+name].items():\n",
    "            print(\"grid_\"+name)\n",
    "            globals() [name+\"_params\"][name+\"_pipe\"+\"__\"+mod] = hyperparams\n",
    "        grid_models.append((name+\"_pipe\", globals() [name+\"_pipe\"], globals() [name+\"_params\"]))\n"
   ]
  },
  {
   "cell_type": "code",
   "execution_count": 39,
   "metadata": {},
   "outputs": [
    {
     "data": {
      "text/plain": [
       "[('RandomForest_pipe',\n",
       "  Pipeline(steps=[('scaler', StandardScaler()), ('selectkbest', SelectKBest()),\n",
       "                  ('RandomForest', RandomForestRegressor())]),\n",
       "  {'RandomForest_pipe__n_estimators': [120],\n",
       "   'RandomForest_pipe__max_depth': [3, 4, 5, 6, 10, 15, 17],\n",
       "   'RandomForest_pipe__max_features': ['sqrt', 3, 4]}),\n",
       " ('XGBRegressor_pipe',\n",
       "  Pipeline(steps=[('scaler', StandardScaler()), ('selectkbest', SelectKBest()),\n",
       "                  ('XGBRegressor',\n",
       "                   XGBRegressor(base_score=0.5, booster='gbtree', callbacks=None,\n",
       "                                colsample_bylevel=1, colsample_bynode=1,\n",
       "                                colsample_bytree=1, early_stopping_rounds=None,\n",
       "                                enable_categorical=False, eval_metric=None,\n",
       "                                gamma=0, gpu_id=-1, grow_policy='depthwise',\n",
       "                                importance_type=None, interaction_constraints='',\n",
       "                                learning_rate=0.300000012, max_bin=256,\n",
       "                                max_cat_to_onehot=4, max_delta_step=0,\n",
       "                                max_depth=6, max_leaves=0, min_child_weight=1,\n",
       "                                missing=nan, monotone_constraints='()',\n",
       "                                n_estimators=100, n_jobs=0, num_parallel_tree=1,\n",
       "                                predictor='auto', random_state=0, reg_alpha=0,\n",
       "                                reg_lambda=1, ...))]),\n",
       "  {'XGBRegressor_pipe__n_estimators': [50, 100, 150],\n",
       "   'XGBRegressor_pipe__learning_rate': [0.01, 0.05, 0.1],\n",
       "   'XGBRegressor_pipe__max_depth': [3, 5, 7],\n",
       "   'XGBRegressor_pipe__min_child_weight': [1, 3, 5],\n",
       "   'XGBRegressor_pipe__subsample': [0.8, 0.9, 1.0],\n",
       "   'XGBRegressor_pipe__colsample_bytree': [0.8, 0.9, 1.0]})]"
      ]
     },
     "execution_count": 39,
     "metadata": {},
     "output_type": "execute_result"
    }
   ],
   "source": [
    "grid_models"
   ]
  },
  {
   "cell_type": "code",
   "execution_count": 40,
   "metadata": {},
   "outputs": [
    {
     "name": "stdout",
     "output_type": "stream",
     "text": [
      "RandomForest_pipe\n",
      "Pipeline(steps=[('scaler', StandardScaler()), ('selectkbest', SelectKBest()),\n",
      "                ('RandomForest', RandomForestRegressor())])\n",
      "{'RandomForest_pipe__n_estimators': [120], 'RandomForest_pipe__max_depth': [3, 4, 5, 6, 10, 15, 17], 'RandomForest_pipe__max_features': ['sqrt', 3, 4]}\n",
      "XGBRegressor_pipe\n",
      "Pipeline(steps=[('scaler', StandardScaler()), ('selectkbest', SelectKBest()),\n",
      "                ('XGBRegressor',\n",
      "                 XGBRegressor(base_score=0.5, booster='gbtree', callbacks=None,\n",
      "                              colsample_bylevel=1, colsample_bynode=1,\n",
      "                              colsample_bytree=1, early_stopping_rounds=None,\n",
      "                              enable_categorical=False, eval_metric=None,\n",
      "                              gamma=0, gpu_id=-1, grow_policy='depthwise',\n",
      "                              importance_type=None, interaction_constraints='',\n",
      "                              learning_rate=0.300000012, max_bin=256,\n",
      "                              max_cat_to_onehot=4, max_delta_step=0,\n",
      "                              max_depth=6, max_leaves=0, min_child_weight=1,\n",
      "                              missing=nan, monotone_constraints='()',\n",
      "                              n_estimators=100, n_jobs=0, num_parallel_tree=1,\n",
      "                              predictor='auto', random_state=0, reg_alpha=0,\n",
      "                              reg_lambda=1, ...))])\n",
      "{'XGBRegressor_pipe__n_estimators': [50, 100, 150], 'XGBRegressor_pipe__learning_rate': [0.01, 0.05, 0.1], 'XGBRegressor_pipe__max_depth': [3, 5, 7], 'XGBRegressor_pipe__min_child_weight': [1, 3, 5], 'XGBRegressor_pipe__subsample': [0.8, 0.9, 1.0], 'XGBRegressor_pipe__colsample_bytree': [0.8, 0.9, 1.0]}\n"
     ]
    }
   ],
   "source": [
    "for i in grid_models:\n",
    "    print(i[0])\n",
    "    print(i[1])\n",
    "    print(i[2])"
   ]
  },
  {
   "cell_type": "code",
   "execution_count": 41,
   "metadata": {},
   "outputs": [
    {
     "name": "stdout",
     "output_type": "stream",
     "text": [
      "Fitting 10 folds for each of 21 candidates, totalling 210 fits\n"
     ]
    },
    {
     "name": "stderr",
     "output_type": "stream",
     "text": [
      "exception calling callback for <Future at 0x1d7a019c648 state=finished raised TerminatedWorkerError>\n",
      "Traceback (most recent call last):\n",
      "  File \"c:\\Users\\Joan Oliver\\AppData\\Local\\Programs\\Python\\Python37\\lib\\site-packages\\joblib\\externals\\loky\\_base.py\", line 26, in _invoke_callbacks\n",
      "    callback(self)\n",
      "  File \"c:\\Users\\Joan Oliver\\AppData\\Local\\Programs\\Python\\Python37\\lib\\site-packages\\joblib\\parallel.py\", line 385, in __call__\n",
      "    self.parallel.dispatch_next()\n",
      "  File \"c:\\Users\\Joan Oliver\\AppData\\Local\\Programs\\Python\\Python37\\lib\\site-packages\\joblib\\parallel.py\", line 834, in dispatch_next\n",
      "    if not self.dispatch_one_batch(self._original_iterator):\n",
      "  File \"c:\\Users\\Joan Oliver\\AppData\\Local\\Programs\\Python\\Python37\\lib\\site-packages\\joblib\\parallel.py\", line 901, in dispatch_one_batch\n",
      "    self._dispatch(tasks)\n",
      "  File \"c:\\Users\\Joan Oliver\\AppData\\Local\\Programs\\Python\\Python37\\lib\\site-packages\\joblib\\parallel.py\", line 819, in _dispatch\n",
      "    job = self._backend.apply_async(batch, callback=cb)\n",
      "  File \"c:\\Users\\Joan Oliver\\AppData\\Local\\Programs\\Python\\Python37\\lib\\site-packages\\joblib\\_parallel_backends.py\", line 556, in apply_async\n",
      "    future = self._workers.submit(SafeFunction(func))\n",
      "  File \"c:\\Users\\Joan Oliver\\AppData\\Local\\Programs\\Python\\Python37\\lib\\site-packages\\joblib\\externals\\loky\\reusable_executor.py\", line 176, in submit\n",
      "    return super().submit(fn, *args, **kwargs)\n",
      "  File \"c:\\Users\\Joan Oliver\\AppData\\Local\\Programs\\Python\\Python37\\lib\\site-packages\\joblib\\externals\\loky\\process_executor.py\", line 1129, in submit\n",
      "    raise self._flags.broken\n",
      "joblib.externals.loky.process_executor.TerminatedWorkerError: A worker process managed by the executor was unexpectedly terminated. This could be caused by a segmentation fault while calling the function or by an excessive memory usage causing the Operating System to kill the worker.\n",
      "\n"
     ]
    },
    {
     "ename": "TerminatedWorkerError",
     "evalue": "A worker process managed by the executor was unexpectedly terminated. This could be caused by a segmentation fault while calling the function or by an excessive memory usage causing the Operating System to kill the worker.\n",
     "output_type": "error",
     "traceback": [
      "\u001b[1;31m---------------------------------------------------------------------------\u001b[0m",
      "\u001b[1;31mTerminatedWorkerError\u001b[0m                     Traceback (most recent call last)",
      "\u001b[1;32m~\\AppData\\Local\\Temp\\ipykernel_4004\\2882148056.py\u001b[0m in \u001b[0;36m<module>\u001b[1;34m\u001b[0m\n\u001b[0;32m      9\u001b[0m                                           n_jobs=-1)\n\u001b[0;32m     10\u001b[0m \u001b[1;33m\u001b[0m\u001b[0m\n\u001b[1;32m---> 11\u001b[1;33m     \u001b[0mmodels_gridsearch\u001b[0m\u001b[1;33m[\u001b[0m\u001b[0mi\u001b[0m\u001b[1;33m[\u001b[0m\u001b[1;36m0\u001b[0m\u001b[1;33m]\u001b[0m\u001b[1;33m]\u001b[0m\u001b[1;33m.\u001b[0m\u001b[0mfit\u001b[0m\u001b[1;33m(\u001b[0m\u001b[0mX_train\u001b[0m\u001b[1;33m,\u001b[0m \u001b[0my_train\u001b[0m\u001b[1;33m)\u001b[0m\u001b[1;33m\u001b[0m\u001b[1;33m\u001b[0m\u001b[0m\n\u001b[0m",
      "\u001b[1;32mc:\\Users\\Joan Oliver\\AppData\\Local\\Programs\\Python\\Python37\\lib\\site-packages\\sklearn\\model_selection\\_search.py\u001b[0m in \u001b[0;36mfit\u001b[1;34m(self, X, y, groups, **fit_params)\u001b[0m\n\u001b[0;32m    889\u001b[0m                 \u001b[1;32mreturn\u001b[0m \u001b[0mresults\u001b[0m\u001b[1;33m\u001b[0m\u001b[1;33m\u001b[0m\u001b[0m\n\u001b[0;32m    890\u001b[0m \u001b[1;33m\u001b[0m\u001b[0m\n\u001b[1;32m--> 891\u001b[1;33m             \u001b[0mself\u001b[0m\u001b[1;33m.\u001b[0m\u001b[0m_run_search\u001b[0m\u001b[1;33m(\u001b[0m\u001b[0mevaluate_candidates\u001b[0m\u001b[1;33m)\u001b[0m\u001b[1;33m\u001b[0m\u001b[1;33m\u001b[0m\u001b[0m\n\u001b[0m\u001b[0;32m    892\u001b[0m \u001b[1;33m\u001b[0m\u001b[0m\n\u001b[0;32m    893\u001b[0m             \u001b[1;31m# multimetric is determined here because in the case of a callable\u001b[0m\u001b[1;33m\u001b[0m\u001b[1;33m\u001b[0m\u001b[1;33m\u001b[0m\u001b[0m\n",
      "\u001b[1;32mc:\\Users\\Joan Oliver\\AppData\\Local\\Programs\\Python\\Python37\\lib\\site-packages\\sklearn\\model_selection\\_search.py\u001b[0m in \u001b[0;36m_run_search\u001b[1;34m(self, evaluate_candidates)\u001b[0m\n\u001b[0;32m   1390\u001b[0m     \u001b[1;32mdef\u001b[0m \u001b[0m_run_search\u001b[0m\u001b[1;33m(\u001b[0m\u001b[0mself\u001b[0m\u001b[1;33m,\u001b[0m \u001b[0mevaluate_candidates\u001b[0m\u001b[1;33m)\u001b[0m\u001b[1;33m:\u001b[0m\u001b[1;33m\u001b[0m\u001b[1;33m\u001b[0m\u001b[0m\n\u001b[0;32m   1391\u001b[0m         \u001b[1;34m\"\"\"Search all candidates in param_grid\"\"\"\u001b[0m\u001b[1;33m\u001b[0m\u001b[1;33m\u001b[0m\u001b[0m\n\u001b[1;32m-> 1392\u001b[1;33m         \u001b[0mevaluate_candidates\u001b[0m\u001b[1;33m(\u001b[0m\u001b[0mParameterGrid\u001b[0m\u001b[1;33m(\u001b[0m\u001b[0mself\u001b[0m\u001b[1;33m.\u001b[0m\u001b[0mparam_grid\u001b[0m\u001b[1;33m)\u001b[0m\u001b[1;33m)\u001b[0m\u001b[1;33m\u001b[0m\u001b[1;33m\u001b[0m\u001b[0m\n\u001b[0m\u001b[0;32m   1393\u001b[0m \u001b[1;33m\u001b[0m\u001b[0m\n\u001b[0;32m   1394\u001b[0m \u001b[1;33m\u001b[0m\u001b[0m\n",
      "\u001b[1;32mc:\\Users\\Joan Oliver\\AppData\\Local\\Programs\\Python\\Python37\\lib\\site-packages\\sklearn\\model_selection\\_search.py\u001b[0m in \u001b[0;36mevaluate_candidates\u001b[1;34m(candidate_params, cv, more_results)\u001b[0m\n\u001b[0;32m    849\u001b[0m                     )\n\u001b[0;32m    850\u001b[0m                     for (cand_idx, parameters), (split_idx, (train, test)) in product(\n\u001b[1;32m--> 851\u001b[1;33m                         \u001b[0menumerate\u001b[0m\u001b[1;33m(\u001b[0m\u001b[0mcandidate_params\u001b[0m\u001b[1;33m)\u001b[0m\u001b[1;33m,\u001b[0m \u001b[0menumerate\u001b[0m\u001b[1;33m(\u001b[0m\u001b[0mcv\u001b[0m\u001b[1;33m.\u001b[0m\u001b[0msplit\u001b[0m\u001b[1;33m(\u001b[0m\u001b[0mX\u001b[0m\u001b[1;33m,\u001b[0m \u001b[0my\u001b[0m\u001b[1;33m,\u001b[0m \u001b[0mgroups\u001b[0m\u001b[1;33m)\u001b[0m\u001b[1;33m)\u001b[0m\u001b[1;33m\u001b[0m\u001b[1;33m\u001b[0m\u001b[0m\n\u001b[0m\u001b[0;32m    852\u001b[0m                     )\n\u001b[0;32m    853\u001b[0m                 )\n",
      "\u001b[1;32mc:\\Users\\Joan Oliver\\AppData\\Local\\Programs\\Python\\Python37\\lib\\site-packages\\joblib\\parallel.py\u001b[0m in \u001b[0;36m__call__\u001b[1;34m(self, iterable)\u001b[0m\n\u001b[0;32m   1096\u001b[0m \u001b[1;33m\u001b[0m\u001b[0m\n\u001b[0;32m   1097\u001b[0m             \u001b[1;32mwith\u001b[0m \u001b[0mself\u001b[0m\u001b[1;33m.\u001b[0m\u001b[0m_backend\u001b[0m\u001b[1;33m.\u001b[0m\u001b[0mretrieval_context\u001b[0m\u001b[1;33m(\u001b[0m\u001b[1;33m)\u001b[0m\u001b[1;33m:\u001b[0m\u001b[1;33m\u001b[0m\u001b[1;33m\u001b[0m\u001b[0m\n\u001b[1;32m-> 1098\u001b[1;33m                 \u001b[0mself\u001b[0m\u001b[1;33m.\u001b[0m\u001b[0mretrieve\u001b[0m\u001b[1;33m(\u001b[0m\u001b[1;33m)\u001b[0m\u001b[1;33m\u001b[0m\u001b[1;33m\u001b[0m\u001b[0m\n\u001b[0m\u001b[0;32m   1099\u001b[0m             \u001b[1;31m# Make sure that we get a last message telling us we are done\u001b[0m\u001b[1;33m\u001b[0m\u001b[1;33m\u001b[0m\u001b[1;33m\u001b[0m\u001b[0m\n\u001b[0;32m   1100\u001b[0m             \u001b[0melapsed_time\u001b[0m \u001b[1;33m=\u001b[0m \u001b[0mtime\u001b[0m\u001b[1;33m.\u001b[0m\u001b[0mtime\u001b[0m\u001b[1;33m(\u001b[0m\u001b[1;33m)\u001b[0m \u001b[1;33m-\u001b[0m \u001b[0mself\u001b[0m\u001b[1;33m.\u001b[0m\u001b[0m_start_time\u001b[0m\u001b[1;33m\u001b[0m\u001b[1;33m\u001b[0m\u001b[0m\n",
      "\u001b[1;32mc:\\Users\\Joan Oliver\\AppData\\Local\\Programs\\Python\\Python37\\lib\\site-packages\\joblib\\parallel.py\u001b[0m in \u001b[0;36mretrieve\u001b[1;34m(self)\u001b[0m\n\u001b[0;32m    973\u001b[0m             \u001b[1;32mtry\u001b[0m\u001b[1;33m:\u001b[0m\u001b[1;33m\u001b[0m\u001b[1;33m\u001b[0m\u001b[0m\n\u001b[0;32m    974\u001b[0m                 \u001b[1;32mif\u001b[0m \u001b[0mgetattr\u001b[0m\u001b[1;33m(\u001b[0m\u001b[0mself\u001b[0m\u001b[1;33m.\u001b[0m\u001b[0m_backend\u001b[0m\u001b[1;33m,\u001b[0m \u001b[1;34m'supports_timeout'\u001b[0m\u001b[1;33m,\u001b[0m \u001b[1;32mFalse\u001b[0m\u001b[1;33m)\u001b[0m\u001b[1;33m:\u001b[0m\u001b[1;33m\u001b[0m\u001b[1;33m\u001b[0m\u001b[0m\n\u001b[1;32m--> 975\u001b[1;33m                     \u001b[0mself\u001b[0m\u001b[1;33m.\u001b[0m\u001b[0m_output\u001b[0m\u001b[1;33m.\u001b[0m\u001b[0mextend\u001b[0m\u001b[1;33m(\u001b[0m\u001b[0mjob\u001b[0m\u001b[1;33m.\u001b[0m\u001b[0mget\u001b[0m\u001b[1;33m(\u001b[0m\u001b[0mtimeout\u001b[0m\u001b[1;33m=\u001b[0m\u001b[0mself\u001b[0m\u001b[1;33m.\u001b[0m\u001b[0mtimeout\u001b[0m\u001b[1;33m)\u001b[0m\u001b[1;33m)\u001b[0m\u001b[1;33m\u001b[0m\u001b[1;33m\u001b[0m\u001b[0m\n\u001b[0m\u001b[0;32m    976\u001b[0m                 \u001b[1;32melse\u001b[0m\u001b[1;33m:\u001b[0m\u001b[1;33m\u001b[0m\u001b[1;33m\u001b[0m\u001b[0m\n\u001b[0;32m    977\u001b[0m                     \u001b[0mself\u001b[0m\u001b[1;33m.\u001b[0m\u001b[0m_output\u001b[0m\u001b[1;33m.\u001b[0m\u001b[0mextend\u001b[0m\u001b[1;33m(\u001b[0m\u001b[0mjob\u001b[0m\u001b[1;33m.\u001b[0m\u001b[0mget\u001b[0m\u001b[1;33m(\u001b[0m\u001b[1;33m)\u001b[0m\u001b[1;33m)\u001b[0m\u001b[1;33m\u001b[0m\u001b[1;33m\u001b[0m\u001b[0m\n",
      "\u001b[1;32mc:\\Users\\Joan Oliver\\AppData\\Local\\Programs\\Python\\Python37\\lib\\site-packages\\joblib\\_parallel_backends.py\u001b[0m in \u001b[0;36mwrap_future_result\u001b[1;34m(future, timeout)\u001b[0m\n\u001b[0;32m    565\u001b[0m         AsyncResults.get from multiprocessing.\"\"\"\n\u001b[0;32m    566\u001b[0m         \u001b[1;32mtry\u001b[0m\u001b[1;33m:\u001b[0m\u001b[1;33m\u001b[0m\u001b[1;33m\u001b[0m\u001b[0m\n\u001b[1;32m--> 567\u001b[1;33m             \u001b[1;32mreturn\u001b[0m \u001b[0mfuture\u001b[0m\u001b[1;33m.\u001b[0m\u001b[0mresult\u001b[0m\u001b[1;33m(\u001b[0m\u001b[0mtimeout\u001b[0m\u001b[1;33m=\u001b[0m\u001b[0mtimeout\u001b[0m\u001b[1;33m)\u001b[0m\u001b[1;33m\u001b[0m\u001b[1;33m\u001b[0m\u001b[0m\n\u001b[0m\u001b[0;32m    568\u001b[0m         \u001b[1;32mexcept\u001b[0m \u001b[0mCfTimeoutError\u001b[0m \u001b[1;32mas\u001b[0m \u001b[0me\u001b[0m\u001b[1;33m:\u001b[0m\u001b[1;33m\u001b[0m\u001b[1;33m\u001b[0m\u001b[0m\n\u001b[0;32m    569\u001b[0m             \u001b[1;32mraise\u001b[0m \u001b[0mTimeoutError\u001b[0m \u001b[1;32mfrom\u001b[0m \u001b[0me\u001b[0m\u001b[1;33m\u001b[0m\u001b[1;33m\u001b[0m\u001b[0m\n",
      "\u001b[1;32mc:\\Users\\Joan Oliver\\AppData\\Local\\Programs\\Python\\Python37\\lib\\concurrent\\futures\\_base.py\u001b[0m in \u001b[0;36mresult\u001b[1;34m(self, timeout)\u001b[0m\n\u001b[0;32m    433\u001b[0m                 \u001b[1;32mraise\u001b[0m \u001b[0mCancelledError\u001b[0m\u001b[1;33m(\u001b[0m\u001b[1;33m)\u001b[0m\u001b[1;33m\u001b[0m\u001b[1;33m\u001b[0m\u001b[0m\n\u001b[0;32m    434\u001b[0m             \u001b[1;32melif\u001b[0m \u001b[0mself\u001b[0m\u001b[1;33m.\u001b[0m\u001b[0m_state\u001b[0m \u001b[1;33m==\u001b[0m \u001b[0mFINISHED\u001b[0m\u001b[1;33m:\u001b[0m\u001b[1;33m\u001b[0m\u001b[1;33m\u001b[0m\u001b[0m\n\u001b[1;32m--> 435\u001b[1;33m                 \u001b[1;32mreturn\u001b[0m \u001b[0mself\u001b[0m\u001b[1;33m.\u001b[0m\u001b[0m__get_result\u001b[0m\u001b[1;33m(\u001b[0m\u001b[1;33m)\u001b[0m\u001b[1;33m\u001b[0m\u001b[1;33m\u001b[0m\u001b[0m\n\u001b[0m\u001b[0;32m    436\u001b[0m             \u001b[1;32melse\u001b[0m\u001b[1;33m:\u001b[0m\u001b[1;33m\u001b[0m\u001b[1;33m\u001b[0m\u001b[0m\n\u001b[0;32m    437\u001b[0m                 \u001b[1;32mraise\u001b[0m \u001b[0mTimeoutError\u001b[0m\u001b[1;33m(\u001b[0m\u001b[1;33m)\u001b[0m\u001b[1;33m\u001b[0m\u001b[1;33m\u001b[0m\u001b[0m\n",
      "\u001b[1;32mc:\\Users\\Joan Oliver\\AppData\\Local\\Programs\\Python\\Python37\\lib\\concurrent\\futures\\_base.py\u001b[0m in \u001b[0;36m__get_result\u001b[1;34m(self)\u001b[0m\n\u001b[0;32m    382\u001b[0m     \u001b[1;32mdef\u001b[0m \u001b[0m__get_result\u001b[0m\u001b[1;33m(\u001b[0m\u001b[0mself\u001b[0m\u001b[1;33m)\u001b[0m\u001b[1;33m:\u001b[0m\u001b[1;33m\u001b[0m\u001b[1;33m\u001b[0m\u001b[0m\n\u001b[0;32m    383\u001b[0m         \u001b[1;32mif\u001b[0m \u001b[0mself\u001b[0m\u001b[1;33m.\u001b[0m\u001b[0m_exception\u001b[0m\u001b[1;33m:\u001b[0m\u001b[1;33m\u001b[0m\u001b[1;33m\u001b[0m\u001b[0m\n\u001b[1;32m--> 384\u001b[1;33m             \u001b[1;32mraise\u001b[0m \u001b[0mself\u001b[0m\u001b[1;33m.\u001b[0m\u001b[0m_exception\u001b[0m\u001b[1;33m\u001b[0m\u001b[1;33m\u001b[0m\u001b[0m\n\u001b[0m\u001b[0;32m    385\u001b[0m         \u001b[1;32melse\u001b[0m\u001b[1;33m:\u001b[0m\u001b[1;33m\u001b[0m\u001b[1;33m\u001b[0m\u001b[0m\n\u001b[0;32m    386\u001b[0m             \u001b[1;32mreturn\u001b[0m \u001b[0mself\u001b[0m\u001b[1;33m.\u001b[0m\u001b[0m_result\u001b[0m\u001b[1;33m\u001b[0m\u001b[1;33m\u001b[0m\u001b[0m\n",
      "\u001b[1;32mc:\\Users\\Joan Oliver\\AppData\\Local\\Programs\\Python\\Python37\\lib\\site-packages\\joblib\\externals\\loky\\_base.py\u001b[0m in \u001b[0;36m_invoke_callbacks\u001b[1;34m(self)\u001b[0m\n\u001b[0;32m     24\u001b[0m         \u001b[1;32mfor\u001b[0m \u001b[0mcallback\u001b[0m \u001b[1;32min\u001b[0m \u001b[0mself\u001b[0m\u001b[1;33m.\u001b[0m\u001b[0m_done_callbacks\u001b[0m\u001b[1;33m:\u001b[0m\u001b[1;33m\u001b[0m\u001b[1;33m\u001b[0m\u001b[0m\n\u001b[0;32m     25\u001b[0m             \u001b[1;32mtry\u001b[0m\u001b[1;33m:\u001b[0m\u001b[1;33m\u001b[0m\u001b[1;33m\u001b[0m\u001b[0m\n\u001b[1;32m---> 26\u001b[1;33m                 \u001b[0mcallback\u001b[0m\u001b[1;33m(\u001b[0m\u001b[0mself\u001b[0m\u001b[1;33m)\u001b[0m\u001b[1;33m\u001b[0m\u001b[1;33m\u001b[0m\u001b[0m\n\u001b[0m\u001b[0;32m     27\u001b[0m             \u001b[1;32mexcept\u001b[0m \u001b[0mBaseException\u001b[0m\u001b[1;33m:\u001b[0m\u001b[1;33m\u001b[0m\u001b[1;33m\u001b[0m\u001b[0m\n\u001b[0;32m     28\u001b[0m                 \u001b[0mLOGGER\u001b[0m\u001b[1;33m.\u001b[0m\u001b[0mexception\u001b[0m\u001b[1;33m(\u001b[0m\u001b[1;34mf'exception calling callback for {self!r}'\u001b[0m\u001b[1;33m)\u001b[0m\u001b[1;33m\u001b[0m\u001b[1;33m\u001b[0m\u001b[0m\n",
      "\u001b[1;32mc:\\Users\\Joan Oliver\\AppData\\Local\\Programs\\Python\\Python37\\lib\\site-packages\\joblib\\parallel.py\u001b[0m in \u001b[0;36m__call__\u001b[1;34m(self, out)\u001b[0m\n\u001b[0;32m    383\u001b[0m         \u001b[1;32mwith\u001b[0m \u001b[0mself\u001b[0m\u001b[1;33m.\u001b[0m\u001b[0mparallel\u001b[0m\u001b[1;33m.\u001b[0m\u001b[0m_lock\u001b[0m\u001b[1;33m:\u001b[0m\u001b[1;33m\u001b[0m\u001b[1;33m\u001b[0m\u001b[0m\n\u001b[0;32m    384\u001b[0m             \u001b[1;32mif\u001b[0m \u001b[0mself\u001b[0m\u001b[1;33m.\u001b[0m\u001b[0mparallel\u001b[0m\u001b[1;33m.\u001b[0m\u001b[0m_original_iterator\u001b[0m \u001b[1;32mis\u001b[0m \u001b[1;32mnot\u001b[0m \u001b[1;32mNone\u001b[0m\u001b[1;33m:\u001b[0m\u001b[1;33m\u001b[0m\u001b[1;33m\u001b[0m\u001b[0m\n\u001b[1;32m--> 385\u001b[1;33m                 \u001b[0mself\u001b[0m\u001b[1;33m.\u001b[0m\u001b[0mparallel\u001b[0m\u001b[1;33m.\u001b[0m\u001b[0mdispatch_next\u001b[0m\u001b[1;33m(\u001b[0m\u001b[1;33m)\u001b[0m\u001b[1;33m\u001b[0m\u001b[1;33m\u001b[0m\u001b[0m\n\u001b[0m\u001b[0;32m    386\u001b[0m \u001b[1;33m\u001b[0m\u001b[0m\n\u001b[0;32m    387\u001b[0m \u001b[1;33m\u001b[0m\u001b[0m\n",
      "\u001b[1;32mc:\\Users\\Joan Oliver\\AppData\\Local\\Programs\\Python\\Python37\\lib\\site-packages\\joblib\\parallel.py\u001b[0m in \u001b[0;36mdispatch_next\u001b[1;34m(self)\u001b[0m\n\u001b[0;32m    832\u001b[0m \u001b[1;33m\u001b[0m\u001b[0m\n\u001b[0;32m    833\u001b[0m         \"\"\"\n\u001b[1;32m--> 834\u001b[1;33m         \u001b[1;32mif\u001b[0m \u001b[1;32mnot\u001b[0m \u001b[0mself\u001b[0m\u001b[1;33m.\u001b[0m\u001b[0mdispatch_one_batch\u001b[0m\u001b[1;33m(\u001b[0m\u001b[0mself\u001b[0m\u001b[1;33m.\u001b[0m\u001b[0m_original_iterator\u001b[0m\u001b[1;33m)\u001b[0m\u001b[1;33m:\u001b[0m\u001b[1;33m\u001b[0m\u001b[1;33m\u001b[0m\u001b[0m\n\u001b[0m\u001b[0;32m    835\u001b[0m             \u001b[0mself\u001b[0m\u001b[1;33m.\u001b[0m\u001b[0m_iterating\u001b[0m \u001b[1;33m=\u001b[0m \u001b[1;32mFalse\u001b[0m\u001b[1;33m\u001b[0m\u001b[1;33m\u001b[0m\u001b[0m\n\u001b[0;32m    836\u001b[0m             \u001b[0mself\u001b[0m\u001b[1;33m.\u001b[0m\u001b[0m_original_iterator\u001b[0m \u001b[1;33m=\u001b[0m \u001b[1;32mNone\u001b[0m\u001b[1;33m\u001b[0m\u001b[1;33m\u001b[0m\u001b[0m\n",
      "\u001b[1;32mc:\\Users\\Joan Oliver\\AppData\\Local\\Programs\\Python\\Python37\\lib\\site-packages\\joblib\\parallel.py\u001b[0m in \u001b[0;36mdispatch_one_batch\u001b[1;34m(self, iterator)\u001b[0m\n\u001b[0;32m    899\u001b[0m                 \u001b[1;32mreturn\u001b[0m \u001b[1;32mFalse\u001b[0m\u001b[1;33m\u001b[0m\u001b[1;33m\u001b[0m\u001b[0m\n\u001b[0;32m    900\u001b[0m             \u001b[1;32melse\u001b[0m\u001b[1;33m:\u001b[0m\u001b[1;33m\u001b[0m\u001b[1;33m\u001b[0m\u001b[0m\n\u001b[1;32m--> 901\u001b[1;33m                 \u001b[0mself\u001b[0m\u001b[1;33m.\u001b[0m\u001b[0m_dispatch\u001b[0m\u001b[1;33m(\u001b[0m\u001b[0mtasks\u001b[0m\u001b[1;33m)\u001b[0m\u001b[1;33m\u001b[0m\u001b[1;33m\u001b[0m\u001b[0m\n\u001b[0m\u001b[0;32m    902\u001b[0m                 \u001b[1;32mreturn\u001b[0m \u001b[1;32mTrue\u001b[0m\u001b[1;33m\u001b[0m\u001b[1;33m\u001b[0m\u001b[0m\n\u001b[0;32m    903\u001b[0m \u001b[1;33m\u001b[0m\u001b[0m\n",
      "\u001b[1;32mc:\\Users\\Joan Oliver\\AppData\\Local\\Programs\\Python\\Python37\\lib\\site-packages\\joblib\\parallel.py\u001b[0m in \u001b[0;36m_dispatch\u001b[1;34m(self, batch)\u001b[0m\n\u001b[0;32m    817\u001b[0m         \u001b[1;32mwith\u001b[0m \u001b[0mself\u001b[0m\u001b[1;33m.\u001b[0m\u001b[0m_lock\u001b[0m\u001b[1;33m:\u001b[0m\u001b[1;33m\u001b[0m\u001b[1;33m\u001b[0m\u001b[0m\n\u001b[0;32m    818\u001b[0m             \u001b[0mjob_idx\u001b[0m \u001b[1;33m=\u001b[0m \u001b[0mlen\u001b[0m\u001b[1;33m(\u001b[0m\u001b[0mself\u001b[0m\u001b[1;33m.\u001b[0m\u001b[0m_jobs\u001b[0m\u001b[1;33m)\u001b[0m\u001b[1;33m\u001b[0m\u001b[1;33m\u001b[0m\u001b[0m\n\u001b[1;32m--> 819\u001b[1;33m             \u001b[0mjob\u001b[0m \u001b[1;33m=\u001b[0m \u001b[0mself\u001b[0m\u001b[1;33m.\u001b[0m\u001b[0m_backend\u001b[0m\u001b[1;33m.\u001b[0m\u001b[0mapply_async\u001b[0m\u001b[1;33m(\u001b[0m\u001b[0mbatch\u001b[0m\u001b[1;33m,\u001b[0m \u001b[0mcallback\u001b[0m\u001b[1;33m=\u001b[0m\u001b[0mcb\u001b[0m\u001b[1;33m)\u001b[0m\u001b[1;33m\u001b[0m\u001b[1;33m\u001b[0m\u001b[0m\n\u001b[0m\u001b[0;32m    820\u001b[0m             \u001b[1;31m# A job can complete so quickly than its callback is\u001b[0m\u001b[1;33m\u001b[0m\u001b[1;33m\u001b[0m\u001b[1;33m\u001b[0m\u001b[0m\n\u001b[0;32m    821\u001b[0m             \u001b[1;31m# called before we get here, causing self._jobs to\u001b[0m\u001b[1;33m\u001b[0m\u001b[1;33m\u001b[0m\u001b[1;33m\u001b[0m\u001b[0m\n",
      "\u001b[1;32mc:\\Users\\Joan Oliver\\AppData\\Local\\Programs\\Python\\Python37\\lib\\site-packages\\joblib\\_parallel_backends.py\u001b[0m in \u001b[0;36mapply_async\u001b[1;34m(self, func, callback)\u001b[0m\n\u001b[0;32m    554\u001b[0m     \u001b[1;32mdef\u001b[0m \u001b[0mapply_async\u001b[0m\u001b[1;33m(\u001b[0m\u001b[0mself\u001b[0m\u001b[1;33m,\u001b[0m \u001b[0mfunc\u001b[0m\u001b[1;33m,\u001b[0m \u001b[0mcallback\u001b[0m\u001b[1;33m=\u001b[0m\u001b[1;32mNone\u001b[0m\u001b[1;33m)\u001b[0m\u001b[1;33m:\u001b[0m\u001b[1;33m\u001b[0m\u001b[1;33m\u001b[0m\u001b[0m\n\u001b[0;32m    555\u001b[0m         \u001b[1;34m\"\"\"Schedule a func to be run\"\"\"\u001b[0m\u001b[1;33m\u001b[0m\u001b[1;33m\u001b[0m\u001b[0m\n\u001b[1;32m--> 556\u001b[1;33m         \u001b[0mfuture\u001b[0m \u001b[1;33m=\u001b[0m \u001b[0mself\u001b[0m\u001b[1;33m.\u001b[0m\u001b[0m_workers\u001b[0m\u001b[1;33m.\u001b[0m\u001b[0msubmit\u001b[0m\u001b[1;33m(\u001b[0m\u001b[0mSafeFunction\u001b[0m\u001b[1;33m(\u001b[0m\u001b[0mfunc\u001b[0m\u001b[1;33m)\u001b[0m\u001b[1;33m)\u001b[0m\u001b[1;33m\u001b[0m\u001b[1;33m\u001b[0m\u001b[0m\n\u001b[0m\u001b[0;32m    557\u001b[0m         \u001b[0mfuture\u001b[0m\u001b[1;33m.\u001b[0m\u001b[0mget\u001b[0m \u001b[1;33m=\u001b[0m \u001b[0mfunctools\u001b[0m\u001b[1;33m.\u001b[0m\u001b[0mpartial\u001b[0m\u001b[1;33m(\u001b[0m\u001b[0mself\u001b[0m\u001b[1;33m.\u001b[0m\u001b[0mwrap_future_result\u001b[0m\u001b[1;33m,\u001b[0m \u001b[0mfuture\u001b[0m\u001b[1;33m)\u001b[0m\u001b[1;33m\u001b[0m\u001b[1;33m\u001b[0m\u001b[0m\n\u001b[0;32m    558\u001b[0m         \u001b[1;32mif\u001b[0m \u001b[0mcallback\u001b[0m \u001b[1;32mis\u001b[0m \u001b[1;32mnot\u001b[0m \u001b[1;32mNone\u001b[0m\u001b[1;33m:\u001b[0m\u001b[1;33m\u001b[0m\u001b[1;33m\u001b[0m\u001b[0m\n",
      "\u001b[1;32mc:\\Users\\Joan Oliver\\AppData\\Local\\Programs\\Python\\Python37\\lib\\site-packages\\joblib\\externals\\loky\\reusable_executor.py\u001b[0m in \u001b[0;36msubmit\u001b[1;34m(self, fn, *args, **kwargs)\u001b[0m\n\u001b[0;32m    174\u001b[0m     \u001b[1;32mdef\u001b[0m \u001b[0msubmit\u001b[0m\u001b[1;33m(\u001b[0m\u001b[0mself\u001b[0m\u001b[1;33m,\u001b[0m \u001b[0mfn\u001b[0m\u001b[1;33m,\u001b[0m \u001b[1;33m*\u001b[0m\u001b[0margs\u001b[0m\u001b[1;33m,\u001b[0m \u001b[1;33m**\u001b[0m\u001b[0mkwargs\u001b[0m\u001b[1;33m)\u001b[0m\u001b[1;33m:\u001b[0m\u001b[1;33m\u001b[0m\u001b[1;33m\u001b[0m\u001b[0m\n\u001b[0;32m    175\u001b[0m         \u001b[1;32mwith\u001b[0m \u001b[0mself\u001b[0m\u001b[1;33m.\u001b[0m\u001b[0m_submit_resize_lock\u001b[0m\u001b[1;33m:\u001b[0m\u001b[1;33m\u001b[0m\u001b[1;33m\u001b[0m\u001b[0m\n\u001b[1;32m--> 176\u001b[1;33m             \u001b[1;32mreturn\u001b[0m \u001b[0msuper\u001b[0m\u001b[1;33m(\u001b[0m\u001b[1;33m)\u001b[0m\u001b[1;33m.\u001b[0m\u001b[0msubmit\u001b[0m\u001b[1;33m(\u001b[0m\u001b[0mfn\u001b[0m\u001b[1;33m,\u001b[0m \u001b[1;33m*\u001b[0m\u001b[0margs\u001b[0m\u001b[1;33m,\u001b[0m \u001b[1;33m**\u001b[0m\u001b[0mkwargs\u001b[0m\u001b[1;33m)\u001b[0m\u001b[1;33m\u001b[0m\u001b[1;33m\u001b[0m\u001b[0m\n\u001b[0m\u001b[0;32m    177\u001b[0m \u001b[1;33m\u001b[0m\u001b[0m\n\u001b[0;32m    178\u001b[0m     \u001b[1;32mdef\u001b[0m \u001b[0m_resize\u001b[0m\u001b[1;33m(\u001b[0m\u001b[0mself\u001b[0m\u001b[1;33m,\u001b[0m \u001b[0mmax_workers\u001b[0m\u001b[1;33m)\u001b[0m\u001b[1;33m:\u001b[0m\u001b[1;33m\u001b[0m\u001b[1;33m\u001b[0m\u001b[0m\n",
      "\u001b[1;32mc:\\Users\\Joan Oliver\\AppData\\Local\\Programs\\Python\\Python37\\lib\\site-packages\\joblib\\externals\\loky\\process_executor.py\u001b[0m in \u001b[0;36msubmit\u001b[1;34m(self, fn, *args, **kwargs)\u001b[0m\n\u001b[0;32m   1127\u001b[0m         \u001b[1;32mwith\u001b[0m \u001b[0mself\u001b[0m\u001b[1;33m.\u001b[0m\u001b[0m_flags\u001b[0m\u001b[1;33m.\u001b[0m\u001b[0mshutdown_lock\u001b[0m\u001b[1;33m:\u001b[0m\u001b[1;33m\u001b[0m\u001b[1;33m\u001b[0m\u001b[0m\n\u001b[0;32m   1128\u001b[0m             \u001b[1;32mif\u001b[0m \u001b[0mself\u001b[0m\u001b[1;33m.\u001b[0m\u001b[0m_flags\u001b[0m\u001b[1;33m.\u001b[0m\u001b[0mbroken\u001b[0m \u001b[1;32mis\u001b[0m \u001b[1;32mnot\u001b[0m \u001b[1;32mNone\u001b[0m\u001b[1;33m:\u001b[0m\u001b[1;33m\u001b[0m\u001b[1;33m\u001b[0m\u001b[0m\n\u001b[1;32m-> 1129\u001b[1;33m                 \u001b[1;32mraise\u001b[0m \u001b[0mself\u001b[0m\u001b[1;33m.\u001b[0m\u001b[0m_flags\u001b[0m\u001b[1;33m.\u001b[0m\u001b[0mbroken\u001b[0m\u001b[1;33m\u001b[0m\u001b[1;33m\u001b[0m\u001b[0m\n\u001b[0m\u001b[0;32m   1130\u001b[0m             \u001b[1;32mif\u001b[0m \u001b[0mself\u001b[0m\u001b[1;33m.\u001b[0m\u001b[0m_flags\u001b[0m\u001b[1;33m.\u001b[0m\u001b[0mshutdown\u001b[0m\u001b[1;33m:\u001b[0m\u001b[1;33m\u001b[0m\u001b[1;33m\u001b[0m\u001b[0m\n\u001b[0;32m   1131\u001b[0m                 raise ShutdownExecutorError(\n",
      "\u001b[1;31mTerminatedWorkerError\u001b[0m: A worker process managed by the executor was unexpectedly terminated. This could be caused by a segmentation fault while calling the function or by an excessive memory usage causing the Operating System to kill the worker.\n"
     ]
    }
   ],
   "source": [
    "models_gridsearch = {}\n",
    "\n",
    "for i in grid_models:\n",
    "    models_gridsearch[i[0]] = GridSearchCV(i[1],\n",
    "                                          i[2],\n",
    "                                          cv=10,\n",
    "                                          scoring=\"accuracy\",\n",
    "                                          verbose=1,\n",
    "                                          n_jobs=-1)\n",
    "    \n",
    "    models_gridsearch[i[0]].fit(X_train, y_train)"
   ]
  },
  {
   "cell_type": "code",
   "execution_count": 103,
   "metadata": {},
   "outputs": [],
   "source": [
    "data_df = pd.read_csv(r'C:\\Users\\Joan Oliver\\Documents\\GitHub\\Economic_Market_Forecasting\\Economic_Market_Forecasting\\EMF_webapp\\src\\data\\processed\\markets\\market_rets.csv')"
   ]
  },
  {
   "cell_type": "code",
   "execution_count": 105,
   "metadata": {},
   "outputs": [],
   "source": [
    "data_df.set_index(\"Date\", inplace=True)"
   ]
  },
  {
   "cell_type": "code",
   "execution_count": 106,
   "metadata": {},
   "outputs": [],
   "source": [
    "df = data_df[[\"SP500\"]]"
   ]
  },
  {
   "cell_type": "code",
   "execution_count": 2,
   "metadata": {},
   "outputs": [],
   "source": [
    "import pandas as pd"
   ]
  },
  {
   "cell_type": "code",
   "execution_count": 16,
   "metadata": {},
   "outputs": [],
   "source": [
    "data = pd.read_csv(r'C:\\Users\\Joan Oliver\\Documents\\GitHub\\Economic_Market_Forecasting\\Economic_Market_Forecasting\\EMF_webapp\\EMF_project\\data\\SP500_data.csv')\n",
    "data.set_index(\"Date\", inplace=True)\n",
    "data.index = pd.to_datetime(data.index)\n",
    "data = data.cumsum().resample(\"M\").last()\n",
    "df1 = data.index.tolist()\n",
    "df2 = data.SP500.tolist()\n",
    "mydict = {\n",
    "'df1': df1,\n",
    "'df2': df2\n",
    "}"
   ]
  },
  {
   "cell_type": "code",
   "execution_count": 24,
   "metadata": {},
   "outputs": [],
   "source": [
    "data = pd.read_csv(r'C:\\Users\\Joan Oliver\\Documents\\GitHub\\Economic_Market_Forecasting\\Economic_Market_Forecasting\\EMF_webapp\\EMF_project\\data\\SP500_data.csv')\n",
    "data.set_index(\"Date\", inplace=True)\n",
    "data.index = pd.to_datetime(data.index)\n",
    "data = data.cumsum().resample(\"M\").last()\n",
    "df2 = data[[\"SP500\"]].to_json(orient=\"records\")\n",
    "mydict = {\n",
    "'df2': df2\n",
    "}"
   ]
  },
  {
   "cell_type": "code",
   "execution_count": 33,
   "metadata": {},
   "outputs": [
    {
     "ename": "ModuleNotFoundError",
     "evalue": "No module named 'Economic_Market_Forecasting'",
     "output_type": "error",
     "traceback": [
      "\u001b[1;31m---------------------------------------------------------------------------\u001b[0m",
      "\u001b[1;31mModuleNotFoundError\u001b[0m                       Traceback (most recent call last)",
      "\u001b[1;32m~\\AppData\\Local\\Temp\\ipykernel_15904\\2544959282.py\u001b[0m in \u001b[0;36m<module>\u001b[1;34m\u001b[0m\n\u001b[1;32m----> 1\u001b[1;33m \u001b[1;32mfrom\u001b[0m \u001b[0mEconomic_Market_Forecasting\u001b[0m\u001b[1;33m.\u001b[0m\u001b[0mEMF_webapp\u001b[0m\u001b[1;33m.\u001b[0m\u001b[0mEMF_project\u001b[0m\u001b[1;33m.\u001b[0m\u001b[0mEMF_app\u001b[0m\u001b[1;33m.\u001b[0m\u001b[0mmodels\u001b[0m \u001b[1;32mimport\u001b[0m \u001b[1;33m*\u001b[0m\u001b[1;33m\u001b[0m\u001b[1;33m\u001b[0m\u001b[0m\n\u001b[0m",
      "\u001b[1;31mModuleNotFoundError\u001b[0m: No module named 'Economic_Market_Forecasting'"
     ]
    }
   ],
   "source": [
    "from Economic_Market_Forecasting.EMF_webapp.EMF_project.EMF_app.models import *"
   ]
  },
  {
   "cell_type": "code",
   "execution_count": 30,
   "metadata": {},
   "outputs": [],
   "source": [
    "data = pd.read_csv(r'C:\\Users\\Joan Oliver\\Documents\\GitHub\\Economic_Market_Forecasting\\Economic_Market_Forecasting\\EMF_webapp\\EMF_project\\data\\SP500_data.csv')\n",
    "data.set_index(\"Date\", inplace=True)\n",
    "data.index = pd.to_datetime(data.index)\n",
    "data = data.cumsum().resample(\"M\").last()\n",
    "df1 = data.index.tolist()\n",
    "df2 = data.SP500.tolist()\n",
    "mydict = {\n",
    "'df1': df1,\n",
    "'df2': df2\n",
    "}"
   ]
  },
  {
   "cell_type": "code",
   "execution_count": 40,
   "metadata": {},
   "outputs": [],
   "source": [
    "data = pd.read_csv(r'C:\\Users\\Joan Oliver\\Documents\\GitHub\\Economic_Market_Forecasting\\Economic_Market_Forecasting\\EMF_webapp\\EMF_project\\data\\SP500_data.csv')\n",
    "data.set_index(\"Date\", inplace=True)\n",
    "data.index = pd.to_datetime(data.index)\n",
    "data = data.cumsum().resample(\"M\").last()\n",
    "data.index = data.index.strftime('%m/%d/%Y, %r')\n",
    "data[\"Date\"] = data.index\n",
    "df1 = data.index.tolist()\n",
    "df2 = data.SP500.tolist()\n",
    "mydict = {\n",
    "'df1': df1,\n",
    "'df2': df2\n",
    "}\n",
    "data_json = data.to_json(orient=\"records\")"
   ]
  },
  {
   "cell_type": "code",
   "execution_count": 41,
   "metadata": {},
   "outputs": [
    {
     "data": {
      "text/plain": [
       "'[{\"SP500\":0.0182813231,\"SP500_Prediction\":0.0098717836,\"Dow_Jones\":0.0104633232,\"Date\":1582934400000},{\"SP500\":-0.0066256394,\"SP500_Prediction\":0.0113081829,\"Dow_Jones\":0.0143611054,\"Date\":1585612800000},{\"SP500\":-0.0264497302,\"SP500_Prediction\":-0.0330804165,\"Dow_Jones\":-0.0310940965,\"Date\":1588204800000},{\"SP500\":0.0480278253,\"SP500_Prediction\":0.0312877588,\"Dow_Jones\":0.0397394598,\"Date\":1590883200000},{\"SP500\":0.0411999549,\"SP500_Prediction\":0.0127763831,\"Dow_Jones\":0.031471933,\"Date\":1593475200000},{\"SP500\":0.1093529765,\"SP500_Prediction\":0.0712354093,\"Dow_Jones\":0.0886901942,\"Date\":1596153600000},{\"SP500\":0.1989031714,\"SP500_Prediction\":0.1523029344,\"Dow_Jones\":0.172001575,\"Date\":1598832000000},{\"SP500\":0.1391614133,\"SP500_Prediction\":0.1013573455,\"Dow_Jones\":0.121094784,\"Date\":1601424000000},{\"SP500\":0.190597404,\"SP500_Prediction\":0.1423248854,\"Dow_Jones\":0.1642037608,\"Date\":1604102400000},{\"SP500\":0.167324789,\"SP500_Prediction\":0.2098927643,\"Dow_Jones\":0.2265770058,\"Date\":1606694400000},{\"SP500\":0.1863906883,\"SP500_Prediction\":0.2213942959,\"Dow_Jones\":0.2378539749,\"Date\":1609372800000},{\"SP500\":0.190425444,\"SP500_Prediction\":0.2182478414,\"Dow_Jones\":0.2317535815,\"Date\":1612051200000},{\"SP500\":0.2193673372,\"SP500_Prediction\":0.2550198861,\"Dow_Jones\":0.266270175,\"Date\":1614470400000},{\"SP500\":0.2634557255,\"SP500_Prediction\":0.3308563459,\"Dow_Jones\":0.3355723531,\"Date\":1617148800000},{\"SP500\":0.3150826933,\"SP500_Prediction\":0.3613726498,\"Dow_Jones\":0.3654417799,\"Date\":1619740800000},{\"SP500\":0.3232069073,\"SP500_Prediction\":0.3848433859,\"Dow_Jones\":0.3831613011,\"Date\":1622419200000},{\"SP500\":0.342590978,\"SP500_Prediction\":0.3866110305,\"Dow_Jones\":0.3823900584,\"Date\":1625011200000},{\"SP500\":0.3737477414,\"SP500_Prediction\":0.4063626554,\"Dow_Jones\":0.4007206962,\"Date\":1627689600000},{\"SP500\":0.3971244145,\"SP500_Prediction\":0.4239001248,\"Dow_Jones\":0.4139910511,\"Date\":1630368000000},{\"SP500\":0.3863388538,\"SP500_Prediction\":0.4078031451,\"Dow_Jones\":0.397275605,\"Date\":1632960000000},{\"SP500\":0.4209739553,\"SP500_Prediction\":0.4375706588,\"Dow_Jones\":0.4273190006,\"Date\":1635638400000},{\"SP500\":0.4208021202,\"SP500_Prediction\":0.417708948,\"Dow_Jones\":0.4036145121,\"Date\":1638230400000},{\"SP500\":0.4505819299,\"SP500_Prediction\":0.4556299331,\"Dow_Jones\":0.4357478758,\"Date\":1640908800000},{\"SP500\":0.3897563167,\"SP500_Prediction\":0.4265394395,\"Dow_Jones\":0.4031002413,\"Date\":1643587200000},{\"SP500\":0.3806273956,\"SP500_Prediction\":0.4120895735,\"Dow_Jones\":0.3857544633,\"Date\":1646006400000},{\"SP500\":0.4197535905,\"SP500_Prediction\":0.4385420628,\"Dow_Jones\":0.4129052463,\"Date\":1648684800000},{\"SP500\":0.3597586992,\"SP500_Prediction\":0.4134984357,\"Dow_Jones\":0.3835548979,\"Date\":1651276800000},{\"SP500\":0.3374999327,\"SP500_Prediction\":0.3880270816,\"Dow_Jones\":0.3702882424,\"Date\":1653955200000},{\"SP500\":0.2844531329,\"SP500_Prediction\":0.339323368,\"Dow_Jones\":0.3235952937,\"Date\":1656547200000},{\"SP500\":0.3408086787,\"SP500_Prediction\":0.3789428384,\"Dow_Jones\":0.3671768908,\"Date\":1659225600000},{\"SP500\":0.3258844333,\"SP500_Prediction\":0.3651151358,\"Dow_Jones\":0.352863664,\"Date\":1661904000000},{\"SP500\":0.2367230291,\"SP500_Prediction\":0.2857001654,\"Dow_Jones\":0.270437442,\"Date\":1664496000000},{\"SP500\":0.2948748919,\"SP500_Prediction\":0.3851162886,\"Dow_Jones\":0.3793145022,\"Date\":1667174400000},{\"SP500\":0.3308719199,\"SP500_Prediction\":0.4363485777,\"Dow_Jones\":0.4269269472,\"Date\":1669766400000},{\"SP500\":0.2868425861,\"SP500_Prediction\":0.4035850626,\"Dow_Jones\":0.3954284166,\"Date\":1672444800000},{\"SP500\":0.2855889356,\"SP500_Prediction\":0.402036249,\"Dow_Jones\":0.3936208589,\"Date\":1675123200000}]'"
      ]
     },
     "execution_count": 41,
     "metadata": {},
     "output_type": "execute_result"
    }
   ],
   "source": [
    "data_json"
   ]
  },
  {
   "cell_type": "code",
   "execution_count": 28,
   "metadata": {},
   "outputs": [
    {
     "data": {
      "text/plain": [
       "'[{\"SP500\":0.0182813231},{\"SP500\":-0.0066256394},{\"SP500\":-0.0264497302},{\"SP500\":0.0480278253},{\"SP500\":0.0411999549},{\"SP500\":0.1093529765},{\"SP500\":0.1989031714},{\"SP500\":0.1391614133},{\"SP500\":0.190597404},{\"SP500\":0.167324789},{\"SP500\":0.1863906883},{\"SP500\":0.190425444},{\"SP500\":0.2193673372},{\"SP500\":0.2634557255},{\"SP500\":0.3150826933},{\"SP500\":0.3232069073},{\"SP500\":0.342590978},{\"SP500\":0.3737477414},{\"SP500\":0.3971244145},{\"SP500\":0.3863388538},{\"SP500\":0.4209739553},{\"SP500\":0.4208021202},{\"SP500\":0.4505819299},{\"SP500\":0.3897563167},{\"SP500\":0.3806273956},{\"SP500\":0.4197535905},{\"SP500\":0.3597586992},{\"SP500\":0.3374999327},{\"SP500\":0.2844531329},{\"SP500\":0.3408086787},{\"SP500\":0.3258844333},{\"SP500\":0.2367230291},{\"SP500\":0.2948748919},{\"SP500\":0.3308719199},{\"SP500\":0.2868425861},{\"SP500\":0.2855889356}]'"
      ]
     },
     "execution_count": 28,
     "metadata": {},
     "output_type": "execute_result"
    }
   ],
   "source": [
    "data[[\"SP500\"]].to_json(orient=\"records\")"
   ]
  },
  {
   "cell_type": "code",
   "execution_count": null,
   "metadata": {},
   "outputs": [],
   "source": [
    "# model.fit(X_train, y_train)\n",
    "# y_pred = model.predict(X_test)\n",
    "# score = model.score(X_train, y_train)\n",
    "# mse = mean_squared_error(y_test, y_pred)\n",
    "# r2 = r2_score(y_test, y_pred)\n",
    "# # print(\"score \"+name+\" \"+str(round(score,5)))\n",
    "# # print(\"mse \"+name+\" \"+str(round(mse,5)))\n",
    "# # print(\"r2 \"+name+\" \"+str(round(r2,5)))\n",
    "# model_scores_dict[name] = score\n",
    "# model_mse_dict[name] = mse\n",
    "# model_r2_dict[name] = r2"
   ]
  },
  {
   "cell_type": "code",
   "execution_count": null,
   "metadata": {},
   "outputs": [],
   "source": [
    "# plt.scatter(X_train, y_train, color='blue', label='Training Data')\n",
    "plt.figure()\n",
    "plt.plot(y_test.cumsum(), linewidth=2, label=target)\n",
    "plt.plot(y_pred.cumsum(), color='red', linewidth=2, label='Regression Line')\n",
    "plt.xlabel('X (Input Feature)')\n",
    "plt.ylabel('y (Target)')\n",
    "plt.title('Linear Regression - Training Data')\n",
    "plt.legend()\n",
    "plt.show()"
   ]
  },
  {
   "cell_type": "code",
   "execution_count": null,
   "metadata": {},
   "outputs": [],
   "source": [
    "X_train_fi, X_test_fi, y_train_fi, y_test_fi = econ_ml.train_test_split_data(data=df_top_data, target_col=target, test_size=0.15)"
   ]
  },
  {
   "cell_type": "code",
   "execution_count": null,
   "metadata": {},
   "outputs": [],
   "source": [
    "baseline_models = econ_ml.define_baseline_models()\n",
    "model_results_fi = pd.DataFrame()\n",
    "model_scores_dict = {}\n",
    "model_mse_dict = {}\n",
    "model_r2_dict = {}\n",
    "\n",
    "for name, model in baseline_models.items():\n",
    "    print(\"Processing \"+name)\n",
    "    if name == \"PolynomialFeatures\":\n",
    "        pass\n",
    "    else:\n",
    "        model.fit(X_train_fi, y_train_fi)\n",
    "        y_pred = model.predict(X_test_fi)\n",
    "        score = model.score(X_train_fi, y_train_fi)\n",
    "        mse = mean_squared_error(y_test_fi, y_pred)\n",
    "        r2 = r2_score(y_test_fi, y_pred)\n",
    "        print(\"score \"+name+\" \"+str(round(score,5)))\n",
    "        print(\"mse \"+name+\" \"+str(round(mse,5)))\n",
    "        print(\"r2 \"+name+\" \"+str(round(r2,5)))\n",
    "        model_scores_dict[name] = score\n",
    "        model_mse_dict[name] = mse\n",
    "        model_r2_dict[name] = r2\n",
    "        \n",
    "\n",
    "model_results_fi = model_results_fi.append([model_scores_dict,model_mse_dict,model_r2_dict], ignore_index=True).T.sort_values(by=0, ascending=False)\n",
    "model_results_fi.columns = [\"score\",\"mse\",\"r2\"]\n",
    "model_results_fi[\"rmse\"] = np.sqrt(model_results_fi[\"mse\"])"
   ]
  },
  {
   "cell_type": "code",
   "execution_count": null,
   "metadata": {},
   "outputs": [],
   "source": [
    "model_results"
   ]
  },
  {
   "cell_type": "code",
   "execution_count": null,
   "metadata": {},
   "outputs": [],
   "source": [
    "model_results_fi"
   ]
  },
  {
   "attachments": {},
   "cell_type": "markdown",
   "metadata": {},
   "source": [
    "### Scaling the data"
   ]
  },
  {
   "cell_type": "code",
   "execution_count": null,
   "metadata": {},
   "outputs": [],
   "source": [
    "X_train_scale, X_test_scale = econ_ml.scaler(X_train=X_train, X_test=X_test)"
   ]
  },
  {
   "attachments": {},
   "cell_type": "markdown",
   "metadata": {},
   "source": [
    "## Performing Machine Learning"
   ]
  },
  {
   "cell_type": "code",
   "execution_count": null,
   "metadata": {},
   "outputs": [],
   "source": [
    "def lstm_model(epochs,batch_size,validation_split):\n",
    "    # LSTM model\n",
    "    lstm_model = Sequential()\n",
    "    lstm_model.add(LSTM(units=64, return_sequences=True, activation='relu', input_shape=(X_train.shape[1], 1)))\n",
    "    lstm_model.add(LSTM(32))\n",
    "    lstm_model.add(Dense(units=1))\n",
    "    lstm_model.compile(optimizer='adam', loss='mse')\n",
    "    lstm_model.fit(X_train_scale, y_train, epochs=epochs, batch_size=batch_size, validation_split=validation_split)\n",
    "    return lstm_model\n",
    "\n",
    "def gru_model(epochs,batch_size,validation_split):\n",
    "    # gru model\n",
    "    gru_model = Sequential()\n",
    "    gru_model.add(GRU(units=64, return_sequences=True, activation='relu', input_shape=(X_train.shape[1], 1)))\n",
    "    gru_model.add(GRU(32))\n",
    "    gru_model.add(Dense(units=1))\n",
    "    gru_model.compile(optimizer='adam', loss='mse')\n",
    "    gru_model.fit(X_train_scale, y_train, epochs=epochs, batch_size=batch_size, validation_split=validation_split)\n",
    "    return gru_model\n",
    "\n",
    "def cnn_model(epochs,batch_size,validation_split):\n",
    "    # cnn model\n",
    "    cnn_model = Sequential()\n",
    "    cnn_model.add(Conv1D(filters=64, kernel_size=3, activation='relu', input_shape=(X_train.shape[1], 1)))\n",
    "    cnn_model.add(Flatten())\n",
    "    cnn_model.add(Dense(units=1))\n",
    "    cnn_model.compile(optimizer='adam', loss='mse')\n",
    "    cnn_model.fit(X_train_scale, y_train, epochs=epochs, batch_size=batch_size, validation_split=validation_split)\n",
    "    return cnn_model\n"
   ]
  },
  {
   "cell_type": "code",
   "execution_count": null,
   "metadata": {},
   "outputs": [],
   "source": [
    "models = {\n",
    "    \"LSTM\":lstm_model(epochs=15,batch_size=16,validation_split=0.2),\n",
    "    \"GRU\":gru_model(epochs=15,batch_size=16,validation_split=0.2),\n",
    "    \"CNN\":cnn_model(epochs=15,batch_size=16,validation_split=0.2)\n",
    "}"
   ]
  },
  {
   "cell_type": "code",
   "execution_count": null,
   "metadata": {},
   "outputs": [],
   "source": [
    "model_eval = {}\n",
    "for name, model in models.items():\n",
    "    loss_score = model.evaluate(X_test, y_test)\n",
    "    print(f\"Evaluate the model: {name}: {loss_score}\")\n",
    "    model_eval[name] = loss_score\n",
    "    # model.evaluate(X_test, y_test)\n",
    "model_eval_df = pd.DataFrame(model_eval.values(), index=model_eval.keys()).sort_values(by=0, ascending=True)\n",
    "for name, model in models.items():\n",
    "    print(f\"Review of model: {name}\")\n",
    "    # if name != \"CNN\":\n",
    "    try:\n",
    "        df_history = pd.DataFrame({\"Loss\":model.history.history['loss'], \"Val_Loss\":model.history.history['val_loss']})\n",
    "        df_history.plot(figsize=(10, 6), title=name)\n",
    "    except:\n",
    "        pass\n",
    "    pred = model.predict(X_test)\n",
    "    predictions = pd.DataFrame(pred, index=y_test.index)\n",
    "    predictions.index = pd.to_datetime(predictions.index)\n",
    "    predictions.columns = [target+\"_Pred\"]\n",
    "\n",
    "    model.save(f'models\\models\\{name}_best_model.h5')\n",
    "    model.save_weights(f'models\\weights\\{name}_best_model.h5') \n",
    "\n",
    "    y_test.index = pd.to_datetime(y_test.index)\n",
    "    EMF_forecast = pd.concat([y_test, predictions], axis=1).cumsum()\n",
    "    # print(model.summary())\n",
    "    plt.figure(figsize=(10, 6))\n",
    "    plt.title(f\"{name} -> {X_test.index[0]} - {X_test.index[-1]}\")\n",
    "    plt.plot(EMF_forecast, label=EMF_forecast.columns)\n",
    "    plt.legend()"
   ]
  },
  {
   "cell_type": "code",
   "execution_count": null,
   "metadata": {},
   "outputs": [],
   "source": [
    "model_eval_df.columns = [\"mse\"]\n",
    "model_eval_df[\"rmse\"] = np.sqrt(model_eval_df[\"mse\"])"
   ]
  },
  {
   "cell_type": "code",
   "execution_count": null,
   "metadata": {},
   "outputs": [],
   "source": [
    "all_model_results = pd.concat([model_eval_df,model_results], axis=0).sort_values(by='rmse', ascending=True)\n",
    "best_model = all_model_results.iloc[0]\n",
    "if name == best_model.name:\n",
    "    EMF_forecast.to_csv(r\"C:\\Users\\Joan Oliver\\Documents\\GitHub\\Economic_Market_Forecasting\\Economic_Market_Forecasting\\EMF_webapp\\EMF_project\"+f\"\\EMF_forecast_{target}.csv\")"
   ]
  },
  {
   "cell_type": "code",
   "execution_count": null,
   "metadata": {},
   "outputs": [],
   "source": []
  }
 ],
 "metadata": {
  "kernelspec": {
   "display_name": "Python 3",
   "language": "python",
   "name": "python3"
  },
  "language_info": {
   "codemirror_mode": {
    "name": "ipython",
    "version": 3
   },
   "file_extension": ".py",
   "mimetype": "text/x-python",
   "name": "python",
   "nbconvert_exporter": "python",
   "pygments_lexer": "ipython3",
   "version": "3.7.4"
  },
  "orig_nbformat": 4
 },
 "nbformat": 4,
 "nbformat_minor": 2
}
